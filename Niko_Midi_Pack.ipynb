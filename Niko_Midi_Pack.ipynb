{
  "nbformat": 4,
  "nbformat_minor": 0,
  "metadata": {
    "colab": {
      "provenance": [],
      "collapsed_sections": [],
      "toc_visible": true,
      "machine_shape": "hm",
      "authorship_tag": "ABX9TyP7zLYgDd/hz5W+L94plP96",
      "include_colab_link": true
    },
    "kernelspec": {
      "name": "python3",
      "display_name": "Python 3"
    },
    "language_info": {
      "name": "python"
    },
    "accelerator": "GPU"
  },
  "cells": [
    {
      "cell_type": "markdown",
      "metadata": {
        "id": "view-in-github",
        "colab_type": "text"
      },
      "source": [
        "<a href=\"https://colab.research.google.com/github/zent2500/BiLSTM-music/blob/main/Niko_Midi_Pack.ipynb\" target=\"_parent\"><img src=\"https://colab.research.google.com/assets/colab-badge.svg\" alt=\"Open In Colab\"/></a>"
      ]
    },
    {
      "cell_type": "markdown",
      "source": [
        "## Colab을 위한 작업\n",
        "---"
      ],
      "metadata": {
        "id": "TrEZCnS40PLs"
      }
    },
    {
      "cell_type": "markdown",
      "source": [
        "### 추가 라이브러리 설치 및 업데이트"
      ],
      "metadata": {
        "id": "QwJUNM89Gfvu"
      }
    },
    {
      "cell_type": "code",
      "source": [
        "!pip install --upgrade music21\n",
        "!pip install tensorflow\n",
        "!pip install keras_self_attention"
      ],
      "metadata": {
        "colab": {
          "base_uri": "https://localhost:8080/"
        },
        "id": "9FWHu2MP5__b",
        "outputId": "2435e6a5-72b3-441f-9ee4-9b44a4fcd551"
      },
      "execution_count": null,
      "outputs": [
        {
          "output_type": "stream",
          "name": "stdout",
          "text": [
            "Looking in indexes: https://pypi.org/simple, https://us-python.pkg.dev/colab-wheels/public/simple/\n",
            "Requirement already satisfied: music21 in /usr/local/lib/python3.7/dist-packages (5.5.0)\n",
            "Collecting music21\n",
            "  Downloading music21-7.3.3-py3-none-any.whl (22.4 MB)\n",
            "\u001b[K     |████████████████████████████████| 22.4 MB 40.3 MB/s \n",
            "\u001b[?25hRequirement already satisfied: joblib in /usr/local/lib/python3.7/dist-packages (from music21) (1.1.0)\n",
            "Requirement already satisfied: chardet in /usr/local/lib/python3.7/dist-packages (from music21) (3.0.4)\n",
            "Collecting webcolors>=1.5\n",
            "  Downloading webcolors-1.12-py3-none-any.whl (9.9 kB)\n",
            "Requirement already satisfied: matplotlib in /usr/local/lib/python3.7/dist-packages (from music21) (3.2.2)\n",
            "Requirement already satisfied: numpy in /usr/local/lib/python3.7/dist-packages (from music21) (1.21.6)\n",
            "Requirement already satisfied: more-itertools in /usr/local/lib/python3.7/dist-packages (from music21) (8.14.0)\n",
            "Collecting jsonpickle\n",
            "  Downloading jsonpickle-2.2.0-py2.py3-none-any.whl (39 kB)\n",
            "Requirement already satisfied: importlib-metadata in /usr/local/lib/python3.7/dist-packages (from jsonpickle->music21) (4.12.0)\n",
            "Requirement already satisfied: typing-extensions>=3.6.4 in /usr/local/lib/python3.7/dist-packages (from importlib-metadata->jsonpickle->music21) (4.1.1)\n",
            "Requirement already satisfied: zipp>=0.5 in /usr/local/lib/python3.7/dist-packages (from importlib-metadata->jsonpickle->music21) (3.8.1)\n",
            "Requirement already satisfied: kiwisolver>=1.0.1 in /usr/local/lib/python3.7/dist-packages (from matplotlib->music21) (1.4.4)\n",
            "Requirement already satisfied: cycler>=0.10 in /usr/local/lib/python3.7/dist-packages (from matplotlib->music21) (0.11.0)\n",
            "Requirement already satisfied: python-dateutil>=2.1 in /usr/local/lib/python3.7/dist-packages (from matplotlib->music21) (2.8.2)\n",
            "Requirement already satisfied: pyparsing!=2.0.4,!=2.1.2,!=2.1.6,>=2.0.1 in /usr/local/lib/python3.7/dist-packages (from matplotlib->music21) (3.0.9)\n",
            "Requirement already satisfied: six>=1.5 in /usr/local/lib/python3.7/dist-packages (from python-dateutil>=2.1->matplotlib->music21) (1.15.0)\n",
            "Installing collected packages: webcolors, jsonpickle, music21\n",
            "  Attempting uninstall: music21\n",
            "    Found existing installation: music21 5.5.0\n",
            "    Uninstalling music21-5.5.0:\n",
            "      Successfully uninstalled music21-5.5.0\n",
            "Successfully installed jsonpickle-2.2.0 music21-7.3.3 webcolors-1.12\n",
            "Looking in indexes: https://pypi.org/simple, https://us-python.pkg.dev/colab-wheels/public/simple/\n",
            "Requirement already satisfied: tensorflow in /usr/local/lib/python3.7/dist-packages (2.8.2+zzzcolab20220719082949)\n",
            "Requirement already satisfied: opt-einsum>=2.3.2 in /usr/local/lib/python3.7/dist-packages (from tensorflow) (3.3.0)\n",
            "Requirement already satisfied: gast>=0.2.1 in /usr/local/lib/python3.7/dist-packages (from tensorflow) (0.5.3)\n",
            "Requirement already satisfied: astunparse>=1.6.0 in /usr/local/lib/python3.7/dist-packages (from tensorflow) (1.6.3)\n",
            "Requirement already satisfied: keras<2.9,>=2.8.0rc0 in /usr/local/lib/python3.7/dist-packages (from tensorflow) (2.8.0)\n",
            "Requirement already satisfied: six>=1.12.0 in /usr/local/lib/python3.7/dist-packages (from tensorflow) (1.15.0)\n",
            "Requirement already satisfied: tensorflow-estimator<2.9,>=2.8 in /usr/local/lib/python3.7/dist-packages (from tensorflow) (2.8.0)\n",
            "Requirement already satisfied: tensorflow-io-gcs-filesystem>=0.23.1 in /usr/local/lib/python3.7/dist-packages (from tensorflow) (0.26.0)\n",
            "Requirement already satisfied: tensorboard<2.9,>=2.8 in /usr/local/lib/python3.7/dist-packages (from tensorflow) (2.8.0)\n",
            "Requirement already satisfied: libclang>=9.0.1 in /usr/local/lib/python3.7/dist-packages (from tensorflow) (14.0.6)\n",
            "Requirement already satisfied: typing-extensions>=3.6.6 in /usr/local/lib/python3.7/dist-packages (from tensorflow) (4.1.1)\n",
            "Requirement already satisfied: wrapt>=1.11.0 in /usr/local/lib/python3.7/dist-packages (from tensorflow) (1.14.1)\n",
            "Requirement already satisfied: h5py>=2.9.0 in /usr/local/lib/python3.7/dist-packages (from tensorflow) (3.1.0)\n",
            "Requirement already satisfied: numpy>=1.20 in /usr/local/lib/python3.7/dist-packages (from tensorflow) (1.21.6)\n",
            "Requirement already satisfied: absl-py>=0.4.0 in /usr/local/lib/python3.7/dist-packages (from tensorflow) (1.2.0)\n",
            "Requirement already satisfied: grpcio<2.0,>=1.24.3 in /usr/local/lib/python3.7/dist-packages (from tensorflow) (1.48.1)\n",
            "Requirement already satisfied: keras-preprocessing>=1.1.1 in /usr/local/lib/python3.7/dist-packages (from tensorflow) (1.1.2)\n",
            "Requirement already satisfied: setuptools in /usr/local/lib/python3.7/dist-packages (from tensorflow) (57.4.0)\n",
            "Requirement already satisfied: termcolor>=1.1.0 in /usr/local/lib/python3.7/dist-packages (from tensorflow) (1.1.0)\n",
            "Requirement already satisfied: protobuf<3.20,>=3.9.2 in /usr/local/lib/python3.7/dist-packages (from tensorflow) (3.17.3)\n",
            "Requirement already satisfied: google-pasta>=0.1.1 in /usr/local/lib/python3.7/dist-packages (from tensorflow) (0.2.0)\n",
            "Requirement already satisfied: flatbuffers>=1.12 in /usr/local/lib/python3.7/dist-packages (from tensorflow) (2.0.7)\n",
            "Requirement already satisfied: wheel<1.0,>=0.23.0 in /usr/local/lib/python3.7/dist-packages (from astunparse>=1.6.0->tensorflow) (0.37.1)\n",
            "Requirement already satisfied: cached-property in /usr/local/lib/python3.7/dist-packages (from h5py>=2.9.0->tensorflow) (1.5.2)\n",
            "Requirement already satisfied: tensorboard-data-server<0.7.0,>=0.6.0 in /usr/local/lib/python3.7/dist-packages (from tensorboard<2.9,>=2.8->tensorflow) (0.6.1)\n",
            "Requirement already satisfied: google-auth-oauthlib<0.5,>=0.4.1 in /usr/local/lib/python3.7/dist-packages (from tensorboard<2.9,>=2.8->tensorflow) (0.4.6)\n",
            "Requirement already satisfied: google-auth<3,>=1.6.3 in /usr/local/lib/python3.7/dist-packages (from tensorboard<2.9,>=2.8->tensorflow) (1.35.0)\n",
            "Requirement already satisfied: werkzeug>=0.11.15 in /usr/local/lib/python3.7/dist-packages (from tensorboard<2.9,>=2.8->tensorflow) (1.0.1)\n",
            "Requirement already satisfied: markdown>=2.6.8 in /usr/local/lib/python3.7/dist-packages (from tensorboard<2.9,>=2.8->tensorflow) (3.4.1)\n",
            "Requirement already satisfied: tensorboard-plugin-wit>=1.6.0 in /usr/local/lib/python3.7/dist-packages (from tensorboard<2.9,>=2.8->tensorflow) (1.8.1)\n",
            "Requirement already satisfied: requests<3,>=2.21.0 in /usr/local/lib/python3.7/dist-packages (from tensorboard<2.9,>=2.8->tensorflow) (2.23.0)\n",
            "Requirement already satisfied: rsa<5,>=3.1.4 in /usr/local/lib/python3.7/dist-packages (from google-auth<3,>=1.6.3->tensorboard<2.9,>=2.8->tensorflow) (4.9)\n",
            "Requirement already satisfied: pyasn1-modules>=0.2.1 in /usr/local/lib/python3.7/dist-packages (from google-auth<3,>=1.6.3->tensorboard<2.9,>=2.8->tensorflow) (0.2.8)\n",
            "Requirement already satisfied: cachetools<5.0,>=2.0.0 in /usr/local/lib/python3.7/dist-packages (from google-auth<3,>=1.6.3->tensorboard<2.9,>=2.8->tensorflow) (4.2.4)\n",
            "Requirement already satisfied: requests-oauthlib>=0.7.0 in /usr/local/lib/python3.7/dist-packages (from google-auth-oauthlib<0.5,>=0.4.1->tensorboard<2.9,>=2.8->tensorflow) (1.3.1)\n",
            "Requirement already satisfied: importlib-metadata>=4.4 in /usr/local/lib/python3.7/dist-packages (from markdown>=2.6.8->tensorboard<2.9,>=2.8->tensorflow) (4.12.0)\n",
            "Requirement already satisfied: zipp>=0.5 in /usr/local/lib/python3.7/dist-packages (from importlib-metadata>=4.4->markdown>=2.6.8->tensorboard<2.9,>=2.8->tensorflow) (3.8.1)\n",
            "Requirement already satisfied: pyasn1<0.5.0,>=0.4.6 in /usr/local/lib/python3.7/dist-packages (from pyasn1-modules>=0.2.1->google-auth<3,>=1.6.3->tensorboard<2.9,>=2.8->tensorflow) (0.4.8)\n",
            "Requirement already satisfied: urllib3!=1.25.0,!=1.25.1,<1.26,>=1.21.1 in /usr/local/lib/python3.7/dist-packages (from requests<3,>=2.21.0->tensorboard<2.9,>=2.8->tensorflow) (1.24.3)\n",
            "Requirement already satisfied: chardet<4,>=3.0.2 in /usr/local/lib/python3.7/dist-packages (from requests<3,>=2.21.0->tensorboard<2.9,>=2.8->tensorflow) (3.0.4)\n",
            "Requirement already satisfied: certifi>=2017.4.17 in /usr/local/lib/python3.7/dist-packages (from requests<3,>=2.21.0->tensorboard<2.9,>=2.8->tensorflow) (2022.6.15)\n",
            "Requirement already satisfied: idna<3,>=2.5 in /usr/local/lib/python3.7/dist-packages (from requests<3,>=2.21.0->tensorboard<2.9,>=2.8->tensorflow) (2.10)\n",
            "Requirement already satisfied: oauthlib>=3.0.0 in /usr/local/lib/python3.7/dist-packages (from requests-oauthlib>=0.7.0->google-auth-oauthlib<0.5,>=0.4.1->tensorboard<2.9,>=2.8->tensorflow) (3.2.0)\n",
            "Looking in indexes: https://pypi.org/simple, https://us-python.pkg.dev/colab-wheels/public/simple/\n",
            "Collecting keras_self_attention\n",
            "  Downloading keras-self-attention-0.51.0.tar.gz (11 kB)\n",
            "Requirement already satisfied: numpy in /usr/local/lib/python3.7/dist-packages (from keras_self_attention) (1.21.6)\n",
            "Building wheels for collected packages: keras-self-attention\n",
            "  Building wheel for keras-self-attention (setup.py) ... \u001b[?25l\u001b[?25hdone\n",
            "  Created wheel for keras-self-attention: filename=keras_self_attention-0.51.0-py3-none-any.whl size=18912 sha256=e43dd249679685fe6a7b24ecfc167ad07d7e74ee57b17258d79c3de34ae367c8\n",
            "  Stored in directory: /root/.cache/pip/wheels/95/b1/a8/5ee00cc137940b2f6fa198212e8f45d813d0e0d9c3a04035a3\n",
            "Successfully built keras-self-attention\n",
            "Installing collected packages: keras-self-attention\n",
            "Successfully installed keras-self-attention-0.51.0\n"
          ]
        }
      ]
    },
    {
      "cell_type": "markdown",
      "source": [
        "### GPU 정보 확인"
      ],
      "metadata": {
        "id": "RnRmhbyWG_h1"
      }
    },
    {
      "cell_type": "code",
      "source": [
        "!nvidia-smi\n",
        "from tensorflow.python.client import device_lib\n",
        "print(device_lib.list_local_devices())"
      ],
      "metadata": {
        "colab": {
          "base_uri": "https://localhost:8080/"
        },
        "id": "KpMHS8JjHC21",
        "outputId": "3d96174c-ea61-44d7-f048-ee434cb25c2f"
      },
      "execution_count": null,
      "outputs": [
        {
          "output_type": "stream",
          "name": "stdout",
          "text": [
            "Thu Sep 22 14:18:44 2022       \n",
            "+-----------------------------------------------------------------------------+\n",
            "| NVIDIA-SMI 460.32.03    Driver Version: 460.32.03    CUDA Version: 11.2     |\n",
            "|-------------------------------+----------------------+----------------------+\n",
            "| GPU  Name        Persistence-M| Bus-Id        Disp.A | Volatile Uncorr. ECC |\n",
            "| Fan  Temp  Perf  Pwr:Usage/Cap|         Memory-Usage | GPU-Util  Compute M. |\n",
            "|                               |                      |               MIG M. |\n",
            "|===============================+======================+======================|\n",
            "|   0  Tesla P100-PCIE...  Off  | 00000000:00:04.0 Off |                    0 |\n",
            "| N/A   42C    P0    27W / 250W |      0MiB / 16280MiB |      0%      Default |\n",
            "|                               |                      |                  N/A |\n",
            "+-------------------------------+----------------------+----------------------+\n",
            "                                                                               \n",
            "+-----------------------------------------------------------------------------+\n",
            "| Processes:                                                                  |\n",
            "|  GPU   GI   CI        PID   Type   Process name                  GPU Memory |\n",
            "|        ID   ID                                                   Usage      |\n",
            "|=============================================================================|\n",
            "|  No running processes found                                                 |\n",
            "+-----------------------------------------------------------------------------+\n",
            "[name: \"/device:CPU:0\"\n",
            "device_type: \"CPU\"\n",
            "memory_limit: 268435456\n",
            "locality {\n",
            "}\n",
            "incarnation: 4743186985378764235\n",
            "xla_global_id: -1\n",
            ", name: \"/device:GPU:0\"\n",
            "device_type: \"GPU\"\n",
            "memory_limit: 16139419648\n",
            "locality {\n",
            "  bus_id: 1\n",
            "  links {\n",
            "  }\n",
            "}\n",
            "incarnation: 16052040343962132974\n",
            "physical_device_desc: \"device: 0, name: Tesla P100-PCIE-16GB, pci bus id: 0000:00:04.0, compute capability: 6.0\"\n",
            "xla_global_id: 416903419\n",
            "]\n"
          ]
        }
      ]
    },
    {
      "cell_type": "markdown",
      "source": [
        "### 라이브러리"
      ],
      "metadata": {
        "id": "LEs9xfru0evL"
      }
    },
    {
      "cell_type": "code",
      "source": [
        "import numpy as np\n",
        "import matplotlib.pyplot as plt\n",
        "import os\n",
        "import time\n",
        "\n",
        "import glob\n",
        "import pickle\n",
        "\n",
        "from music21 import *\n",
        "\n",
        "#Run version 2.9.0\n",
        "from tensorflow.keras.utils import plot_model\n",
        "from keras.models import Sequential, Model\n",
        "from keras.layers import *\n",
        "from keras.utils import np_utils\n",
        "from keras.callbacks import ModelCheckpoint\n",
        "from keras_self_attention import SeqSelfAttention\n",
        "from sklearn.model_selection import train_test_split"
      ],
      "metadata": {
        "id": "dvsOC0Xg0dJh"
      },
      "execution_count": null,
      "outputs": []
    },
    {
      "cell_type": "markdown",
      "source": [
        "### 드라이브 연결 및 작업 위치 변경"
      ],
      "metadata": {
        "id": "U92LQrV00So7"
      }
    },
    {
      "cell_type": "code",
      "execution_count": null,
      "metadata": {
        "colab": {
          "base_uri": "https://localhost:8080/"
        },
        "id": "refs0keUzO0g",
        "outputId": "d1a4968b-069c-4fc9-91b5-d198cc28ccbe"
      },
      "outputs": [
        {
          "output_type": "stream",
          "name": "stdout",
          "text": [
            "Mounted at /content/drive\n"
          ]
        }
      ],
      "source": [
        "import os\n",
        "from google.colab import drive\n",
        "drive.mount('/content/drive')\n",
        "os.chdir('/content')\n",
        "os.chdir('drive/MyDrive/Work/Create_Midi_file/')"
      ]
    },
    {
      "cell_type": "markdown",
      "source": [
        "# 데이터 생성하기\n",
        "---"
      ],
      "metadata": {
        "id": "EZOg3z0wGmoD"
      }
    },
    {
      "cell_type": "markdown",
      "source": [
        "## 함수 정의\n",
        "----"
      ],
      "metadata": {
        "id": "MM5rvv3Z0puD"
      }
    },
    {
      "cell_type": "code",
      "source": [
        "def div_chord(c):\n",
        "   new_notes = []\n",
        "   \n",
        "   for e in c.pitches:\n",
        "      new_note = note.Note(e)\n",
        "      new_note.quarterLength = c.quarterLength\n",
        "      new_note.offset = c.offset\n",
        "      new_notes.append(new_note)\n",
        "   \n",
        "   return new_notes"
      ],
      "metadata": {
        "id": "MaiZeYgMJoDJ"
      },
      "execution_count": null,
      "outputs": []
    },
    {
      "cell_type": "code",
      "source": [
        "def div_by_clef(notes):\n",
        "   tc_notes = [] # Treble Clef Notes\n",
        "   bc_notes = [] # Bass Clef Notes\n",
        "\n",
        "   for e in notes:\n",
        "      if isinstance(e, chord.Chord):\n",
        "         e = div_chord(e)\n",
        "         a, b = div_by_clef(e)\n",
        "         tc_notes.extend(a)\n",
        "         bc_notes.extend(b)\n",
        "      elif isinstance(e, note.Note):\n",
        "         if isinstance(clef.bestClef(stream.Stream([e])), clef.TrebleClef):\n",
        "            tc_notes.append(e)\n",
        "         else:\n",
        "            bc_notes.append(e)\n",
        "\n",
        "   return tc_notes, bc_notes"
      ],
      "metadata": {
        "id": "bVlXyY9PkgaR"
      },
      "execution_count": null,
      "outputs": []
    },
    {
      "cell_type": "code",
      "source": [
        "def find_rest(prev_note, next_note):\n",
        "   new_rest = note.Rest()\n",
        "   new_rest.offset        = prev_note.offset + prev_note.quarterLength\n",
        "   new_rest.quarterLength = next_note.offset - new_rest.offset\n",
        "   return new_rest"
      ],
      "metadata": {
        "id": "1HsfXNHZkhnk"
      },
      "execution_count": null,
      "outputs": []
    },
    {
      "cell_type": "code",
      "source": [
        "def resort_notes(notes):\n",
        "   new_notes = [notes[0]]\n",
        "   for e in notes[1:]:\n",
        "      n = new_notes.pop()\n",
        "      ql = e.offset - n.offset\n",
        "\n",
        "      if ql == 0:\n",
        "         new_chord = chord.Chord([n, e])\n",
        "         new_chord.quarterLength = n.quarterLength\n",
        "         new_chord.offset = n.offset\n",
        "         new_notes.append(new_chord)\n",
        "      elif ql > 0:\n",
        "         r = find_rest(n, e)\n",
        "         if r.quarterLength > 0.0:\n",
        "            n.quarterLength = r.offset - n.offset\n",
        "            new_notes.append(n)\n",
        "            new_notes.append(r)\n",
        "         else:\n",
        "            n.quarterLength = ql\n",
        "            new_notes.append(n)\n",
        "         new_notes.append(e)\n",
        "      else:\n",
        "         raise Exception(f\"Current-offset({n.offset}) is Larger than Next-offset({e.offset}).\")\n",
        "   \n",
        "   return new_notes"
      ],
      "metadata": {
        "id": "ExveeBgSkiS8"
      },
      "execution_count": null,
      "outputs": []
    },
    {
      "cell_type": "code",
      "source": [
        "def add_notes_to_offset(notes, offset=0.0):\n",
        "   new_notes = []\n",
        "   \n",
        "   for e in notes:\n",
        "      e.offset += offset\n",
        "      new_notes.append(e)\n",
        "   \n",
        "   return new_notes"
      ],
      "metadata": {
        "id": "6dSAv9M6knJb"
      },
      "execution_count": null,
      "outputs": []
    },
    {
      "cell_type": "markdown",
      "source": [],
      "metadata": {
        "id": "C7u3TJoClDaR"
      }
    },
    {
      "cell_type": "code",
      "source": [
        "def get_notes():\n",
        "   notes = []\n",
        "   offset = 0.0\n",
        "   \n",
        "   for file in sorted(glob.glob('midi_songs/*.mid')):\n",
        "      org_s = converter.parse(file)\n",
        "      pbi_s = instrument.partitionByInstrument(org_s)\n",
        "      rec_s = pbi_s.recurse()\n",
        "      ns = rec_s.notes\n",
        "\n",
        "      ns = add_notes_to_offset(ns, offset)\n",
        "      notes.extend(ns)\n",
        "\n",
        "      while offset <= notes[-1].offset:\n",
        "         offset += 4\n",
        "   \n",
        "   return notes"
      ],
      "metadata": {
        "id": "kbveQrL1ktm1"
      },
      "execution_count": null,
      "outputs": []
    },
    {
      "cell_type": "code",
      "source": [
        "def zero_rest(offset=0.0):\n",
        "   r = note.Rest()\n",
        "   r.quarterLength = 0.0\n",
        "   r.offset = offset\n",
        "   return r"
      ],
      "metadata": {
        "id": "180z-tXCk4Dj"
      },
      "execution_count": null,
      "outputs": []
    },
    {
      "cell_type": "code",
      "source": [
        "def notes_equally(ns1, ns2):\n",
        "   new_ns1 = []\n",
        "   new_ns2 = []\n",
        "\n",
        "   if len(ns1) < len(ns2):\n",
        "      ns1, ns2 = ns2, ns1\n",
        "   \n",
        "   i = 0\n",
        "   j = 0\n",
        "   while i < len(ns1):\n",
        "      if j < len(ns2):\n",
        "         if ns1[i].offset < ns2[j].offset:\n",
        "            new_ns1.append(ns1[i])\n",
        "            new_ns2.append(zero_rest(ns1[i].offset))\n",
        "            i += 1\n",
        "         elif ns1[i].offset > ns2[j].offset:\n",
        "            new_ns1.append(zero_rest(ns2[j].offset))\n",
        "            new_ns2.append(ns2[j])\n",
        "            j += 1\n",
        "         else:\n",
        "            new_ns1.append(ns1[i])\n",
        "            new_ns2.append(ns2[j])\n",
        "            i += 1\n",
        "            j += 1\n",
        "      else:\n",
        "         new_ns1.append(ns1[i])\n",
        "         new_ns2.append(zero_rest(ns1[i].offset))\n",
        "         i += 1\n",
        "   \n",
        "   return new_ns1, new_ns2"
      ],
      "metadata": {
        "id": "T1_4Ldk5k79B"
      },
      "execution_count": null,
      "outputs": []
    },
    {
      "cell_type": "markdown",
      "source": [
        "## 실행\n",
        "----"
      ],
      "metadata": {
        "id": "MS0s4jU407Gv"
      }
    },
    {
      "cell_type": "markdown",
      "source": [
        "### 음표 추출"
      ],
      "metadata": {
        "id": "mCLD3APvlLzB"
      }
    },
    {
      "cell_type": "code",
      "source": [
        "notes = get_notes()\n",
        "len(notes) # 음표 개수 출력"
      ],
      "metadata": {
        "id": "fa1dd9IWe6_i",
        "colab": {
          "base_uri": "https://localhost:8080/"
        },
        "outputId": "06948dde-8805-4df9-edf6-db063b1219f4"
      },
      "execution_count": null,
      "outputs": [
        {
          "output_type": "execute_result",
          "data": {
            "text/plain": [
              "42581"
            ]
          },
          "metadata": {},
          "execution_count": 13
        }
      ]
    },
    {
      "cell_type": "markdown",
      "source": [
        "### 높은 음자리와 낮은 음자리 나누기"
      ],
      "metadata": {
        "id": "OLmF590FlQcN"
      }
    },
    {
      "cell_type": "code",
      "source": [
        "tc_notes, bc_notes = div_by_clef(notes)\n",
        "len(tc_notes), len(bc_notes) # 각 음표 개수 출력"
      ],
      "metadata": {
        "id": "xLDciU8afcJM",
        "colab": {
          "base_uri": "https://localhost:8080/"
        },
        "outputId": "e11e95cd-a3fb-41c2-a5b7-c0071d3fb4ba"
      },
      "execution_count": null,
      "outputs": [
        {
          "output_type": "execute_result",
          "data": {
            "text/plain": [
              "(51064, 24285)"
            ]
          },
          "metadata": {},
          "execution_count": 14
        }
      ]
    },
    {
      "cell_type": "markdown",
      "source": [
        "### 음표 재나열"
      ],
      "metadata": {
        "id": "hW2QIA4flTcb"
      }
    },
    {
      "cell_type": "code",
      "source": [
        "tc_notes = resort_notes(tc_notes) # 높은 음자리\n",
        "bc_notes = resort_notes(bc_notes) # 낮은 음자리"
      ],
      "metadata": {
        "id": "IeMRzT8RlTAo"
      },
      "execution_count": null,
      "outputs": []
    },
    {
      "cell_type": "markdown",
      "source": [
        "### 음자리별 음표 개수 맞추기"
      ],
      "metadata": {
        "id": "ET62Sev2lYcG"
      }
    },
    {
      "cell_type": "code",
      "source": [
        "tc_notes, bc_notes = notes_equally(tc_notes, bc_notes)\n",
        "len(tc_notes), len(bc_notes) # 각 음표 개수 출력"
      ],
      "metadata": {
        "colab": {
          "base_uri": "https://localhost:8080/"
        },
        "id": "3wFWyQrvlX9q",
        "outputId": "f873b50e-1e4e-4dac-f2a8-44f34aa5eccb"
      },
      "execution_count": null,
      "outputs": [
        {
          "output_type": "execute_result",
          "data": {
            "text/plain": [
              "(53009, 53009)"
            ]
          },
          "metadata": {},
          "execution_count": 16
        }
      ]
    },
    {
      "cell_type": "markdown",
      "source": [
        "### 데이터 저장"
      ],
      "metadata": {
        "id": "U54BO1jlmiD7"
      }
    },
    {
      "cell_type": "code",
      "source": [
        "with open('data/niko/notes', 'wb') as f:\n",
        "  pickle.dump((tc_notes, bc_notes), f)"
      ],
      "metadata": {
        "id": "DYhnazwomcSQ"
      },
      "execution_count": null,
      "outputs": []
    },
    {
      "cell_type": "markdown",
      "source": [
        "# 데이터 학습하기\n",
        "---"
      ],
      "metadata": {
        "id": "0mWtibj6HfGF"
      }
    },
    {
      "cell_type": "markdown",
      "source": [
        "## 함수 정의\n",
        "---"
      ],
      "metadata": {
        "id": "H1BRqq9nuYSH"
      }
    },
    {
      "cell_type": "code",
      "source": [
        "def note_to_str(e):\n",
        "   if isinstance(e, note.Note):\n",
        "      return f'{e.pitch}:{e.quarterLength}'\n",
        "   elif isinstance(e, chord.Chord):\n",
        "      return f'{\" \".join(str(e) for e in e.pitches)}:{e.quarterLength}'\n",
        "   else:\n",
        "      return f'{e.name}:{e.quarterLength}'"
      ],
      "metadata": {
        "id": "_oAgXrg2l1ee"
      },
      "execution_count": null,
      "outputs": []
    },
    {
      "cell_type": "code",
      "source": [
        "def notes_to_nums(notes):\n",
        "   str_notes = []\n",
        "   for e in notes:\n",
        "      e = note_to_str(e)\n",
        "      str_notes.append(e)\n",
        "   \n",
        "   note_to_int = dict((k, v) for v, k in enumerate(sorted(set(str_notes))))\n",
        "\n",
        "   num_notes = []\n",
        "   for e in str_notes:\n",
        "      e = note_to_int[e]\n",
        "      num_notes.append(e)\n",
        "\n",
        "   return num_notes"
      ],
      "metadata": {
        "id": "WS-0lIh4mCkJ"
      },
      "execution_count": null,
      "outputs": []
    },
    {
      "cell_type": "markdown",
      "source": [
        "### prepare sequences"
      ],
      "metadata": {
        "id": "QFJL8nA9rO0j"
      }
    },
    {
      "cell_type": "code",
      "source": [
        "def prepare_sequences(tc_nums, bc_nums, sl=4):\n",
        "   tc_x = []\n",
        "   bc_x = []\n",
        "   tc_y = []\n",
        "   bc_y = []\n",
        "\n",
        "   if len(tc_nums) != len(bc_nums):\n",
        "      print(f'len(tc_nums) != len(bc_nums).')\n",
        "\n",
        "   for i in range(len(tc_nums) - sl):\n",
        "      tc_x.append(tc_nums[i:sl+i])\n",
        "      bc_x.append(bc_nums[i:sl+i])\n",
        "      tc_y.append(tc_nums[i+sl])\n",
        "      bc_y.append(bc_nums[i+sl])\n",
        "   \n",
        "   tc_x = np.array(tc_x)\n",
        "   bc_x = np.array(bc_x)\n",
        "   tc_y = np_utils.to_categorical(tc_y)\n",
        "   bc_y = np_utils.to_categorical(bc_y)\n",
        "\n",
        "   return tc_x, bc_x, tc_y, bc_y"
      ],
      "metadata": {
        "id": "2j0GVvR8HeJh"
      },
      "execution_count": null,
      "outputs": []
    },
    {
      "cell_type": "markdown",
      "source": [
        "### create model"
      ],
      "metadata": {
        "id": "rhL9GAGotVPw"
      }
    },
    {
      "cell_type": "code",
      "source": [
        "def createModel(tc_x, bc_x, tc_y, bc_y):\n",
        "   tc_vocab = tc_y.shape[1]\n",
        "   bc_vocab = bc_y.shape[1]\n",
        "\n",
        "   # inputs\n",
        "   tc_input = Input(tc_x.shape[1], name=\"TC_Input\")\n",
        "   bc_input = Input(bc_x.shape[1], name=\"BC_Input\")\n",
        "\n",
        "   # channel 1\n",
        "   x = Embedding(tc_vocab, 4, name=\"TC_Embedding\")(tc_input)\n",
        "   x = Bidirectional(LSTM(64, return_sequences=True), name=\"TC_Bi-LSTM\")(x)\n",
        "   x = SeqSelfAttention(attention_activation='sigmoid', name=\"TC_Attention\")(x)\n",
        "   x = Dropout(0.25, name=\"TC_Dropout\")(x)\n",
        "\n",
        "   # channel 2\n",
        "   y = Embedding(tc_vocab, 4, name=\"BC_Embedding\")(bc_input)\n",
        "   y = Bidirectional(LSTM(64, return_sequences=True), name=\"BC_Bi-LSTM\")(y)\n",
        "   y = SeqSelfAttention(attention_activation='sigmoid', name=\"BC_Attention\")(y)\n",
        "   y = Dropout(0.25, name=\"BC_Dropout\")(y)\n",
        "\n",
        "   # merging\n",
        "   z = concatenate([x, y], name=\"Merge_Layer\")\n",
        "   z = Flatten(name=\"Flaten_Layer\")(z)\n",
        "\n",
        "   # output\n",
        "   tc_output = Dense(tc_vocab, activation='softmax', name=\"TC_Output\")(z)\n",
        "   bc_output = Dense(bc_vocab, activation='softmax', name=\"BC_Output\")(z)\n",
        "\n",
        "   model = Model(inputs=[tc_input, bc_input], outputs=[tc_output, bc_output], name=\"Bi-LSTM_with_Attension_Model\")\n",
        "   model.compile(loss=\"categorical_crossentropy\", optimizer=\"adam\", metrics=['accuracy'])\n",
        "   return model"
      ],
      "metadata": {
        "id": "WuymQaKutYW_"
      },
      "execution_count": null,
      "outputs": []
    },
    {
      "cell_type": "markdown",
      "source": [
        "## 실행\n",
        "---"
      ],
      "metadata": {
        "id": "ZGhxw29uuTIT"
      }
    },
    {
      "cell_type": "markdown",
      "source": [
        "### 데이터 불러오기"
      ],
      "metadata": {
        "id": "OLjG84SaneRz"
      }
    },
    {
      "cell_type": "code",
      "source": [
        "with open('data/niko/notes', 'rb') as f:\n",
        "  tc_notes, bc_notes = pickle.load(f)"
      ],
      "metadata": {
        "id": "twAlhYDWnh9p"
      },
      "execution_count": null,
      "outputs": []
    },
    {
      "cell_type": "markdown",
      "source": [
        "### 음표를 숫자로 바꾸기"
      ],
      "metadata": {
        "id": "3V4z1evxn8zC"
      }
    },
    {
      "cell_type": "code",
      "source": [
        "tc_nums = notes_to_nums(tc_notes)\n",
        "bc_nums = notes_to_nums(bc_notes)\n",
        "tc_nums[:10], bc_nums[:10]"
      ],
      "metadata": {
        "colab": {
          "base_uri": "https://localhost:8080/"
        },
        "id": "k4N9AcY8n8RZ",
        "outputId": "74798957-6d63-41af-f544-9616f6945403"
      },
      "execution_count": null,
      "outputs": [
        {
          "output_type": "execute_result",
          "data": {
            "text/plain": [
              "([673, 3315, 1532, 1594, 3315, 1532, 1594, 3315, 3328, 1532],\n",
              " [116, 1286, 1286, 1286, 1286, 1286, 1286, 1286, 1292, 1286])"
            ]
          },
          "metadata": {},
          "execution_count": 25
        }
      ]
    },
    {
      "cell_type": "markdown",
      "source": [
        "### 모델 입출력 데이터 만들기"
      ],
      "metadata": {
        "id": "MQWQ_97noUCT"
      }
    },
    {
      "cell_type": "code",
      "source": [
        "tc_x, bc_x, tc_y, bc_y = prepare_sequences(tc_nums, bc_nums, 8)\n",
        "tc_x.shape, bc_x.shape, tc_y.shape, bc_y.shape # shape 출력"
      ],
      "metadata": {
        "colab": {
          "base_uri": "https://localhost:8080/"
        },
        "id": "ZoP757g0uRuU",
        "outputId": "1d8bef6c-7afc-4582-bd8d-ddfc92da6f20"
      },
      "execution_count": null,
      "outputs": [
        {
          "output_type": "execute_result",
          "data": {
            "text/plain": [
              "((53001, 8), (53001, 8), (53001, 3433), (53001, 1427))"
            ]
          },
          "metadata": {},
          "execution_count": 26
        }
      ]
    },
    {
      "cell_type": "markdown",
      "source": [
        "### 모델 생성하기"
      ],
      "metadata": {
        "id": "N9yUr3_u6ECK"
      }
    },
    {
      "cell_type": "code",
      "source": [
        "model = createModel(tc_x, bc_x, tc_y, bc_y)\n",
        "model.summary()"
      ],
      "metadata": {
        "colab": {
          "base_uri": "https://localhost:8080/"
        },
        "id": "hmNEiWTPwUUd",
        "outputId": "95499170-99ab-4357-8fc3-c1d913a4cc9a"
      },
      "execution_count": null,
      "outputs": [
        {
          "output_type": "stream",
          "name": "stdout",
          "text": [
            "Model: \"Bi-LSTM_with_Attension_Model\"\n",
            "__________________________________________________________________________________________________\n",
            " Layer (type)                   Output Shape         Param #     Connected to                     \n",
            "==================================================================================================\n",
            " TC_Input (InputLayer)          [(None, 8)]          0           []                               \n",
            "                                                                                                  \n",
            " BC_Input (InputLayer)          [(None, 8)]          0           []                               \n",
            "                                                                                                  \n",
            " TC_Embedding (Embedding)       (None, 8, 4)         13732       ['TC_Input[0][0]']               \n",
            "                                                                                                  \n",
            " BC_Embedding (Embedding)       (None, 8, 4)         13732       ['BC_Input[0][0]']               \n",
            "                                                                                                  \n",
            " TC_Bi-LSTM (Bidirectional)     (None, 8, 128)       35328       ['TC_Embedding[0][0]']           \n",
            "                                                                                                  \n",
            " BC_Bi-LSTM (Bidirectional)     (None, 8, 128)       35328       ['BC_Embedding[0][0]']           \n",
            "                                                                                                  \n",
            " TC_Attention (SeqSelfAttention  (None, 8, 128)      8257        ['TC_Bi-LSTM[0][0]']             \n",
            " )                                                                                                \n",
            "                                                                                                  \n",
            " BC_Attention (SeqSelfAttention  (None, 8, 128)      8257        ['BC_Bi-LSTM[0][0]']             \n",
            " )                                                                                                \n",
            "                                                                                                  \n",
            " TC_Dropout (Dropout)           (None, 8, 128)       0           ['TC_Attention[0][0]']           \n",
            "                                                                                                  \n",
            " BC_Dropout (Dropout)           (None, 8, 128)       0           ['BC_Attention[0][0]']           \n",
            "                                                                                                  \n",
            " Merge_Layer (Concatenate)      (None, 8, 256)       0           ['TC_Dropout[0][0]',             \n",
            "                                                                  'BC_Dropout[0][0]']             \n",
            "                                                                                                  \n",
            " Flaten_Layer (Flatten)         (None, 2048)         0           ['Merge_Layer[0][0]']            \n",
            "                                                                                                  \n",
            " TC_Output (Dense)              (None, 3433)         7034217     ['Flaten_Layer[0][0]']           \n",
            "                                                                                                  \n",
            " BC_Output (Dense)              (None, 1427)         2923923     ['Flaten_Layer[0][0]']           \n",
            "                                                                                                  \n",
            "==================================================================================================\n",
            "Total params: 10,072,774\n",
            "Trainable params: 10,072,774\n",
            "Non-trainable params: 0\n",
            "__________________________________________________________________________________________________\n"
          ]
        }
      ]
    },
    {
      "cell_type": "markdown",
      "source": [
        "### 모델 이미지 출력"
      ],
      "metadata": {
        "id": "QN48bci46G9-"
      }
    },
    {
      "cell_type": "code",
      "source": [
        "plot_model(model, to_file='Model(Bi-LSTM with Attention).png', show_shapes=True)"
      ],
      "metadata": {
        "colab": {
          "base_uri": "https://localhost:8080/",
          "height": 795
        },
        "id": "PRTt0wMHpOC2",
        "outputId": "30ae07c7-59da-4802-dd5d-a226af7c2cca"
      },
      "execution_count": null,
      "outputs": [
        {
          "output_type": "execute_result",
          "data": {
            "image/png": "[encoded data removed]",
            "text/plain": [
              "<IPython.core.display.Image object>"
            ]
          },
          "metadata": {},
          "execution_count": 40
        }
      ]
    },
    {
      "cell_type": "markdown",
      "source": [
        "### 모델 학습하기"
      ],
      "metadata": {
        "id": "NZTtG-gM6JFS"
      }
    },
    {
      "cell_type": "code",
      "source": [
        "filepath = \"weights-improvement-{epoch:02d}-{loss:.4f}-bigger.hdf5\"\n",
        "checkpoint = ModelCheckpoint(\n",
        "        filepath,\n",
        "        period=20, #Every 20 epochs\n",
        "        monitor=\"acc\",\n",
        "        verbose=1,\n",
        "        save_best_only=False,\n",
        "        mode='min'\n",
        "    )\n",
        "callbacks_list = [checkpoint]\n",
        "\n",
        "history = model.fit(\n",
        "    x=(tc_x, bc_x),\n",
        "    y=(tc_y, bc_y), \n",
        "    validation_data=((tc_x[::5], bc_x[::5]), (tc_y[::5], bc_y[::5])), \n",
        "    epochs=200, \n",
        "    batch_size=128,\n",
        "    callbacks=callbacks_list)"
      ],
      "metadata": {
        "colab": {
          "base_uri": "https://localhost:8080/"
        },
        "id": "LNcPXtHNwvJj",
        "outputId": "4d43980b-5f94-410e-b5b2-833769e036de"
      },
      "execution_count": null,
      "outputs": [
        {
          "output_type": "stream",
          "name": "stderr",
          "text": [
            "WARNING:tensorflow:`period` argument is deprecated. Please use `save_freq` to specify the frequency in number of batches seen.\n"
          ]
        },
        {
          "output_type": "stream",
          "name": "stdout",
          "text": [
            "Epoch 1/200\n",
            "415/415 [==============================] - 24s 24ms/step - loss: 7.9855 - TC_Output_loss: 5.0053 - BC_Output_loss: 2.9802 - TC_Output_accuracy: 0.1535 - BC_Output_accuracy: 0.5989 - val_loss: 6.7585 - val_TC_Output_loss: 4.3303 - val_BC_Output_loss: 2.4282 - val_TC_Output_accuracy: 0.2127 - val_BC_Output_accuracy: 0.6257\n",
            "Epoch 2/200\n",
            "415/415 [==============================] - 8s 19ms/step - loss: 6.5007 - TC_Output_loss: 4.1348 - BC_Output_loss: 2.3658 - TC_Output_accuracy: 0.2429 - BC_Output_accuracy: 0.6214 - val_loss: 6.0091 - val_TC_Output_loss: 3.8111 - val_BC_Output_loss: 2.1980 - val_TC_Output_accuracy: 0.2793 - val_BC_Output_accuracy: 0.6343\n",
            "Epoch 3/200\n",
            "415/415 [==============================] - 8s 19ms/step - loss: 5.9704 - TC_Output_loss: 3.7732 - BC_Output_loss: 2.1971 - TC_Output_accuracy: 0.2912 - BC_Output_accuracy: 0.6332 - val_loss: 5.5400 - val_TC_Output_loss: 3.5101 - val_BC_Output_loss: 2.0299 - val_TC_Output_accuracy: 0.3094 - val_BC_Output_accuracy: 0.6431\n",
            "Epoch 4/200\n",
            "415/415 [==============================] - 8s 19ms/step - loss: 5.5932 - TC_Output_loss: 3.5345 - BC_Output_loss: 2.0587 - TC_Output_accuracy: 0.3126 - BC_Output_accuracy: 0.6381 - val_loss: 5.2072 - val_TC_Output_loss: 3.3015 - val_BC_Output_loss: 1.9056 - val_TC_Output_accuracy: 0.3293 - val_BC_Output_accuracy: 0.6519\n",
            "Epoch 5/200\n",
            "415/415 [==============================] - 8s 19ms/step - loss: 5.2799 - TC_Output_loss: 3.3461 - BC_Output_loss: 1.9338 - TC_Output_accuracy: 0.3259 - BC_Output_accuracy: 0.6463 - val_loss: 4.8933 - val_TC_Output_loss: 3.1124 - val_BC_Output_loss: 1.7809 - val_TC_Output_accuracy: 0.3414 - val_BC_Output_accuracy: 0.6579\n",
            "Epoch 6/200\n",
            "415/415 [==============================] - 8s 19ms/step - loss: 4.9800 - TC_Output_loss: 3.1628 - BC_Output_loss: 1.8172 - TC_Output_accuracy: 0.3439 - BC_Output_accuracy: 0.6536 - val_loss: 4.5896 - val_TC_Output_loss: 2.9212 - val_BC_Output_loss: 1.6684 - val_TC_Output_accuracy: 0.3608 - val_BC_Output_accuracy: 0.6662\n",
            "Epoch 7/200\n",
            "415/415 [==============================] - 8s 19ms/step - loss: 4.6965 - TC_Output_loss: 2.9810 - BC_Output_loss: 1.7155 - TC_Output_accuracy: 0.3590 - BC_Output_accuracy: 0.6603 - val_loss: 4.3164 - val_TC_Output_loss: 2.7405 - val_BC_Output_loss: 1.5758 - val_TC_Output_accuracy: 0.3814 - val_BC_Output_accuracy: 0.6709\n",
            "Epoch 8/200\n",
            "415/415 [==============================] - 8s 19ms/step - loss: 4.4455 - TC_Output_loss: 2.8182 - BC_Output_loss: 1.6273 - TC_Output_accuracy: 0.3761 - BC_Output_accuracy: 0.6673 - val_loss: 4.0061 - val_TC_Output_loss: 2.5495 - val_BC_Output_loss: 1.4566 - val_TC_Output_accuracy: 0.4039 - val_BC_Output_accuracy: 0.6854\n",
            "Epoch 9/200\n",
            "415/415 [==============================] - 8s 19ms/step - loss: 4.2098 - TC_Output_loss: 2.6701 - BC_Output_loss: 1.5397 - TC_Output_accuracy: 0.3907 - BC_Output_accuracy: 0.6758 - val_loss: 3.7929 - val_TC_Output_loss: 2.4162 - val_BC_Output_loss: 1.3768 - val_TC_Output_accuracy: 0.4241 - val_BC_Output_accuracy: 0.6951\n",
            "Epoch 10/200\n",
            "415/415 [==============================] - 8s 19ms/step - loss: 4.0018 - TC_Output_loss: 2.5380 - BC_Output_loss: 1.4638 - TC_Output_accuracy: 0.4043 - BC_Output_accuracy: 0.6827 - val_loss: 3.5802 - val_TC_Output_loss: 2.2824 - val_BC_Output_loss: 1.2978 - val_TC_Output_accuracy: 0.4498 - val_BC_Output_accuracy: 0.7096\n",
            "Epoch 11/200\n",
            "415/415 [==============================] - 8s 20ms/step - loss: 3.8060 - TC_Output_loss: 2.4194 - BC_Output_loss: 1.3866 - TC_Output_accuracy: 0.4219 - BC_Output_accuracy: 0.6923 - val_loss: 3.3657 - val_TC_Output_loss: 2.1568 - val_BC_Output_loss: 1.2089 - val_TC_Output_accuracy: 0.4718 - val_BC_Output_accuracy: 0.7184\n",
            "Epoch 12/200\n",
            "415/415 [==============================] - 8s 19ms/step - loss: 3.6287 - TC_Output_loss: 2.3095 - BC_Output_loss: 1.3192 - TC_Output_accuracy: 0.4387 - BC_Output_accuracy: 0.6994 - val_loss: 3.1826 - val_TC_Output_loss: 2.0452 - val_BC_Output_loss: 1.1374 - val_TC_Output_accuracy: 0.4882 - val_BC_Output_accuracy: 0.7307\n",
            "Epoch 13/200\n",
            "415/415 [==============================] - 8s 19ms/step - loss: 3.4696 - TC_Output_loss: 2.2135 - BC_Output_loss: 1.2562 - TC_Output_accuracy: 0.4563 - BC_Output_accuracy: 0.7079 - val_loss: 3.0537 - val_TC_Output_loss: 1.9617 - val_BC_Output_loss: 1.0920 - val_TC_Output_accuracy: 0.5072 - val_BC_Output_accuracy: 0.7418\n",
            "Epoch 14/200\n",
            "415/415 [==============================] - 8s 19ms/step - loss: 3.3302 - TC_Output_loss: 2.1277 - BC_Output_loss: 1.2026 - TC_Output_accuracy: 0.4694 - BC_Output_accuracy: 0.7162 - val_loss: 2.9249 - val_TC_Output_loss: 1.9024 - val_BC_Output_loss: 1.0225 - val_TC_Output_accuracy: 0.5129 - val_BC_Output_accuracy: 0.7515\n",
            "Epoch 15/200\n",
            "415/415 [==============================] - 8s 19ms/step - loss: 3.1961 - TC_Output_loss: 2.0504 - BC_Output_loss: 1.1457 - TC_Output_accuracy: 0.4852 - BC_Output_accuracy: 0.7248 - val_loss: 2.8017 - val_TC_Output_loss: 1.8213 - val_BC_Output_loss: 0.9804 - val_TC_Output_accuracy: 0.5298 - val_BC_Output_accuracy: 0.7568\n",
            "Epoch 16/200\n",
            "415/415 [==============================] - 8s 19ms/step - loss: 3.0789 - TC_Output_loss: 1.9775 - BC_Output_loss: 1.1014 - TC_Output_accuracy: 0.4997 - BC_Output_accuracy: 0.7309 - val_loss: 2.7068 - val_TC_Output_loss: 1.7642 - val_BC_Output_loss: 0.9426 - val_TC_Output_accuracy: 0.5404 - val_BC_Output_accuracy: 0.7699\n",
            "Epoch 17/200\n",
            "415/415 [==============================] - 8s 20ms/step - loss: 2.9750 - TC_Output_loss: 1.9190 - BC_Output_loss: 1.0560 - TC_Output_accuracy: 0.5095 - BC_Output_accuracy: 0.7382 - val_loss: 2.5991 - val_TC_Output_loss: 1.7080 - val_BC_Output_loss: 0.8912 - val_TC_Output_accuracy: 0.5543 - val_BC_Output_accuracy: 0.7739\n",
            "Epoch 18/200\n",
            "415/415 [==============================] - 8s 19ms/step - loss: 2.8739 - TC_Output_loss: 1.8597 - BC_Output_loss: 1.0142 - TC_Output_accuracy: 0.5223 - BC_Output_accuracy: 0.7451 - val_loss: 2.4938 - val_TC_Output_loss: 1.6480 - val_BC_Output_loss: 0.8458 - val_TC_Output_accuracy: 0.5648 - val_BC_Output_accuracy: 0.7821\n",
            "Epoch 19/200\n",
            "415/415 [==============================] - 8s 19ms/step - loss: 2.7925 - TC_Output_loss: 1.8158 - BC_Output_loss: 0.9767 - TC_Output_accuracy: 0.5309 - BC_Output_accuracy: 0.7527 - val_loss: 2.3999 - val_TC_Output_loss: 1.5970 - val_BC_Output_loss: 0.8029 - val_TC_Output_accuracy: 0.5732 - val_BC_Output_accuracy: 0.7926\n",
            "Epoch 20/200\n",
            "413/415 [============================>.] - ETA: 0s - loss: 2.7045 - TC_Output_loss: 1.7643 - BC_Output_loss: 0.9402 - TC_Output_accuracy: 0.5384 - BC_Output_accuracy: 0.7585\n",
            "Epoch 20: saving model to weights-improvement-20-2.7051-bigger.hdf5\n",
            "415/415 [==============================] - 8s 20ms/step - loss: 2.7051 - TC_Output_loss: 1.7649 - BC_Output_loss: 0.9401 - TC_Output_accuracy: 0.5383 - BC_Output_accuracy: 0.7585 - val_loss: 2.3345 - val_TC_Output_loss: 1.5568 - val_BC_Output_loss: 0.7777 - val_TC_Output_accuracy: 0.5847 - val_BC_Output_accuracy: 0.7962\n",
            "Epoch 21/200\n",
            "415/415 [==============================] - 8s 19ms/step - loss: 2.6360 - TC_Output_loss: 1.7241 - BC_Output_loss: 0.9119 - TC_Output_accuracy: 0.5492 - BC_Output_accuracy: 0.7642 - val_loss: 2.2725 - val_TC_Output_loss: 1.5193 - val_BC_Output_loss: 0.7531 - val_TC_Output_accuracy: 0.5890 - val_BC_Output_accuracy: 0.8004\n",
            "Epoch 22/200\n",
            "415/415 [==============================] - 8s 19ms/step - loss: 2.5679 - TC_Output_loss: 1.6860 - BC_Output_loss: 0.8819 - TC_Output_accuracy: 0.5541 - BC_Output_accuracy: 0.7670 - val_loss: 2.2613 - val_TC_Output_loss: 1.5068 - val_BC_Output_loss: 0.7545 - val_TC_Output_accuracy: 0.5961 - val_BC_Output_accuracy: 0.8016\n",
            "Epoch 23/200\n",
            "415/415 [==============================] - 8s 19ms/step - loss: 2.5042 - TC_Output_loss: 1.6482 - BC_Output_loss: 0.8560 - TC_Output_accuracy: 0.5638 - BC_Output_accuracy: 0.7736 - val_loss: 2.1442 - val_TC_Output_loss: 1.4490 - val_BC_Output_loss: 0.6952 - val_TC_Output_accuracy: 0.6098 - val_BC_Output_accuracy: 0.8157\n",
            "Epoch 24/200\n",
            "415/415 [==============================] - 8s 19ms/step - loss: 2.4422 - TC_Output_loss: 1.6175 - BC_Output_loss: 0.8246 - TC_Output_accuracy: 0.5675 - BC_Output_accuracy: 0.7796 - val_loss: 2.1007 - val_TC_Output_loss: 1.4208 - val_BC_Output_loss: 0.6799 - val_TC_Output_accuracy: 0.6146 - val_BC_Output_accuracy: 0.8168\n",
            "Epoch 25/200\n",
            "415/415 [==============================] - 8s 19ms/step - loss: 2.3913 - TC_Output_loss: 1.5873 - BC_Output_loss: 0.8040 - TC_Output_accuracy: 0.5769 - BC_Output_accuracy: 0.7839 - val_loss: 2.0468 - val_TC_Output_loss: 1.3965 - val_BC_Output_loss: 0.6502 - val_TC_Output_accuracy: 0.6178 - val_BC_Output_accuracy: 0.8240\n",
            "Epoch 26/200\n",
            "415/415 [==============================] - 8s 19ms/step - loss: 2.3372 - TC_Output_loss: 1.5581 - BC_Output_loss: 0.7791 - TC_Output_accuracy: 0.5823 - BC_Output_accuracy: 0.7891 - val_loss: 1.9900 - val_TC_Output_loss: 1.3599 - val_BC_Output_loss: 0.6301 - val_TC_Output_accuracy: 0.6265 - val_BC_Output_accuracy: 0.8253\n",
            "Epoch 27/200\n",
            "415/415 [==============================] - 8s 19ms/step - loss: 2.2843 - TC_Output_loss: 1.5292 - BC_Output_loss: 0.7551 - TC_Output_accuracy: 0.5883 - BC_Output_accuracy: 0.7937 - val_loss: 1.9331 - val_TC_Output_loss: 1.3309 - val_BC_Output_loss: 0.6023 - val_TC_Output_accuracy: 0.6345 - val_BC_Output_accuracy: 0.8361\n",
            "Epoch 28/200\n",
            "415/415 [==============================] - 8s 19ms/step - loss: 2.2413 - TC_Output_loss: 1.5057 - BC_Output_loss: 0.7357 - TC_Output_accuracy: 0.5932 - BC_Output_accuracy: 0.7976 - val_loss: 1.8943 - val_TC_Output_loss: 1.3058 - val_BC_Output_loss: 0.5885 - val_TC_Output_accuracy: 0.6392 - val_BC_Output_accuracy: 0.8392\n",
            "Epoch 29/200\n",
            "415/415 [==============================] - 8s 19ms/step - loss: 2.1972 - TC_Output_loss: 1.4781 - BC_Output_loss: 0.7190 - TC_Output_accuracy: 0.5974 - BC_Output_accuracy: 0.8011 - val_loss: 1.8602 - val_TC_Output_loss: 1.2909 - val_BC_Output_loss: 0.5692 - val_TC_Output_accuracy: 0.6431 - val_BC_Output_accuracy: 0.8472\n",
            "Epoch 30/200\n",
            "415/415 [==============================] - 8s 19ms/step - loss: 2.1560 - TC_Output_loss: 1.4589 - BC_Output_loss: 0.6971 - TC_Output_accuracy: 0.6024 - BC_Output_accuracy: 0.8057 - val_loss: 1.8188 - val_TC_Output_loss: 1.2562 - val_BC_Output_loss: 0.5625 - val_TC_Output_accuracy: 0.6524 - val_BC_Output_accuracy: 0.8454\n",
            "Epoch 31/200\n",
            "415/415 [==============================] - 8s 19ms/step - loss: 2.1123 - TC_Output_loss: 1.4329 - BC_Output_loss: 0.6794 - TC_Output_accuracy: 0.6084 - BC_Output_accuracy: 0.8100 - val_loss: 1.7756 - val_TC_Output_loss: 1.2405 - val_BC_Output_loss: 0.5351 - val_TC_Output_accuracy: 0.6547 - val_BC_Output_accuracy: 0.8534\n",
            "Epoch 32/200\n",
            "415/415 [==============================] - 8s 19ms/step - loss: 2.0814 - TC_Output_loss: 1.4157 - BC_Output_loss: 0.6657 - TC_Output_accuracy: 0.6119 - BC_Output_accuracy: 0.8146 - val_loss: 1.7410 - val_TC_Output_loss: 1.2156 - val_BC_Output_loss: 0.5254 - val_TC_Output_accuracy: 0.6622 - val_BC_Output_accuracy: 0.8550\n",
            "Epoch 33/200\n",
            "415/415 [==============================] - 8s 19ms/step - loss: 2.0399 - TC_Output_loss: 1.3932 - BC_Output_loss: 0.6467 - TC_Output_accuracy: 0.6175 - BC_Output_accuracy: 0.8180 - val_loss: 1.7102 - val_TC_Output_loss: 1.2003 - val_BC_Output_loss: 0.5099 - val_TC_Output_accuracy: 0.6631 - val_BC_Output_accuracy: 0.8585\n",
            "Epoch 34/200\n",
            "415/415 [==============================] - 8s 19ms/step - loss: 2.0102 - TC_Output_loss: 1.3751 - BC_Output_loss: 0.6351 - TC_Output_accuracy: 0.6203 - BC_Output_accuracy: 0.8196 - val_loss: 1.6939 - val_TC_Output_loss: 1.1930 - val_BC_Output_loss: 0.5009 - val_TC_Output_accuracy: 0.6631 - val_BC_Output_accuracy: 0.8582\n",
            "Epoch 35/200\n",
            "415/415 [==============================] - 8s 19ms/step - loss: 1.9756 - TC_Output_loss: 1.3567 - BC_Output_loss: 0.6189 - TC_Output_accuracy: 0.6262 - BC_Output_accuracy: 0.8241 - val_loss: 1.6633 - val_TC_Output_loss: 1.1714 - val_BC_Output_loss: 0.4919 - val_TC_Output_accuracy: 0.6714 - val_BC_Output_accuracy: 0.8622\n",
            "Epoch 36/200\n",
            "415/415 [==============================] - 8s 20ms/step - loss: 1.9447 - TC_Output_loss: 1.3399 - BC_Output_loss: 0.6048 - TC_Output_accuracy: 0.6280 - BC_Output_accuracy: 0.8268 - val_loss: 1.6228 - val_TC_Output_loss: 1.1506 - val_BC_Output_loss: 0.4722 - val_TC_Output_accuracy: 0.6769 - val_BC_Output_accuracy: 0.8695\n",
            "Epoch 37/200\n",
            "415/415 [==============================] - 8s 19ms/step - loss: 1.9168 - TC_Output_loss: 1.3250 - BC_Output_loss: 0.5918 - TC_Output_accuracy: 0.6314 - BC_Output_accuracy: 0.8307 - val_loss: 1.5889 - val_TC_Output_loss: 1.1288 - val_BC_Output_loss: 0.4601 - val_TC_Output_accuracy: 0.6812 - val_BC_Output_accuracy: 0.8726\n",
            "Epoch 38/200\n",
            "415/415 [==============================] - 8s 19ms/step - loss: 1.8934 - TC_Output_loss: 1.3131 - BC_Output_loss: 0.5804 - TC_Output_accuracy: 0.6350 - BC_Output_accuracy: 0.8323 - val_loss: 1.5679 - val_TC_Output_loss: 1.1185 - val_BC_Output_loss: 0.4494 - val_TC_Output_accuracy: 0.6861 - val_BC_Output_accuracy: 0.8742\n",
            "Epoch 39/200\n",
            "415/415 [==============================] - 8s 19ms/step - loss: 1.8592 - TC_Output_loss: 1.2899 - BC_Output_loss: 0.5693 - TC_Output_accuracy: 0.6409 - BC_Output_accuracy: 0.8359 - val_loss: 1.5263 - val_TC_Output_loss: 1.1003 - val_BC_Output_loss: 0.4260 - val_TC_Output_accuracy: 0.6855 - val_BC_Output_accuracy: 0.8836\n",
            "Epoch 40/200\n",
            "412/415 [============================>.] - ETA: 0s - loss: 1.8373 - TC_Output_loss: 1.2798 - BC_Output_loss: 0.5575 - TC_Output_accuracy: 0.6418 - BC_Output_accuracy: 0.8385\n",
            "Epoch 40: saving model to weights-improvement-40-1.8377-bigger.hdf5\n",
            "415/415 [==============================] - 8s 20ms/step - loss: 1.8377 - TC_Output_loss: 1.2794 - BC_Output_loss: 0.5583 - TC_Output_accuracy: 0.6419 - BC_Output_accuracy: 0.8382 - val_loss: 1.5314 - val_TC_Output_loss: 1.0991 - val_BC_Output_loss: 0.4324 - val_TC_Output_accuracy: 0.6880 - val_BC_Output_accuracy: 0.8770\n",
            "Epoch 41/200\n",
            "415/415 [==============================] - 8s 19ms/step - loss: 1.8063 - TC_Output_loss: 1.2613 - BC_Output_loss: 0.5450 - TC_Output_accuracy: 0.6472 - BC_Output_accuracy: 0.8408 - val_loss: 1.4893 - val_TC_Output_loss: 1.0735 - val_BC_Output_loss: 0.4158 - val_TC_Output_accuracy: 0.6943 - val_BC_Output_accuracy: 0.8845\n",
            "Epoch 42/200\n",
            "415/415 [==============================] - 8s 20ms/step - loss: 1.7802 - TC_Output_loss: 1.2449 - BC_Output_loss: 0.5353 - TC_Output_accuracy: 0.6506 - BC_Output_accuracy: 0.8454 - val_loss: 1.4532 - val_TC_Output_loss: 1.0559 - val_BC_Output_loss: 0.3972 - val_TC_Output_accuracy: 0.6985 - val_BC_Output_accuracy: 0.8931\n",
            "Epoch 43/200\n",
            "415/415 [==============================] - 8s 19ms/step - loss: 1.7665 - TC_Output_loss: 1.2358 - BC_Output_loss: 0.5306 - TC_Output_accuracy: 0.6538 - BC_Output_accuracy: 0.8462 - val_loss: 1.4425 - val_TC_Output_loss: 1.0439 - val_BC_Output_loss: 0.3986 - val_TC_Output_accuracy: 0.7046 - val_BC_Output_accuracy: 0.8899\n",
            "Epoch 44/200\n",
            "415/415 [==============================] - 8s 19ms/step - loss: 1.7392 - TC_Output_loss: 1.2257 - BC_Output_loss: 0.5135 - TC_Output_accuracy: 0.6545 - BC_Output_accuracy: 0.8503 - val_loss: 1.4068 - val_TC_Output_loss: 1.0294 - val_BC_Output_loss: 0.3775 - val_TC_Output_accuracy: 0.7057 - val_BC_Output_accuracy: 0.8948\n",
            "Epoch 45/200\n",
            "415/415 [==============================] - 8s 19ms/step - loss: 1.7227 - TC_Output_loss: 1.2140 - BC_Output_loss: 0.5087 - TC_Output_accuracy: 0.6585 - BC_Output_accuracy: 0.8501 - val_loss: 1.3870 - val_TC_Output_loss: 1.0130 - val_BC_Output_loss: 0.3740 - val_TC_Output_accuracy: 0.7130 - val_BC_Output_accuracy: 0.8949\n",
            "Epoch 46/200\n",
            "415/415 [==============================] - 8s 19ms/step - loss: 1.7026 - TC_Output_loss: 1.2001 - BC_Output_loss: 0.5025 - TC_Output_accuracy: 0.6596 - BC_Output_accuracy: 0.8524 - val_loss: 1.4042 - val_TC_Output_loss: 1.0179 - val_BC_Output_loss: 0.3864 - val_TC_Output_accuracy: 0.7078 - val_BC_Output_accuracy: 0.8927\n",
            "Epoch 47/200\n",
            "415/415 [==============================] - 8s 19ms/step - loss: 1.6838 - TC_Output_loss: 1.1899 - BC_Output_loss: 0.4939 - TC_Output_accuracy: 0.6614 - BC_Output_accuracy: 0.8536 - val_loss: 1.3663 - val_TC_Output_loss: 1.0001 - val_BC_Output_loss: 0.3662 - val_TC_Output_accuracy: 0.7150 - val_BC_Output_accuracy: 0.8979\n",
            "Epoch 48/200\n",
            "415/415 [==============================] - 8s 19ms/step - loss: 1.6625 - TC_Output_loss: 1.1767 - BC_Output_loss: 0.4858 - TC_Output_accuracy: 0.6675 - BC_Output_accuracy: 0.8570 - val_loss: 1.3401 - val_TC_Output_loss: 0.9820 - val_BC_Output_loss: 0.3581 - val_TC_Output_accuracy: 0.7218 - val_BC_Output_accuracy: 0.9025\n",
            "Epoch 49/200\n",
            "415/415 [==============================] - 8s 19ms/step - loss: 1.6369 - TC_Output_loss: 1.1639 - BC_Output_loss: 0.4730 - TC_Output_accuracy: 0.6696 - BC_Output_accuracy: 0.8595 - val_loss: 1.3184 - val_TC_Output_loss: 0.9675 - val_BC_Output_loss: 0.3509 - val_TC_Output_accuracy: 0.7205 - val_BC_Output_accuracy: 0.9003\n",
            "Epoch 50/200\n",
            "415/415 [==============================] - 8s 19ms/step - loss: 1.6206 - TC_Output_loss: 1.1535 - BC_Output_loss: 0.4672 - TC_Output_accuracy: 0.6716 - BC_Output_accuracy: 0.8606 - val_loss: 1.3141 - val_TC_Output_loss: 0.9687 - val_BC_Output_loss: 0.3455 - val_TC_Output_accuracy: 0.7234 - val_BC_Output_accuracy: 0.9027\n",
            "Epoch 51/200\n",
            "415/415 [==============================] - 8s 19ms/step - loss: 1.6074 - TC_Output_loss: 1.1471 - BC_Output_loss: 0.4603 - TC_Output_accuracy: 0.6730 - BC_Output_accuracy: 0.8616 - val_loss: 1.2764 - val_TC_Output_loss: 0.9422 - val_BC_Output_loss: 0.3342 - val_TC_Output_accuracy: 0.7291 - val_BC_Output_accuracy: 0.9067\n",
            "Epoch 52/200\n",
            "415/415 [==============================] - 8s 19ms/step - loss: 1.5896 - TC_Output_loss: 1.1354 - BC_Output_loss: 0.4542 - TC_Output_accuracy: 0.6749 - BC_Output_accuracy: 0.8635 - val_loss: 1.2691 - val_TC_Output_loss: 0.9411 - val_BC_Output_loss: 0.3280 - val_TC_Output_accuracy: 0.7307 - val_BC_Output_accuracy: 0.9110\n",
            "Epoch 53/200\n",
            "415/415 [==============================] - 8s 19ms/step - loss: 1.5689 - TC_Output_loss: 1.1236 - BC_Output_loss: 0.4452 - TC_Output_accuracy: 0.6785 - BC_Output_accuracy: 0.8674 - val_loss: 1.2615 - val_TC_Output_loss: 0.9342 - val_BC_Output_loss: 0.3273 - val_TC_Output_accuracy: 0.7284 - val_BC_Output_accuracy: 0.9094\n",
            "Epoch 54/200\n",
            "415/415 [==============================] - 8s 19ms/step - loss: 1.5576 - TC_Output_loss: 1.1175 - BC_Output_loss: 0.4401 - TC_Output_accuracy: 0.6796 - BC_Output_accuracy: 0.8689 - val_loss: 1.2530 - val_TC_Output_loss: 0.9286 - val_BC_Output_loss: 0.3245 - val_TC_Output_accuracy: 0.7283 - val_BC_Output_accuracy: 0.9099\n",
            "Epoch 55/200\n",
            "415/415 [==============================] - 8s 19ms/step - loss: 1.5306 - TC_Output_loss: 1.0995 - BC_Output_loss: 0.4311 - TC_Output_accuracy: 0.6842 - BC_Output_accuracy: 0.8711 - val_loss: 1.2240 - val_TC_Output_loss: 0.9104 - val_BC_Output_loss: 0.3136 - val_TC_Output_accuracy: 0.7380 - val_BC_Output_accuracy: 0.9141\n",
            "Epoch 56/200\n",
            "415/415 [==============================] - 8s 19ms/step - loss: 1.5282 - TC_Output_loss: 1.0976 - BC_Output_loss: 0.4306 - TC_Output_accuracy: 0.6868 - BC_Output_accuracy: 0.8695 - val_loss: 1.2361 - val_TC_Output_loss: 0.9171 - val_BC_Output_loss: 0.3191 - val_TC_Output_accuracy: 0.7307 - val_BC_Output_accuracy: 0.9082\n",
            "Epoch 57/200\n",
            "415/415 [==============================] - 8s 19ms/step - loss: 1.5046 - TC_Output_loss: 1.0877 - BC_Output_loss: 0.4169 - TC_Output_accuracy: 0.6875 - BC_Output_accuracy: 0.8752 - val_loss: 1.1892 - val_TC_Output_loss: 0.8917 - val_BC_Output_loss: 0.2974 - val_TC_Output_accuracy: 0.7447 - val_BC_Output_accuracy: 0.9154\n",
            "Epoch 58/200\n",
            "415/415 [==============================] - 8s 19ms/step - loss: 1.4891 - TC_Output_loss: 1.0774 - BC_Output_loss: 0.4116 - TC_Output_accuracy: 0.6885 - BC_Output_accuracy: 0.8740 - val_loss: 1.1874 - val_TC_Output_loss: 0.8921 - val_BC_Output_loss: 0.2953 - val_TC_Output_accuracy: 0.7429 - val_BC_Output_accuracy: 0.9147\n",
            "Epoch 59/200\n",
            "415/415 [==============================] - 8s 19ms/step - loss: 1.4751 - TC_Output_loss: 1.0657 - BC_Output_loss: 0.4094 - TC_Output_accuracy: 0.6922 - BC_Output_accuracy: 0.8754 - val_loss: 1.1689 - val_TC_Output_loss: 0.8816 - val_BC_Output_loss: 0.2873 - val_TC_Output_accuracy: 0.7425 - val_BC_Output_accuracy: 0.9168\n",
            "Epoch 60/200\n",
            "412/415 [============================>.] - ETA: 0s - loss: 1.4680 - TC_Output_loss: 1.0636 - BC_Output_loss: 0.4044 - TC_Output_accuracy: 0.6932 - BC_Output_accuracy: 0.8776\n",
            "Epoch 60: saving model to weights-improvement-60-1.4679-bigger.hdf5\n",
            "415/415 [==============================] - 8s 20ms/step - loss: 1.4679 - TC_Output_loss: 1.0630 - BC_Output_loss: 0.4049 - TC_Output_accuracy: 0.6933 - BC_Output_accuracy: 0.8775 - val_loss: 1.1531 - val_TC_Output_loss: 0.8684 - val_BC_Output_loss: 0.2847 - val_TC_Output_accuracy: 0.7481 - val_BC_Output_accuracy: 0.9188\n",
            "Epoch 61/200\n",
            "415/415 [==============================] - 8s 20ms/step - loss: 1.4477 - TC_Output_loss: 1.0501 - BC_Output_loss: 0.3977 - TC_Output_accuracy: 0.6955 - BC_Output_accuracy: 0.8789 - val_loss: 1.1313 - val_TC_Output_loss: 0.8527 - val_BC_Output_loss: 0.2786 - val_TC_Output_accuracy: 0.7538 - val_BC_Output_accuracy: 0.9207\n",
            "Epoch 62/200\n",
            "415/415 [==============================] - 8s 19ms/step - loss: 1.4384 - TC_Output_loss: 1.0422 - BC_Output_loss: 0.3961 - TC_Output_accuracy: 0.6972 - BC_Output_accuracy: 0.8793 - val_loss: 1.1190 - val_TC_Output_loss: 0.8440 - val_BC_Output_loss: 0.2750 - val_TC_Output_accuracy: 0.7529 - val_BC_Output_accuracy: 0.9226\n",
            "Epoch 63/200\n",
            "415/415 [==============================] - 8s 19ms/step - loss: 1.4265 - TC_Output_loss: 1.0378 - BC_Output_loss: 0.3887 - TC_Output_accuracy: 0.6994 - BC_Output_accuracy: 0.8817 - val_loss: 1.1164 - val_TC_Output_loss: 0.8436 - val_BC_Output_loss: 0.2728 - val_TC_Output_accuracy: 0.7571 - val_BC_Output_accuracy: 0.9245\n",
            "Epoch 64/200\n",
            "415/415 [==============================] - 8s 19ms/step - loss: 1.4141 - TC_Output_loss: 1.0309 - BC_Output_loss: 0.3832 - TC_Output_accuracy: 0.6996 - BC_Output_accuracy: 0.8834 - val_loss: 1.1031 - val_TC_Output_loss: 0.8382 - val_BC_Output_loss: 0.2649 - val_TC_Output_accuracy: 0.7540 - val_BC_Output_accuracy: 0.9235\n",
            "Epoch 65/200\n",
            "415/415 [==============================] - 8s 19ms/step - loss: 1.3976 - TC_Output_loss: 1.0225 - BC_Output_loss: 0.3751 - TC_Output_accuracy: 0.7027 - BC_Output_accuracy: 0.8856 - val_loss: 1.0912 - val_TC_Output_loss: 0.8286 - val_BC_Output_loss: 0.2625 - val_TC_Output_accuracy: 0.7602 - val_BC_Output_accuracy: 0.9242\n",
            "Epoch 66/200\n",
            "415/415 [==============================] - 8s 19ms/step - loss: 1.3848 - TC_Output_loss: 1.0110 - BC_Output_loss: 0.3738 - TC_Output_accuracy: 0.7034 - BC_Output_accuracy: 0.8857 - val_loss: 1.0888 - val_TC_Output_loss: 0.8248 - val_BC_Output_loss: 0.2641 - val_TC_Output_accuracy: 0.7570 - val_BC_Output_accuracy: 0.9228\n",
            "Epoch 67/200\n",
            "415/415 [==============================] - 8s 20ms/step - loss: 1.3763 - TC_Output_loss: 1.0053 - BC_Output_loss: 0.3709 - TC_Output_accuracy: 0.7090 - BC_Output_accuracy: 0.8859 - val_loss: 1.0715 - val_TC_Output_loss: 0.8100 - val_BC_Output_loss: 0.2615 - val_TC_Output_accuracy: 0.7643 - val_BC_Output_accuracy: 0.9247\n",
            "Epoch 68/200\n",
            "415/415 [==============================] - 8s 19ms/step - loss: 1.3648 - TC_Output_loss: 0.9967 - BC_Output_loss: 0.3680 - TC_Output_accuracy: 0.7083 - BC_Output_accuracy: 0.8872 - val_loss: 1.0667 - val_TC_Output_loss: 0.8072 - val_BC_Output_loss: 0.2595 - val_TC_Output_accuracy: 0.7637 - val_BC_Output_accuracy: 0.9252\n",
            "Epoch 69/200\n",
            "415/415 [==============================] - 8s 19ms/step - loss: 1.3503 - TC_Output_loss: 0.9893 - BC_Output_loss: 0.3610 - TC_Output_accuracy: 0.7132 - BC_Output_accuracy: 0.8900 - val_loss: 1.0535 - val_TC_Output_loss: 0.8014 - val_BC_Output_loss: 0.2522 - val_TC_Output_accuracy: 0.7640 - val_BC_Output_accuracy: 0.9286\n",
            "Epoch 70/200\n",
            "415/415 [==============================] - 8s 19ms/step - loss: 1.3452 - TC_Output_loss: 0.9869 - BC_Output_loss: 0.3583 - TC_Output_accuracy: 0.7115 - BC_Output_accuracy: 0.8882 - val_loss: 1.0309 - val_TC_Output_loss: 0.7878 - val_BC_Output_loss: 0.2431 - val_TC_Output_accuracy: 0.7681 - val_BC_Output_accuracy: 0.9308\n",
            "Epoch 71/200\n",
            "415/415 [==============================] - 8s 19ms/step - loss: 1.3271 - TC_Output_loss: 0.9775 - BC_Output_loss: 0.3496 - TC_Output_accuracy: 0.7123 - BC_Output_accuracy: 0.8919 - val_loss: 1.0403 - val_TC_Output_loss: 0.7922 - val_BC_Output_loss: 0.2481 - val_TC_Output_accuracy: 0.7697 - val_BC_Output_accuracy: 0.9277\n",
            "Epoch 72/200\n",
            "415/415 [==============================] - 8s 19ms/step - loss: 1.3150 - TC_Output_loss: 0.9672 - BC_Output_loss: 0.3478 - TC_Output_accuracy: 0.7161 - BC_Output_accuracy: 0.8912 - val_loss: 1.0118 - val_TC_Output_loss: 0.7763 - val_BC_Output_loss: 0.2356 - val_TC_Output_accuracy: 0.7729 - val_BC_Output_accuracy: 0.9321\n",
            "Epoch 73/200\n",
            "415/415 [==============================] - 8s 19ms/step - loss: 1.3027 - TC_Output_loss: 0.9615 - BC_Output_loss: 0.3412 - TC_Output_accuracy: 0.7188 - BC_Output_accuracy: 0.8946 - val_loss: 1.0143 - val_TC_Output_loss: 0.7771 - val_BC_Output_loss: 0.2372 - val_TC_Output_accuracy: 0.7729 - val_BC_Output_accuracy: 0.9328\n",
            "Epoch 74/200\n",
            "415/415 [==============================] - 8s 19ms/step - loss: 1.3022 - TC_Output_loss: 0.9588 - BC_Output_loss: 0.3435 - TC_Output_accuracy: 0.7179 - BC_Output_accuracy: 0.8939 - val_loss: 1.0123 - val_TC_Output_loss: 0.7735 - val_BC_Output_loss: 0.2388 - val_TC_Output_accuracy: 0.7775 - val_BC_Output_accuracy: 0.9303\n",
            "Epoch 75/200\n",
            "415/415 [==============================] - 8s 19ms/step - loss: 1.2891 - TC_Output_loss: 0.9535 - BC_Output_loss: 0.3356 - TC_Output_accuracy: 0.7204 - BC_Output_accuracy: 0.8957 - val_loss: 0.9984 - val_TC_Output_loss: 0.7621 - val_BC_Output_loss: 0.2363 - val_TC_Output_accuracy: 0.7784 - val_BC_Output_accuracy: 0.9315\n",
            "Epoch 76/200\n",
            "415/415 [==============================] - 8s 19ms/step - loss: 1.2771 - TC_Output_loss: 0.9422 - BC_Output_loss: 0.3350 - TC_Output_accuracy: 0.7238 - BC_Output_accuracy: 0.8966 - val_loss: 0.9851 - val_TC_Output_loss: 0.7557 - val_BC_Output_loss: 0.2294 - val_TC_Output_accuracy: 0.7816 - val_BC_Output_accuracy: 0.9341\n",
            "Epoch 77/200\n",
            "415/415 [==============================] - 8s 19ms/step - loss: 1.2721 - TC_Output_loss: 0.9411 - BC_Output_loss: 0.3310 - TC_Output_accuracy: 0.7218 - BC_Output_accuracy: 0.8964 - val_loss: 0.9759 - val_TC_Output_loss: 0.7542 - val_BC_Output_loss: 0.2217 - val_TC_Output_accuracy: 0.7811 - val_BC_Output_accuracy: 0.9356\n",
            "Epoch 78/200\n",
            "415/415 [==============================] - 8s 19ms/step - loss: 1.2640 - TC_Output_loss: 0.9361 - BC_Output_loss: 0.3279 - TC_Output_accuracy: 0.7246 - BC_Output_accuracy: 0.8976 - val_loss: 0.9565 - val_TC_Output_loss: 0.7388 - val_BC_Output_loss: 0.2177 - val_TC_Output_accuracy: 0.7858 - val_BC_Output_accuracy: 0.9371\n",
            "Epoch 79/200\n",
            "415/415 [==============================] - 8s 19ms/step - loss: 1.2417 - TC_Output_loss: 0.9211 - BC_Output_loss: 0.3206 - TC_Output_accuracy: 0.7280 - BC_Output_accuracy: 0.9001 - val_loss: 0.9553 - val_TC_Output_loss: 0.7344 - val_BC_Output_loss: 0.2208 - val_TC_Output_accuracy: 0.7858 - val_BC_Output_accuracy: 0.9373\n",
            "Epoch 80/200\n",
            "413/415 [============================>.] - ETA: 0s - loss: 1.2351 - TC_Output_loss: 0.9182 - BC_Output_loss: 0.3169 - TC_Output_accuracy: 0.7305 - BC_Output_accuracy: 0.8997\n",
            "Epoch 80: saving model to weights-improvement-80-1.2350-bigger.hdf5\n",
            "415/415 [==============================] - 8s 20ms/step - loss: 1.2350 - TC_Output_loss: 0.9181 - BC_Output_loss: 0.3169 - TC_Output_accuracy: 0.7305 - BC_Output_accuracy: 0.8997 - val_loss: 0.9471 - val_TC_Output_loss: 0.7323 - val_BC_Output_loss: 0.2148 - val_TC_Output_accuracy: 0.7843 - val_BC_Output_accuracy: 0.9380\n",
            "Epoch 81/200\n",
            "415/415 [==============================] - 8s 19ms/step - loss: 1.2332 - TC_Output_loss: 0.9193 - BC_Output_loss: 0.3139 - TC_Output_accuracy: 0.7276 - BC_Output_accuracy: 0.9020 - val_loss: 0.9308 - val_TC_Output_loss: 0.7185 - val_BC_Output_loss: 0.2123 - val_TC_Output_accuracy: 0.7893 - val_BC_Output_accuracy: 0.9403\n",
            "Epoch 82/200\n",
            "415/415 [==============================] - 8s 20ms/step - loss: 1.2205 - TC_Output_loss: 0.9038 - BC_Output_loss: 0.3167 - TC_Output_accuracy: 0.7317 - BC_Output_accuracy: 0.9004 - val_loss: 0.9327 - val_TC_Output_loss: 0.7194 - val_BC_Output_loss: 0.2133 - val_TC_Output_accuracy: 0.7866 - val_BC_Output_accuracy: 0.9389\n",
            "Epoch 83/200\n",
            "415/415 [==============================] - 8s 19ms/step - loss: 1.2094 - TC_Output_loss: 0.9021 - BC_Output_loss: 0.3073 - TC_Output_accuracy: 0.7319 - BC_Output_accuracy: 0.9030 - val_loss: 0.9150 - val_TC_Output_loss: 0.7082 - val_BC_Output_loss: 0.2068 - val_TC_Output_accuracy: 0.7908 - val_BC_Output_accuracy: 0.9403\n",
            "Epoch 84/200\n",
            "415/415 [==============================] - 8s 19ms/step - loss: 1.1961 - TC_Output_loss: 0.8932 - BC_Output_loss: 0.3029 - TC_Output_accuracy: 0.7333 - BC_Output_accuracy: 0.9046 - val_loss: 0.9147 - val_TC_Output_loss: 0.7105 - val_BC_Output_loss: 0.2042 - val_TC_Output_accuracy: 0.7918 - val_BC_Output_accuracy: 0.9407\n",
            "Epoch 85/200\n",
            "415/415 [==============================] - 8s 19ms/step - loss: 1.1985 - TC_Output_loss: 0.8922 - BC_Output_loss: 0.3063 - TC_Output_accuracy: 0.7353 - BC_Output_accuracy: 0.9031 - val_loss: 0.9038 - val_TC_Output_loss: 0.7016 - val_BC_Output_loss: 0.2022 - val_TC_Output_accuracy: 0.7967 - val_BC_Output_accuracy: 0.9440\n",
            "Epoch 86/200\n",
            "415/415 [==============================] - 8s 20ms/step - loss: 1.1893 - TC_Output_loss: 0.8862 - BC_Output_loss: 0.3031 - TC_Output_accuracy: 0.7363 - BC_Output_accuracy: 0.9052 - val_loss: 0.9056 - val_TC_Output_loss: 0.7016 - val_BC_Output_loss: 0.2041 - val_TC_Output_accuracy: 0.7961 - val_BC_Output_accuracy: 0.9408\n",
            "Epoch 87/200\n",
            "415/415 [==============================] - 8s 19ms/step - loss: 1.1829 - TC_Output_loss: 0.8811 - BC_Output_loss: 0.3018 - TC_Output_accuracy: 0.7368 - BC_Output_accuracy: 0.9045 - val_loss: 0.8846 - val_TC_Output_loss: 0.6899 - val_BC_Output_loss: 0.1947 - val_TC_Output_accuracy: 0.7975 - val_BC_Output_accuracy: 0.9459\n",
            "Epoch 88/200\n",
            "415/415 [==============================] - 8s 19ms/step - loss: 1.1656 - TC_Output_loss: 0.8705 - BC_Output_loss: 0.2950 - TC_Output_accuracy: 0.7399 - BC_Output_accuracy: 0.9051 - val_loss: 0.8729 - val_TC_Output_loss: 0.6822 - val_BC_Output_loss: 0.1907 - val_TC_Output_accuracy: 0.7989 - val_BC_Output_accuracy: 0.9449\n",
            "Epoch 89/200\n",
            "415/415 [==============================] - 8s 19ms/step - loss: 1.1584 - TC_Output_loss: 0.8689 - BC_Output_loss: 0.2895 - TC_Output_accuracy: 0.7402 - BC_Output_accuracy: 0.9075 - val_loss: 0.8665 - val_TC_Output_loss: 0.6763 - val_BC_Output_loss: 0.1902 - val_TC_Output_accuracy: 0.8045 - val_BC_Output_accuracy: 0.9454\n",
            "Epoch 90/200\n",
            "415/415 [==============================] - 8s 19ms/step - loss: 1.1514 - TC_Output_loss: 0.8625 - BC_Output_loss: 0.2889 - TC_Output_accuracy: 0.7413 - BC_Output_accuracy: 0.9081 - val_loss: 0.8644 - val_TC_Output_loss: 0.6752 - val_BC_Output_loss: 0.1893 - val_TC_Output_accuracy: 0.7991 - val_BC_Output_accuracy: 0.9454\n",
            "Epoch 91/200\n",
            "415/415 [==============================] - 8s 19ms/step - loss: 1.1401 - TC_Output_loss: 0.8558 - BC_Output_loss: 0.2843 - TC_Output_accuracy: 0.7433 - BC_Output_accuracy: 0.9108 - val_loss: 0.8485 - val_TC_Output_loss: 0.6621 - val_BC_Output_loss: 0.1863 - val_TC_Output_accuracy: 0.8069 - val_BC_Output_accuracy: 0.9451\n",
            "Epoch 92/200\n",
            "415/415 [==============================] - 8s 20ms/step - loss: 1.1432 - TC_Output_loss: 0.8544 - BC_Output_loss: 0.2888 - TC_Output_accuracy: 0.7444 - BC_Output_accuracy: 0.9073 - val_loss: 0.8466 - val_TC_Output_loss: 0.6628 - val_BC_Output_loss: 0.1838 - val_TC_Output_accuracy: 0.8021 - val_BC_Output_accuracy: 0.9484\n",
            "Epoch 93/200\n",
            "415/415 [==============================] - 8s 19ms/step - loss: 1.1291 - TC_Output_loss: 0.8487 - BC_Output_loss: 0.2804 - TC_Output_accuracy: 0.7469 - BC_Output_accuracy: 0.9109 - val_loss: 0.8464 - val_TC_Output_loss: 0.6597 - val_BC_Output_loss: 0.1867 - val_TC_Output_accuracy: 0.8050 - val_BC_Output_accuracy: 0.9446\n",
            "Epoch 94/200\n",
            "415/415 [==============================] - 8s 19ms/step - loss: 1.1337 - TC_Output_loss: 0.8526 - BC_Output_loss: 0.2811 - TC_Output_accuracy: 0.7455 - BC_Output_accuracy: 0.9104 - val_loss: 0.8435 - val_TC_Output_loss: 0.6576 - val_BC_Output_loss: 0.1859 - val_TC_Output_accuracy: 0.8062 - val_BC_Output_accuracy: 0.9488\n",
            "Epoch 95/200\n",
            "415/415 [==============================] - 8s 19ms/step - loss: 1.1092 - TC_Output_loss: 0.8334 - BC_Output_loss: 0.2758 - TC_Output_accuracy: 0.7500 - BC_Output_accuracy: 0.9112 - val_loss: 0.8231 - val_TC_Output_loss: 0.6449 - val_BC_Output_loss: 0.1781 - val_TC_Output_accuracy: 0.8115 - val_BC_Output_accuracy: 0.9492\n",
            "Epoch 96/200\n",
            "415/415 [==============================] - 8s 19ms/step - loss: 1.1127 - TC_Output_loss: 0.8336 - BC_Output_loss: 0.2791 - TC_Output_accuracy: 0.7512 - BC_Output_accuracy: 0.9120 - val_loss: 0.8156 - val_TC_Output_loss: 0.6403 - val_BC_Output_loss: 0.1753 - val_TC_Output_accuracy: 0.8128 - val_BC_Output_accuracy: 0.9497\n",
            "Epoch 97/200\n",
            "415/415 [==============================] - 8s 19ms/step - loss: 1.0954 - TC_Output_loss: 0.8238 - BC_Output_loss: 0.2715 - TC_Output_accuracy: 0.7546 - BC_Output_accuracy: 0.9133 - val_loss: 0.8183 - val_TC_Output_loss: 0.6398 - val_BC_Output_loss: 0.1786 - val_TC_Output_accuracy: 0.8131 - val_BC_Output_accuracy: 0.9490\n",
            "Epoch 98/200\n",
            "415/415 [==============================] - 8s 19ms/step - loss: 1.0976 - TC_Output_loss: 0.8260 - BC_Output_loss: 0.2716 - TC_Output_accuracy: 0.7551 - BC_Output_accuracy: 0.9139 - val_loss: 0.8077 - val_TC_Output_loss: 0.6339 - val_BC_Output_loss: 0.1738 - val_TC_Output_accuracy: 0.8161 - val_BC_Output_accuracy: 0.9503\n",
            "Epoch 99/200\n",
            "415/415 [==============================] - 8s 19ms/step - loss: 1.0894 - TC_Output_loss: 0.8200 - BC_Output_loss: 0.2694 - TC_Output_accuracy: 0.7542 - BC_Output_accuracy: 0.9138 - val_loss: 0.8034 - val_TC_Output_loss: 0.6287 - val_BC_Output_loss: 0.1747 - val_TC_Output_accuracy: 0.8148 - val_BC_Output_accuracy: 0.9494\n",
            "Epoch 100/200\n",
            "413/415 [============================>.] - ETA: 0s - loss: 1.0819 - TC_Output_loss: 0.8170 - BC_Output_loss: 0.2649 - TC_Output_accuracy: 0.7551 - BC_Output_accuracy: 0.9157\n",
            "Epoch 100: saving model to weights-improvement-100-1.0830-bigger.hdf5\n",
            "415/415 [==============================] - 8s 20ms/step - loss: 1.0830 - TC_Output_loss: 0.8178 - BC_Output_loss: 0.2651 - TC_Output_accuracy: 0.7549 - BC_Output_accuracy: 0.9157 - val_loss: 0.7952 - val_TC_Output_loss: 0.6260 - val_BC_Output_loss: 0.1692 - val_TC_Output_accuracy: 0.8136 - val_BC_Output_accuracy: 0.9507\n",
            "Epoch 101/200\n",
            "415/415 [==============================] - 8s 19ms/step - loss: 1.0810 - TC_Output_loss: 0.8140 - BC_Output_loss: 0.2670 - TC_Output_accuracy: 0.7534 - BC_Output_accuracy: 0.9136 - val_loss: 0.7949 - val_TC_Output_loss: 0.6258 - val_BC_Output_loss: 0.1691 - val_TC_Output_accuracy: 0.8179 - val_BC_Output_accuracy: 0.9519\n",
            "Epoch 102/200\n",
            "415/415 [==============================] - 8s 19ms/step - loss: 1.0653 - TC_Output_loss: 0.8038 - BC_Output_loss: 0.2615 - TC_Output_accuracy: 0.7576 - BC_Output_accuracy: 0.9165 - val_loss: 0.7850 - val_TC_Output_loss: 0.6214 - val_BC_Output_loss: 0.1636 - val_TC_Output_accuracy: 0.8201 - val_BC_Output_accuracy: 0.9526\n",
            "Epoch 103/200\n",
            "415/415 [==============================] - 8s 19ms/step - loss: 1.0579 - TC_Output_loss: 0.8002 - BC_Output_loss: 0.2577 - TC_Output_accuracy: 0.7581 - BC_Output_accuracy: 0.9178 - val_loss: 0.7684 - val_TC_Output_loss: 0.6080 - val_BC_Output_loss: 0.1605 - val_TC_Output_accuracy: 0.8207 - val_BC_Output_accuracy: 0.9569\n",
            "Epoch 104/200\n",
            "415/415 [==============================] - 8s 19ms/step - loss: 1.0543 - TC_Output_loss: 0.7958 - BC_Output_loss: 0.2585 - TC_Output_accuracy: 0.7615 - BC_Output_accuracy: 0.9168 - val_loss: 0.7756 - val_TC_Output_loss: 0.6144 - val_BC_Output_loss: 0.1611 - val_TC_Output_accuracy: 0.8193 - val_BC_Output_accuracy: 0.9527\n",
            "Epoch 105/200\n",
            "415/415 [==============================] - 8s 19ms/step - loss: 1.0496 - TC_Output_loss: 0.7955 - BC_Output_loss: 0.2541 - TC_Output_accuracy: 0.7590 - BC_Output_accuracy: 0.9175 - val_loss: 0.7689 - val_TC_Output_loss: 0.6087 - val_BC_Output_loss: 0.1603 - val_TC_Output_accuracy: 0.8173 - val_BC_Output_accuracy: 0.9542\n",
            "Epoch 106/200\n",
            "415/415 [==============================] - 8s 19ms/step - loss: 1.0468 - TC_Output_loss: 0.7921 - BC_Output_loss: 0.2547 - TC_Output_accuracy: 0.7607 - BC_Output_accuracy: 0.9193 - val_loss: 0.7613 - val_TC_Output_loss: 0.5990 - val_BC_Output_loss: 0.1623 - val_TC_Output_accuracy: 0.8251 - val_BC_Output_accuracy: 0.9523\n",
            "Epoch 107/200\n",
            "415/415 [==============================] - 8s 19ms/step - loss: 1.0354 - TC_Output_loss: 0.7854 - BC_Output_loss: 0.2500 - TC_Output_accuracy: 0.7618 - BC_Output_accuracy: 0.9202 - val_loss: 0.7548 - val_TC_Output_loss: 0.5973 - val_BC_Output_loss: 0.1575 - val_TC_Output_accuracy: 0.8229 - val_BC_Output_accuracy: 0.9547\n",
            "Epoch 108/200\n",
            "415/415 [==============================] - 8s 19ms/step - loss: 1.0348 - TC_Output_loss: 0.7825 - BC_Output_loss: 0.2522 - TC_Output_accuracy: 0.7626 - BC_Output_accuracy: 0.9194 - val_loss: 0.7623 - val_TC_Output_loss: 0.5992 - val_BC_Output_loss: 0.1630 - val_TC_Output_accuracy: 0.8221 - val_BC_Output_accuracy: 0.9537\n",
            "Epoch 109/200\n",
            "415/415 [==============================] - 8s 19ms/step - loss: 1.0231 - TC_Output_loss: 0.7731 - BC_Output_loss: 0.2500 - TC_Output_accuracy: 0.7643 - BC_Output_accuracy: 0.9195 - val_loss: 0.7529 - val_TC_Output_loss: 0.5936 - val_BC_Output_loss: 0.1593 - val_TC_Output_accuracy: 0.8239 - val_BC_Output_accuracy: 0.9537\n",
            "Epoch 110/200\n",
            "415/415 [==============================] - 8s 19ms/step - loss: 1.0212 - TC_Output_loss: 0.7748 - BC_Output_loss: 0.2464 - TC_Output_accuracy: 0.7671 - BC_Output_accuracy: 0.9204 - val_loss: 0.7531 - val_TC_Output_loss: 0.5912 - val_BC_Output_loss: 0.1619 - val_TC_Output_accuracy: 0.8320 - val_BC_Output_accuracy: 0.9530\n",
            "Epoch 111/200\n",
            "415/415 [==============================] - 8s 20ms/step - loss: 1.0159 - TC_Output_loss: 0.7701 - BC_Output_loss: 0.2458 - TC_Output_accuracy: 0.7674 - BC_Output_accuracy: 0.9217 - val_loss: 0.7262 - val_TC_Output_loss: 0.5747 - val_BC_Output_loss: 0.1515 - val_TC_Output_accuracy: 0.8336 - val_BC_Output_accuracy: 0.9574\n",
            "Epoch 112/200\n",
            "415/415 [==============================] - 8s 19ms/step - loss: 1.0095 - TC_Output_loss: 0.7645 - BC_Output_loss: 0.2449 - TC_Output_accuracy: 0.7670 - BC_Output_accuracy: 0.9218 - val_loss: 0.7220 - val_TC_Output_loss: 0.5719 - val_BC_Output_loss: 0.1500 - val_TC_Output_accuracy: 0.8293 - val_BC_Output_accuracy: 0.9571\n",
            "Epoch 113/200\n",
            "415/415 [==============================] - 8s 19ms/step - loss: 1.0011 - TC_Output_loss: 0.7608 - BC_Output_loss: 0.2403 - TC_Output_accuracy: 0.7691 - BC_Output_accuracy: 0.9219 - val_loss: 0.7324 - val_TC_Output_loss: 0.5784 - val_BC_Output_loss: 0.1540 - val_TC_Output_accuracy: 0.8307 - val_BC_Output_accuracy: 0.9553\n",
            "Epoch 114/200\n",
            "415/415 [==============================] - 8s 19ms/step - loss: 0.9969 - TC_Output_loss: 0.7574 - BC_Output_loss: 0.2395 - TC_Output_accuracy: 0.7700 - BC_Output_accuracy: 0.9224 - val_loss: 0.7134 - val_TC_Output_loss: 0.5660 - val_BC_Output_loss: 0.1474 - val_TC_Output_accuracy: 0.8303 - val_BC_Output_accuracy: 0.9585\n",
            "Epoch 115/200\n",
            "415/415 [==============================] - 8s 19ms/step - loss: 0.9845 - TC_Output_loss: 0.7453 - BC_Output_loss: 0.2391 - TC_Output_accuracy: 0.7741 - BC_Output_accuracy: 0.9230 - val_loss: 0.7073 - val_TC_Output_loss: 0.5609 - val_BC_Output_loss: 0.1464 - val_TC_Output_accuracy: 0.8324 - val_BC_Output_accuracy: 0.9588\n",
            "Epoch 116/200\n",
            "415/415 [==============================] - 8s 19ms/step - loss: 0.9859 - TC_Output_loss: 0.7473 - BC_Output_loss: 0.2385 - TC_Output_accuracy: 0.7720 - BC_Output_accuracy: 0.9236 - val_loss: 0.7069 - val_TC_Output_loss: 0.5634 - val_BC_Output_loss: 0.1436 - val_TC_Output_accuracy: 0.8360 - val_BC_Output_accuracy: 0.9601\n",
            "Epoch 117/200\n",
            "415/415 [==============================] - 8s 20ms/step - loss: 0.9779 - TC_Output_loss: 0.7432 - BC_Output_loss: 0.2347 - TC_Output_accuracy: 0.7743 - BC_Output_accuracy: 0.9242 - val_loss: 0.6975 - val_TC_Output_loss: 0.5540 - val_BC_Output_loss: 0.1436 - val_TC_Output_accuracy: 0.8397 - val_BC_Output_accuracy: 0.9584\n",
            "Epoch 118/200\n",
            "415/415 [==============================] - 8s 19ms/step - loss: 0.9713 - TC_Output_loss: 0.7375 - BC_Output_loss: 0.2338 - TC_Output_accuracy: 0.7742 - BC_Output_accuracy: 0.9240 - val_loss: 0.7051 - val_TC_Output_loss: 0.5594 - val_BC_Output_loss: 0.1457 - val_TC_Output_accuracy: 0.8321 - val_BC_Output_accuracy: 0.9591\n",
            "Epoch 119/200\n",
            "415/415 [==============================] - 8s 19ms/step - loss: 0.9701 - TC_Output_loss: 0.7372 - BC_Output_loss: 0.2329 - TC_Output_accuracy: 0.7743 - BC_Output_accuracy: 0.9247 - val_loss: 0.6811 - val_TC_Output_loss: 0.5452 - val_BC_Output_loss: 0.1359 - val_TC_Output_accuracy: 0.8396 - val_BC_Output_accuracy: 0.9609\n",
            "Epoch 120/200\n",
            "415/415 [==============================] - ETA: 0s - loss: 0.9582 - TC_Output_loss: 0.7286 - BC_Output_loss: 0.2296 - TC_Output_accuracy: 0.7769 - BC_Output_accuracy: 0.9263\n",
            "Epoch 120: saving model to weights-improvement-120-0.9582-bigger.hdf5\n",
            "415/415 [==============================] - 8s 20ms/step - loss: 0.9582 - TC_Output_loss: 0.7286 - BC_Output_loss: 0.2296 - TC_Output_accuracy: 0.7769 - BC_Output_accuracy: 0.9263 - val_loss: 0.6791 - val_TC_Output_loss: 0.5426 - val_BC_Output_loss: 0.1365 - val_TC_Output_accuracy: 0.8367 - val_BC_Output_accuracy: 0.9624\n",
            "Epoch 121/200\n",
            "415/415 [==============================] - 8s 19ms/step - loss: 0.9629 - TC_Output_loss: 0.7307 - BC_Output_loss: 0.2322 - TC_Output_accuracy: 0.7784 - BC_Output_accuracy: 0.9239 - val_loss: 0.6732 - val_TC_Output_loss: 0.5344 - val_BC_Output_loss: 0.1389 - val_TC_Output_accuracy: 0.8421 - val_BC_Output_accuracy: 0.9608\n",
            "Epoch 122/200\n",
            "415/415 [==============================] - 8s 20ms/step - loss: 0.9436 - TC_Output_loss: 0.7208 - BC_Output_loss: 0.2227 - TC_Output_accuracy: 0.7810 - BC_Output_accuracy: 0.9275 - val_loss: 0.6783 - val_TC_Output_loss: 0.5391 - val_BC_Output_loss: 0.1392 - val_TC_Output_accuracy: 0.8434 - val_BC_Output_accuracy: 0.9609\n",
            "Epoch 123/200\n",
            "415/415 [==============================] - 8s 19ms/step - loss: 0.9445 - TC_Output_loss: 0.7175 - BC_Output_loss: 0.2270 - TC_Output_accuracy: 0.7806 - BC_Output_accuracy: 0.9268 - val_loss: 0.6663 - val_TC_Output_loss: 0.5283 - val_BC_Output_loss: 0.1380 - val_TC_Output_accuracy: 0.8434 - val_BC_Output_accuracy: 0.9582\n",
            "Epoch 124/200\n",
            "415/415 [==============================] - 8s 19ms/step - loss: 0.9430 - TC_Output_loss: 0.7167 - BC_Output_loss: 0.2263 - TC_Output_accuracy: 0.7814 - BC_Output_accuracy: 0.9266 - val_loss: 0.6750 - val_TC_Output_loss: 0.5353 - val_BC_Output_loss: 0.1397 - val_TC_Output_accuracy: 0.8368 - val_BC_Output_accuracy: 0.9590\n",
            "Epoch 125/200\n",
            "415/415 [==============================] - 8s 19ms/step - loss: 0.9372 - TC_Output_loss: 0.7109 - BC_Output_loss: 0.2263 - TC_Output_accuracy: 0.7815 - BC_Output_accuracy: 0.9256 - val_loss: 0.6706 - val_TC_Output_loss: 0.5332 - val_BC_Output_loss: 0.1374 - val_TC_Output_accuracy: 0.8408 - val_BC_Output_accuracy: 0.9588\n",
            "Epoch 126/200\n",
            "415/415 [==============================] - 8s 19ms/step - loss: 0.9359 - TC_Output_loss: 0.7126 - BC_Output_loss: 0.2233 - TC_Output_accuracy: 0.7834 - BC_Output_accuracy: 0.9289 - val_loss: 0.6474 - val_TC_Output_loss: 0.5182 - val_BC_Output_loss: 0.1291 - val_TC_Output_accuracy: 0.8486 - val_BC_Output_accuracy: 0.9648\n",
            "Epoch 127/200\n",
            "415/415 [==============================] - 8s 19ms/step - loss: 0.9196 - TC_Output_loss: 0.6999 - BC_Output_loss: 0.2198 - TC_Output_accuracy: 0.7852 - BC_Output_accuracy: 0.9291 - val_loss: 0.6413 - val_TC_Output_loss: 0.5100 - val_BC_Output_loss: 0.1312 - val_TC_Output_accuracy: 0.8554 - val_BC_Output_accuracy: 0.9619\n",
            "Epoch 128/200\n",
            "415/415 [==============================] - 8s 19ms/step - loss: 0.9224 - TC_Output_loss: 0.7015 - BC_Output_loss: 0.2209 - TC_Output_accuracy: 0.7849 - BC_Output_accuracy: 0.9294 - val_loss: 0.6591 - val_TC_Output_loss: 0.5240 - val_BC_Output_loss: 0.1350 - val_TC_Output_accuracy: 0.8439 - val_BC_Output_accuracy: 0.9602\n",
            "Epoch 129/200\n",
            "415/415 [==============================] - 8s 19ms/step - loss: 0.9175 - TC_Output_loss: 0.7006 - BC_Output_loss: 0.2170 - TC_Output_accuracy: 0.7855 - BC_Output_accuracy: 0.9300 - val_loss: 0.6327 - val_TC_Output_loss: 0.5049 - val_BC_Output_loss: 0.1277 - val_TC_Output_accuracy: 0.8529 - val_BC_Output_accuracy: 0.9640\n",
            "Epoch 130/200\n",
            "415/415 [==============================] - 8s 19ms/step - loss: 0.9078 - TC_Output_loss: 0.6938 - BC_Output_loss: 0.2139 - TC_Output_accuracy: 0.7866 - BC_Output_accuracy: 0.9285 - val_loss: 0.6399 - val_TC_Output_loss: 0.5096 - val_BC_Output_loss: 0.1303 - val_TC_Output_accuracy: 0.8499 - val_BC_Output_accuracy: 0.9618\n",
            "Epoch 131/200\n",
            "415/415 [==============================] - 8s 19ms/step - loss: 0.9089 - TC_Output_loss: 0.6917 - BC_Output_loss: 0.2172 - TC_Output_accuracy: 0.7881 - BC_Output_accuracy: 0.9298 - val_loss: 0.6375 - val_TC_Output_loss: 0.5110 - val_BC_Output_loss: 0.1266 - val_TC_Output_accuracy: 0.8470 - val_BC_Output_accuracy: 0.9645\n",
            "Epoch 132/200\n",
            "415/415 [==============================] - 8s 20ms/step - loss: 0.9030 - TC_Output_loss: 0.6898 - BC_Output_loss: 0.2132 - TC_Output_accuracy: 0.7878 - BC_Output_accuracy: 0.9303 - val_loss: 0.6229 - val_TC_Output_loss: 0.4986 - val_BC_Output_loss: 0.1243 - val_TC_Output_accuracy: 0.8520 - val_BC_Output_accuracy: 0.9647\n",
            "Epoch 133/200\n",
            "415/415 [==============================] - 8s 19ms/step - loss: 0.8967 - TC_Output_loss: 0.6850 - BC_Output_loss: 0.2117 - TC_Output_accuracy: 0.7898 - BC_Output_accuracy: 0.9316 - val_loss: 0.6290 - val_TC_Output_loss: 0.5034 - val_BC_Output_loss: 0.1255 - val_TC_Output_accuracy: 0.8515 - val_BC_Output_accuracy: 0.9623\n",
            "Epoch 134/200\n",
            "415/415 [==============================] - 8s 19ms/step - loss: 0.8993 - TC_Output_loss: 0.6842 - BC_Output_loss: 0.2152 - TC_Output_accuracy: 0.7896 - BC_Output_accuracy: 0.9299 - val_loss: 0.6299 - val_TC_Output_loss: 0.5016 - val_BC_Output_loss: 0.1283 - val_TC_Output_accuracy: 0.8488 - val_BC_Output_accuracy: 0.9629\n",
            "Epoch 135/200\n",
            "415/415 [==============================] - 8s 19ms/step - loss: 0.8869 - TC_Output_loss: 0.6758 - BC_Output_loss: 0.2111 - TC_Output_accuracy: 0.7916 - BC_Output_accuracy: 0.9324 - val_loss: 0.6157 - val_TC_Output_loss: 0.4919 - val_BC_Output_loss: 0.1238 - val_TC_Output_accuracy: 0.8550 - val_BC_Output_accuracy: 0.9638\n",
            "Epoch 136/200\n",
            "415/415 [==============================] - 8s 20ms/step - loss: 0.8844 - TC_Output_loss: 0.6748 - BC_Output_loss: 0.2097 - TC_Output_accuracy: 0.7899 - BC_Output_accuracy: 0.9317 - val_loss: 0.6122 - val_TC_Output_loss: 0.4883 - val_BC_Output_loss: 0.1239 - val_TC_Output_accuracy: 0.8564 - val_BC_Output_accuracy: 0.9628\n",
            "Epoch 137/200\n",
            "415/415 [==============================] - 8s 19ms/step - loss: 0.8760 - TC_Output_loss: 0.6721 - BC_Output_loss: 0.2039 - TC_Output_accuracy: 0.7936 - BC_Output_accuracy: 0.9336 - val_loss: 0.6081 - val_TC_Output_loss: 0.4865 - val_BC_Output_loss: 0.1216 - val_TC_Output_accuracy: 0.8552 - val_BC_Output_accuracy: 0.9648\n",
            "Epoch 138/200\n",
            "415/415 [==============================] - 8s 19ms/step - loss: 0.8858 - TC_Output_loss: 0.6728 - BC_Output_loss: 0.2130 - TC_Output_accuracy: 0.7947 - BC_Output_accuracy: 0.9300 - val_loss: 0.6098 - val_TC_Output_loss: 0.4867 - val_BC_Output_loss: 0.1231 - val_TC_Output_accuracy: 0.8575 - val_BC_Output_accuracy: 0.9657\n",
            "Epoch 139/200\n",
            "415/415 [==============================] - 8s 19ms/step - loss: 0.8734 - TC_Output_loss: 0.6668 - BC_Output_loss: 0.2067 - TC_Output_accuracy: 0.7932 - BC_Output_accuracy: 0.9329 - val_loss: 0.6054 - val_TC_Output_loss: 0.4821 - val_BC_Output_loss: 0.1233 - val_TC_Output_accuracy: 0.8609 - val_BC_Output_accuracy: 0.9646\n",
            "Epoch 140/200\n",
            "415/415 [==============================] - ETA: 0s - loss: 0.8702 - TC_Output_loss: 0.6661 - BC_Output_loss: 0.2041 - TC_Output_accuracy: 0.7933 - BC_Output_accuracy: 0.9333\n",
            "Epoch 140: saving model to weights-improvement-140-0.8702-bigger.hdf5\n",
            "415/415 [==============================] - 8s 20ms/step - loss: 0.8702 - TC_Output_loss: 0.6661 - BC_Output_loss: 0.2041 - TC_Output_accuracy: 0.7933 - BC_Output_accuracy: 0.9333 - val_loss: 0.5979 - val_TC_Output_loss: 0.4776 - val_BC_Output_loss: 0.1203 - val_TC_Output_accuracy: 0.8584 - val_BC_Output_accuracy: 0.9645\n",
            "Epoch 141/200\n",
            "415/415 [==============================] - 8s 20ms/step - loss: 0.8650 - TC_Output_loss: 0.6587 - BC_Output_loss: 0.2063 - TC_Output_accuracy: 0.7963 - BC_Output_accuracy: 0.9330 - val_loss: 0.5868 - val_TC_Output_loss: 0.4724 - val_BC_Output_loss: 0.1144 - val_TC_Output_accuracy: 0.8606 - val_BC_Output_accuracy: 0.9662\n",
            "Epoch 142/200\n",
            "415/415 [==============================] - 8s 20ms/step - loss: 0.8549 - TC_Output_loss: 0.6516 - BC_Output_loss: 0.2032 - TC_Output_accuracy: 0.7986 - BC_Output_accuracy: 0.9339 - val_loss: 0.5942 - val_TC_Output_loss: 0.4739 - val_BC_Output_loss: 0.1203 - val_TC_Output_accuracy: 0.8601 - val_BC_Output_accuracy: 0.9652\n",
            "Epoch 143/200\n",
            "415/415 [==============================] - 8s 19ms/step - loss: 0.8637 - TC_Output_loss: 0.6569 - BC_Output_loss: 0.2068 - TC_Output_accuracy: 0.7967 - BC_Output_accuracy: 0.9322 - val_loss: 0.5835 - val_TC_Output_loss: 0.4659 - val_BC_Output_loss: 0.1175 - val_TC_Output_accuracy: 0.8638 - val_BC_Output_accuracy: 0.9657\n",
            "Epoch 144/200\n",
            "415/415 [==============================] - 8s 19ms/step - loss: 0.8524 - TC_Output_loss: 0.6511 - BC_Output_loss: 0.2013 - TC_Output_accuracy: 0.7994 - BC_Output_accuracy: 0.9341 - val_loss: 0.5933 - val_TC_Output_loss: 0.4705 - val_BC_Output_loss: 0.1228 - val_TC_Output_accuracy: 0.8632 - val_BC_Output_accuracy: 0.9632\n",
            "Epoch 145/200\n",
            "415/415 [==============================] - 8s 19ms/step - loss: 0.8499 - TC_Output_loss: 0.6470 - BC_Output_loss: 0.2029 - TC_Output_accuracy: 0.8002 - BC_Output_accuracy: 0.9340 - val_loss: 0.5691 - val_TC_Output_loss: 0.4576 - val_BC_Output_loss: 0.1115 - val_TC_Output_accuracy: 0.8689 - val_BC_Output_accuracy: 0.9668\n",
            "Epoch 146/200\n",
            "415/415 [==============================] - 8s 19ms/step - loss: 0.8474 - TC_Output_loss: 0.6475 - BC_Output_loss: 0.2000 - TC_Output_accuracy: 0.8018 - BC_Output_accuracy: 0.9353 - val_loss: 0.5815 - val_TC_Output_loss: 0.4639 - val_BC_Output_loss: 0.1176 - val_TC_Output_accuracy: 0.8638 - val_BC_Output_accuracy: 0.9657\n",
            "Epoch 147/200\n",
            "415/415 [==============================] - 8s 19ms/step - loss: 0.8360 - TC_Output_loss: 0.6397 - BC_Output_loss: 0.1962 - TC_Output_accuracy: 0.8012 - BC_Output_accuracy: 0.9365 - val_loss: 0.5583 - val_TC_Output_loss: 0.4476 - val_BC_Output_loss: 0.1107 - val_TC_Output_accuracy: 0.8709 - val_BC_Output_accuracy: 0.9684\n",
            "Epoch 148/200\n",
            "415/415 [==============================] - 8s 19ms/step - loss: 0.8365 - TC_Output_loss: 0.6380 - BC_Output_loss: 0.1985 - TC_Output_accuracy: 0.8016 - BC_Output_accuracy: 0.9353 - val_loss: 0.5691 - val_TC_Output_loss: 0.4572 - val_BC_Output_loss: 0.1119 - val_TC_Output_accuracy: 0.8660 - val_BC_Output_accuracy: 0.9670\n",
            "Epoch 149/200\n",
            "415/415 [==============================] - 8s 19ms/step - loss: 0.8331 - TC_Output_loss: 0.6343 - BC_Output_loss: 0.1988 - TC_Output_accuracy: 0.8017 - BC_Output_accuracy: 0.9340 - val_loss: 0.5604 - val_TC_Output_loss: 0.4489 - val_BC_Output_loss: 0.1114 - val_TC_Output_accuracy: 0.8670 - val_BC_Output_accuracy: 0.9676\n",
            "Epoch 150/200\n",
            "415/415 [==============================] - 8s 19ms/step - loss: 0.8274 - TC_Output_loss: 0.6317 - BC_Output_loss: 0.1957 - TC_Output_accuracy: 0.8047 - BC_Output_accuracy: 0.9361 - val_loss: 0.5715 - val_TC_Output_loss: 0.4576 - val_BC_Output_loss: 0.1139 - val_TC_Output_accuracy: 0.8667 - val_BC_Output_accuracy: 0.9667\n",
            "Epoch 151/200\n",
            "415/415 [==============================] - 8s 19ms/step - loss: 0.8351 - TC_Output_loss: 0.6398 - BC_Output_loss: 0.1954 - TC_Output_accuracy: 0.8015 - BC_Output_accuracy: 0.9363 - val_loss: 0.5630 - val_TC_Output_loss: 0.4489 - val_BC_Output_loss: 0.1141 - val_TC_Output_accuracy: 0.8671 - val_BC_Output_accuracy: 0.9679\n",
            "Epoch 152/200\n",
            "415/415 [==============================] - 8s 19ms/step - loss: 0.8308 - TC_Output_loss: 0.6317 - BC_Output_loss: 0.1991 - TC_Output_accuracy: 0.8047 - BC_Output_accuracy: 0.9348 - val_loss: 0.5637 - val_TC_Output_loss: 0.4484 - val_BC_Output_loss: 0.1153 - val_TC_Output_accuracy: 0.8705 - val_BC_Output_accuracy: 0.9671\n",
            "Epoch 153/200\n",
            "415/415 [==============================] - 8s 19ms/step - loss: 0.8155 - TC_Output_loss: 0.6259 - BC_Output_loss: 0.1897 - TC_Output_accuracy: 0.8056 - BC_Output_accuracy: 0.9389 - val_loss: 0.5560 - val_TC_Output_loss: 0.4424 - val_BC_Output_loss: 0.1136 - val_TC_Output_accuracy: 0.8691 - val_BC_Output_accuracy: 0.9670\n",
            "Epoch 154/200\n",
            "415/415 [==============================] - 8s 19ms/step - loss: 0.8150 - TC_Output_loss: 0.6241 - BC_Output_loss: 0.1909 - TC_Output_accuracy: 0.8057 - BC_Output_accuracy: 0.9375 - val_loss: 0.5462 - val_TC_Output_loss: 0.4382 - val_BC_Output_loss: 0.1081 - val_TC_Output_accuracy: 0.8682 - val_BC_Output_accuracy: 0.9692\n",
            "Epoch 155/200\n",
            "415/415 [==============================] - 8s 19ms/step - loss: 0.8144 - TC_Output_loss: 0.6194 - BC_Output_loss: 0.1950 - TC_Output_accuracy: 0.8074 - BC_Output_accuracy: 0.9355 - val_loss: 0.5423 - val_TC_Output_loss: 0.4306 - val_BC_Output_loss: 0.1117 - val_TC_Output_accuracy: 0.8719 - val_BC_Output_accuracy: 0.9684\n",
            "Epoch 156/200\n",
            "415/415 [==============================] - 8s 19ms/step - loss: 0.8065 - TC_Output_loss: 0.6173 - BC_Output_loss: 0.1891 - TC_Output_accuracy: 0.8076 - BC_Output_accuracy: 0.9368 - val_loss: 0.5375 - val_TC_Output_loss: 0.4304 - val_BC_Output_loss: 0.1071 - val_TC_Output_accuracy: 0.8695 - val_BC_Output_accuracy: 0.9676\n",
            "Epoch 157/200\n",
            "415/415 [==============================] - 8s 19ms/step - loss: 0.8066 - TC_Output_loss: 0.6186 - BC_Output_loss: 0.1880 - TC_Output_accuracy: 0.8079 - BC_Output_accuracy: 0.9384 - val_loss: 0.5336 - val_TC_Output_loss: 0.4274 - val_BC_Output_loss: 0.1062 - val_TC_Output_accuracy: 0.8747 - val_BC_Output_accuracy: 0.9681\n",
            "Epoch 158/200\n",
            "415/415 [==============================] - 8s 19ms/step - loss: 0.7939 - TC_Output_loss: 0.6079 - BC_Output_loss: 0.1860 - TC_Output_accuracy: 0.8103 - BC_Output_accuracy: 0.9395 - val_loss: 0.5294 - val_TC_Output_loss: 0.4216 - val_BC_Output_loss: 0.1078 - val_TC_Output_accuracy: 0.8753 - val_BC_Output_accuracy: 0.9688\n",
            "Epoch 159/200\n",
            "415/415 [==============================] - 8s 19ms/step - loss: 0.7961 - TC_Output_loss: 0.6082 - BC_Output_loss: 0.1879 - TC_Output_accuracy: 0.8101 - BC_Output_accuracy: 0.9381 - val_loss: 0.5239 - val_TC_Output_loss: 0.4216 - val_BC_Output_loss: 0.1023 - val_TC_Output_accuracy: 0.8775 - val_BC_Output_accuracy: 0.9718\n",
            "Epoch 160/200\n",
            "413/415 [============================>.] - ETA: 0s - loss: 0.7884 - TC_Output_loss: 0.6019 - BC_Output_loss: 0.1865 - TC_Output_accuracy: 0.8112 - BC_Output_accuracy: 0.9390\n",
            "Epoch 160: saving model to weights-improvement-160-0.7889-bigger.hdf5\n",
            "415/415 [==============================] - 9s 21ms/step - loss: 0.7889 - TC_Output_loss: 0.6024 - BC_Output_loss: 0.1865 - TC_Output_accuracy: 0.8110 - BC_Output_accuracy: 0.9390 - val_loss: 0.5210 - val_TC_Output_loss: 0.4212 - val_BC_Output_loss: 0.0998 - val_TC_Output_accuracy: 0.8773 - val_BC_Output_accuracy: 0.9709\n",
            "Epoch 161/200\n",
            "415/415 [==============================] - 8s 20ms/step - loss: 0.7914 - TC_Output_loss: 0.6042 - BC_Output_loss: 0.1872 - TC_Output_accuracy: 0.8109 - BC_Output_accuracy: 0.9376 - val_loss: 0.5319 - val_TC_Output_loss: 0.4235 - val_BC_Output_loss: 0.1084 - val_TC_Output_accuracy: 0.8779 - val_BC_Output_accuracy: 0.9670\n",
            "Epoch 162/200\n",
            "415/415 [==============================] - 8s 19ms/step - loss: 0.7816 - TC_Output_loss: 0.5996 - BC_Output_loss: 0.1820 - TC_Output_accuracy: 0.8129 - BC_Output_accuracy: 0.9411 - val_loss: 0.5207 - val_TC_Output_loss: 0.4168 - val_BC_Output_loss: 0.1039 - val_TC_Output_accuracy: 0.8773 - val_BC_Output_accuracy: 0.9707\n",
            "Epoch 163/200\n",
            "415/415 [==============================] - 8s 19ms/step - loss: 0.7865 - TC_Output_loss: 0.6008 - BC_Output_loss: 0.1857 - TC_Output_accuracy: 0.8141 - BC_Output_accuracy: 0.9396 - val_loss: 0.5171 - val_TC_Output_loss: 0.4163 - val_BC_Output_loss: 0.1008 - val_TC_Output_accuracy: 0.8777 - val_BC_Output_accuracy: 0.9704\n",
            "Epoch 164/200\n",
            "415/415 [==============================] - 8s 19ms/step - loss: 0.7755 - TC_Output_loss: 0.5944 - BC_Output_loss: 0.1811 - TC_Output_accuracy: 0.8161 - BC_Output_accuracy: 0.9419 - val_loss: 0.5058 - val_TC_Output_loss: 0.4074 - val_BC_Output_loss: 0.0984 - val_TC_Output_accuracy: 0.8813 - val_BC_Output_accuracy: 0.9711\n",
            "Epoch 165/200\n",
            "415/415 [==============================] - 8s 19ms/step - loss: 0.7696 - TC_Output_loss: 0.5876 - BC_Output_loss: 0.1821 - TC_Output_accuracy: 0.8156 - BC_Output_accuracy: 0.9398 - val_loss: 0.5142 - val_TC_Output_loss: 0.4132 - val_BC_Output_loss: 0.1010 - val_TC_Output_accuracy: 0.8804 - val_BC_Output_accuracy: 0.9719\n",
            "Epoch 166/200\n",
            "415/415 [==============================] - 8s 20ms/step - loss: 0.7743 - TC_Output_loss: 0.5884 - BC_Output_loss: 0.1859 - TC_Output_accuracy: 0.8135 - BC_Output_accuracy: 0.9400 - val_loss: 0.5058 - val_TC_Output_loss: 0.4050 - val_BC_Output_loss: 0.1008 - val_TC_Output_accuracy: 0.8844 - val_BC_Output_accuracy: 0.9699\n",
            "Epoch 167/200\n",
            "415/415 [==============================] - 8s 20ms/step - loss: 0.7738 - TC_Output_loss: 0.5905 - BC_Output_loss: 0.1833 - TC_Output_accuracy: 0.8148 - BC_Output_accuracy: 0.9393 - val_loss: 0.5106 - val_TC_Output_loss: 0.4094 - val_BC_Output_loss: 0.1012 - val_TC_Output_accuracy: 0.8803 - val_BC_Output_accuracy: 0.9698\n",
            "Epoch 168/200\n",
            "415/415 [==============================] - 9s 22ms/step - loss: 0.7740 - TC_Output_loss: 0.5919 - BC_Output_loss: 0.1821 - TC_Output_accuracy: 0.8161 - BC_Output_accuracy: 0.9408 - val_loss: 0.5099 - val_TC_Output_loss: 0.4038 - val_BC_Output_loss: 0.1060 - val_TC_Output_accuracy: 0.8826 - val_BC_Output_accuracy: 0.9685\n",
            "Epoch 169/200\n",
            "415/415 [==============================] - 9s 22ms/step - loss: 0.7650 - TC_Output_loss: 0.5836 - BC_Output_loss: 0.1814 - TC_Output_accuracy: 0.8178 - BC_Output_accuracy: 0.9397 - val_loss: 0.5054 - val_TC_Output_loss: 0.4011 - val_BC_Output_loss: 0.1043 - val_TC_Output_accuracy: 0.8828 - val_BC_Output_accuracy: 0.9703\n",
            "Epoch 170/200\n",
            "415/415 [==============================] - 8s 20ms/step - loss: 0.7538 - TC_Output_loss: 0.5754 - BC_Output_loss: 0.1784 - TC_Output_accuracy: 0.8201 - BC_Output_accuracy: 0.9420 - val_loss: 0.4857 - val_TC_Output_loss: 0.3916 - val_BC_Output_loss: 0.0941 - val_TC_Output_accuracy: 0.8873 - val_BC_Output_accuracy: 0.9721\n",
            "Epoch 171/200\n",
            "415/415 [==============================] - 8s 19ms/step - loss: 0.7650 - TC_Output_loss: 0.5808 - BC_Output_loss: 0.1842 - TC_Output_accuracy: 0.8188 - BC_Output_accuracy: 0.9399 - val_loss: 0.4969 - val_TC_Output_loss: 0.3986 - val_BC_Output_loss: 0.0983 - val_TC_Output_accuracy: 0.8844 - val_BC_Output_accuracy: 0.9721\n",
            "Epoch 172/200\n",
            "415/415 [==============================] - 8s 19ms/step - loss: 0.7421 - TC_Output_loss: 0.5677 - BC_Output_loss: 0.1744 - TC_Output_accuracy: 0.8235 - BC_Output_accuracy: 0.9434 - val_loss: 0.4878 - val_TC_Output_loss: 0.3932 - val_BC_Output_loss: 0.0946 - val_TC_Output_accuracy: 0.8851 - val_BC_Output_accuracy: 0.9720\n",
            "Epoch 173/200\n",
            "415/415 [==============================] - 8s 19ms/step - loss: 0.7513 - TC_Output_loss: 0.5734 - BC_Output_loss: 0.1780 - TC_Output_accuracy: 0.8198 - BC_Output_accuracy: 0.9415 - val_loss: 0.4915 - val_TC_Output_loss: 0.3928 - val_BC_Output_loss: 0.0986 - val_TC_Output_accuracy: 0.8852 - val_BC_Output_accuracy: 0.9708\n",
            "Epoch 174/200\n",
            "415/415 [==============================] - 8s 19ms/step - loss: 0.7443 - TC_Output_loss: 0.5699 - BC_Output_loss: 0.1745 - TC_Output_accuracy: 0.8205 - BC_Output_accuracy: 0.9436 - val_loss: 0.4881 - val_TC_Output_loss: 0.3910 - val_BC_Output_loss: 0.0970 - val_TC_Output_accuracy: 0.8879 - val_BC_Output_accuracy: 0.9712\n",
            "Epoch 175/200\n",
            "415/415 [==============================] - 8s 19ms/step - loss: 0.7561 - TC_Output_loss: 0.5770 - BC_Output_loss: 0.1792 - TC_Output_accuracy: 0.8197 - BC_Output_accuracy: 0.9419 - val_loss: 0.4843 - val_TC_Output_loss: 0.3880 - val_BC_Output_loss: 0.0963 - val_TC_Output_accuracy: 0.8871 - val_BC_Output_accuracy: 0.9708\n",
            "Epoch 176/200\n",
            "415/415 [==============================] - 8s 19ms/step - loss: 0.7345 - TC_Output_loss: 0.5622 - BC_Output_loss: 0.1723 - TC_Output_accuracy: 0.8263 - BC_Output_accuracy: 0.9440 - val_loss: 0.4854 - val_TC_Output_loss: 0.3870 - val_BC_Output_loss: 0.0983 - val_TC_Output_accuracy: 0.8862 - val_BC_Output_accuracy: 0.9719\n",
            "Epoch 177/200\n",
            "415/415 [==============================] - 8s 19ms/step - loss: 0.7311 - TC_Output_loss: 0.5589 - BC_Output_loss: 0.1722 - TC_Output_accuracy: 0.8253 - BC_Output_accuracy: 0.9435 - val_loss: 0.4746 - val_TC_Output_loss: 0.3793 - val_BC_Output_loss: 0.0952 - val_TC_Output_accuracy: 0.8886 - val_BC_Output_accuracy: 0.9717\n",
            "Epoch 178/200\n",
            "415/415 [==============================] - 8s 19ms/step - loss: 0.7317 - TC_Output_loss: 0.5610 - BC_Output_loss: 0.1706 - TC_Output_accuracy: 0.8248 - BC_Output_accuracy: 0.9445 - val_loss: 0.4760 - val_TC_Output_loss: 0.3820 - val_BC_Output_loss: 0.0940 - val_TC_Output_accuracy: 0.8886 - val_BC_Output_accuracy: 0.9734\n",
            "Epoch 179/200\n",
            "415/415 [==============================] - 8s 19ms/step - loss: 0.7314 - TC_Output_loss: 0.5567 - BC_Output_loss: 0.1747 - TC_Output_accuracy: 0.8256 - BC_Output_accuracy: 0.9430 - val_loss: 0.4708 - val_TC_Output_loss: 0.3778 - val_BC_Output_loss: 0.0931 - val_TC_Output_accuracy: 0.8880 - val_BC_Output_accuracy: 0.9730\n",
            "Epoch 180/200\n",
            "412/415 [============================>.] - ETA: 0s - loss: 0.7310 - TC_Output_loss: 0.5586 - BC_Output_loss: 0.1724 - TC_Output_accuracy: 0.8230 - BC_Output_accuracy: 0.9431\n",
            "Epoch 180: saving model to weights-improvement-180-0.7314-bigger.hdf5\n",
            "415/415 [==============================] - 8s 20ms/step - loss: 0.7314 - TC_Output_loss: 0.5587 - BC_Output_loss: 0.1727 - TC_Output_accuracy: 0.8228 - BC_Output_accuracy: 0.9430 - val_loss: 0.4900 - val_TC_Output_loss: 0.3903 - val_BC_Output_loss: 0.0998 - val_TC_Output_accuracy: 0.8844 - val_BC_Output_accuracy: 0.9683\n",
            "Epoch 181/200\n",
            "415/415 [==============================] - 8s 20ms/step - loss: 0.7319 - TC_Output_loss: 0.5588 - BC_Output_loss: 0.1731 - TC_Output_accuracy: 0.8235 - BC_Output_accuracy: 0.9439 - val_loss: 0.4626 - val_TC_Output_loss: 0.3698 - val_BC_Output_loss: 0.0928 - val_TC_Output_accuracy: 0.8943 - val_BC_Output_accuracy: 0.9721\n",
            "Epoch 182/200\n",
            "415/415 [==============================] - 8s 20ms/step - loss: 0.7192 - TC_Output_loss: 0.5504 - BC_Output_loss: 0.1688 - TC_Output_accuracy: 0.8282 - BC_Output_accuracy: 0.9444 - val_loss: 0.4648 - val_TC_Output_loss: 0.3714 - val_BC_Output_loss: 0.0934 - val_TC_Output_accuracy: 0.8909 - val_BC_Output_accuracy: 0.9720\n",
            "Epoch 183/200\n",
            "415/415 [==============================] - 8s 19ms/step - loss: 0.7177 - TC_Output_loss: 0.5484 - BC_Output_loss: 0.1693 - TC_Output_accuracy: 0.8278 - BC_Output_accuracy: 0.9443 - val_loss: 0.4713 - val_TC_Output_loss: 0.3763 - val_BC_Output_loss: 0.0950 - val_TC_Output_accuracy: 0.8898 - val_BC_Output_accuracy: 0.9727\n",
            "Epoch 184/200\n",
            "415/415 [==============================] - 8s 20ms/step - loss: 0.7151 - TC_Output_loss: 0.5455 - BC_Output_loss: 0.1696 - TC_Output_accuracy: 0.8281 - BC_Output_accuracy: 0.9446 - val_loss: 0.4602 - val_TC_Output_loss: 0.3682 - val_BC_Output_loss: 0.0920 - val_TC_Output_accuracy: 0.8931 - val_BC_Output_accuracy: 0.9731\n",
            "Epoch 185/200\n",
            "415/415 [==============================] - 8s 19ms/step - loss: 0.7165 - TC_Output_loss: 0.5467 - BC_Output_loss: 0.1698 - TC_Output_accuracy: 0.8271 - BC_Output_accuracy: 0.9445 - val_loss: 0.4506 - val_TC_Output_loss: 0.3619 - val_BC_Output_loss: 0.0887 - val_TC_Output_accuracy: 0.8960 - val_BC_Output_accuracy: 0.9743\n",
            "Epoch 186/200\n",
            "415/415 [==============================] - 8s 19ms/step - loss: 0.7063 - TC_Output_loss: 0.5419 - BC_Output_loss: 0.1644 - TC_Output_accuracy: 0.8279 - BC_Output_accuracy: 0.9465 - val_loss: 0.4540 - val_TC_Output_loss: 0.3607 - val_BC_Output_loss: 0.0932 - val_TC_Output_accuracy: 0.8947 - val_BC_Output_accuracy: 0.9736\n",
            "Epoch 187/200\n",
            "415/415 [==============================] - 8s 19ms/step - loss: 0.7074 - TC_Output_loss: 0.5402 - BC_Output_loss: 0.1673 - TC_Output_accuracy: 0.8288 - BC_Output_accuracy: 0.9447 - val_loss: 0.4462 - val_TC_Output_loss: 0.3557 - val_BC_Output_loss: 0.0905 - val_TC_Output_accuracy: 0.8973 - val_BC_Output_accuracy: 0.9730\n",
            "Epoch 188/200\n",
            "415/415 [==============================] - 8s 19ms/step - loss: 0.7113 - TC_Output_loss: 0.5427 - BC_Output_loss: 0.1686 - TC_Output_accuracy: 0.8286 - BC_Output_accuracy: 0.9450 - val_loss: 0.4542 - val_TC_Output_loss: 0.3634 - val_BC_Output_loss: 0.0908 - val_TC_Output_accuracy: 0.8945 - val_BC_Output_accuracy: 0.9732\n",
            "Epoch 189/200\n",
            "415/415 [==============================] - 8s 19ms/step - loss: 0.6943 - TC_Output_loss: 0.5295 - BC_Output_loss: 0.1649 - TC_Output_accuracy: 0.8336 - BC_Output_accuracy: 0.9473 - val_loss: 0.4379 - val_TC_Output_loss: 0.3497 - val_BC_Output_loss: 0.0882 - val_TC_Output_accuracy: 0.8981 - val_BC_Output_accuracy: 0.9745\n",
            "Epoch 190/200\n",
            "415/415 [==============================] - 8s 20ms/step - loss: 0.6981 - TC_Output_loss: 0.5333 - BC_Output_loss: 0.1648 - TC_Output_accuracy: 0.8299 - BC_Output_accuracy: 0.9461 - val_loss: 0.4386 - val_TC_Output_loss: 0.3464 - val_BC_Output_loss: 0.0923 - val_TC_Output_accuracy: 0.9009 - val_BC_Output_accuracy: 0.9725\n",
            "Epoch 191/200\n",
            "415/415 [==============================] - 8s 20ms/step - loss: 0.6960 - TC_Output_loss: 0.5323 - BC_Output_loss: 0.1638 - TC_Output_accuracy: 0.8328 - BC_Output_accuracy: 0.9461 - val_loss: 0.4417 - val_TC_Output_loss: 0.3528 - val_BC_Output_loss: 0.0889 - val_TC_Output_accuracy: 0.8961 - val_BC_Output_accuracy: 0.9758\n",
            "Epoch 192/200\n",
            "415/415 [==============================] - 11s 26ms/step - loss: 0.6929 - TC_Output_loss: 0.5264 - BC_Output_loss: 0.1665 - TC_Output_accuracy: 0.8347 - BC_Output_accuracy: 0.9456 - val_loss: 0.4505 - val_TC_Output_loss: 0.3603 - val_BC_Output_loss: 0.0902 - val_TC_Output_accuracy: 0.8951 - val_BC_Output_accuracy: 0.9740\n",
            "Epoch 193/200\n",
            "415/415 [==============================] - 8s 20ms/step - loss: 0.6912 - TC_Output_loss: 0.5285 - BC_Output_loss: 0.1627 - TC_Output_accuracy: 0.8330 - BC_Output_accuracy: 0.9463 - val_loss: 0.4387 - val_TC_Output_loss: 0.3486 - val_BC_Output_loss: 0.0901 - val_TC_Output_accuracy: 0.8992 - val_BC_Output_accuracy: 0.9747\n",
            "Epoch 194/200\n",
            "415/415 [==============================] - 8s 20ms/step - loss: 0.6876 - TC_Output_loss: 0.5219 - BC_Output_loss: 0.1656 - TC_Output_accuracy: 0.8362 - BC_Output_accuracy: 0.9456 - val_loss: 0.4369 - val_TC_Output_loss: 0.3482 - val_BC_Output_loss: 0.0888 - val_TC_Output_accuracy: 0.8969 - val_BC_Output_accuracy: 0.9744\n",
            "Epoch 195/200\n",
            "415/415 [==============================] - 8s 19ms/step - loss: 0.7015 - TC_Output_loss: 0.5365 - BC_Output_loss: 0.1650 - TC_Output_accuracy: 0.8313 - BC_Output_accuracy: 0.9450 - val_loss: 0.4324 - val_TC_Output_loss: 0.3462 - val_BC_Output_loss: 0.0862 - val_TC_Output_accuracy: 0.9021 - val_BC_Output_accuracy: 0.9741\n",
            "Epoch 196/200\n",
            "415/415 [==============================] - 8s 20ms/step - loss: 0.6892 - TC_Output_loss: 0.5247 - BC_Output_loss: 0.1645 - TC_Output_accuracy: 0.8345 - BC_Output_accuracy: 0.9461 - val_loss: 0.4291 - val_TC_Output_loss: 0.3436 - val_BC_Output_loss: 0.0855 - val_TC_Output_accuracy: 0.9003 - val_BC_Output_accuracy: 0.9742\n",
            "Epoch 197/200\n",
            "415/415 [==============================] - 10s 25ms/step - loss: 0.6880 - TC_Output_loss: 0.5263 - BC_Output_loss: 0.1617 - TC_Output_accuracy: 0.8344 - BC_Output_accuracy: 0.9457 - val_loss: 0.4235 - val_TC_Output_loss: 0.3352 - val_BC_Output_loss: 0.0883 - val_TC_Output_accuracy: 0.9052 - val_BC_Output_accuracy: 0.9736\n",
            "Epoch 198/200\n",
            "415/415 [==============================] - 8s 20ms/step - loss: 0.6773 - TC_Output_loss: 0.5155 - BC_Output_loss: 0.1617 - TC_Output_accuracy: 0.8367 - BC_Output_accuracy: 0.9465 - val_loss: 0.4191 - val_TC_Output_loss: 0.3327 - val_BC_Output_loss: 0.0864 - val_TC_Output_accuracy: 0.9040 - val_BC_Output_accuracy: 0.9734\n",
            "Epoch 199/200\n",
            "415/415 [==============================] - 8s 20ms/step - loss: 0.6726 - TC_Output_loss: 0.5132 - BC_Output_loss: 0.1594 - TC_Output_accuracy: 0.8382 - BC_Output_accuracy: 0.9461 - val_loss: 0.4217 - val_TC_Output_loss: 0.3339 - val_BC_Output_loss: 0.0878 - val_TC_Output_accuracy: 0.9063 - val_BC_Output_accuracy: 0.9746\n",
            "Epoch 200/200\n",
            "413/415 [============================>.] - ETA: 0s - loss: 0.6768 - TC_Output_loss: 0.5141 - BC_Output_loss: 0.1627 - TC_Output_accuracy: 0.8368 - BC_Output_accuracy: 0.9463\n",
            "Epoch 200: saving model to weights-improvement-200-0.6770-bigger.hdf5\n",
            "415/415 [==============================] - 9s 22ms/step - loss: 0.6770 - TC_Output_loss: 0.5143 - BC_Output_loss: 0.1627 - TC_Output_accuracy: 0.8367 - BC_Output_accuracy: 0.9462 - val_loss: 0.4290 - val_TC_Output_loss: 0.3401 - val_BC_Output_loss: 0.0889 - val_TC_Output_accuracy: 0.9030 - val_BC_Output_accuracy: 0.9736\n"
          ]
        }
      ]
    },
    {
      "cell_type": "markdown",
      "source": [
        "### 모델 학습 결과 그래프"
      ],
      "metadata": {
        "id": "dDzcn9Y06QOb"
      }
    },
    {
      "cell_type": "code",
      "source": [
        "plt.figure(figsize=(12, 5))\n",
        "plt.subplot(1, 2, 1)\n",
        "plt.plot(history.history['loss'])\n",
        "plt.plot(history.history['val_loss'])\n",
        "plt.title('Model Loss')\n",
        "plt.xlabel('Epoch')\n",
        "plt.ylabel('Loss')\n",
        "plt.legend(['train', 'val'], loc='upper right')\n",
        "\n",
        "plt.subplot(1, 2, 2)\n",
        "plt.plot(history.history['TC_Output_accuracy'])\n",
        "plt.plot(history.history['BC_Output_accuracy'])\n",
        "plt.plot(history.history['val_TC_Output_accuracy'])\n",
        "plt.plot(history.history['val_BC_Output_accuracy'])\n",
        "plt.title('Model Accuracy')\n",
        "plt.xlabel('Epoch')\n",
        "plt.ylabel('Accuracy')\n",
        "plt.legend(['train_TC', 'train_BC', 'val_TC', 'val_BC'], loc='lower right')\n",
        "plt.savefig('Loss and Accuarcy(Bi-LSTM with Attention Model).png', dpi=300)\n",
        "plt.show()"
      ],
      "metadata": {
        "id": "jbvugn9zx2Fa",
        "colab": {
          "base_uri": "https://localhost:8080/",
          "height": 348
        },
        "outputId": "e5980f11-db4c-41bb-83f7-24b93851d8c9"
      },
      "execution_count": null,
      "outputs": [
        {
          "output_type": "display_data",
          "data": {
            "text/plain": [
              "<Figure size 864x360 with 2 Axes>"
            ],
            "image/png": "[encoded data removed]"
          },
          "metadata": {
            "image/png": {
              "width": 710,
              "height": 331
            },
            "needs_background": "light"
          }
        }
      ]
    },
    {
      "cell_type": "markdown",
      "source": [
        "### 모델 학습 결과 정확도"
      ],
      "metadata": {
        "id": "mgGDkuAk6VTd"
      }
    },
    {
      "cell_type": "code",
      "source": [
        "final_accuracy = (history.history['TC_Output_accuracy'][-1] + history.history['BC_Output_accuracy'][-1]) / 2\n",
        "print('높은 음자리 정확도: {:.2f}%'.format(history.history['TC_Output_accuracy'][-1]*100))\n",
        "print('낮은 음자리 정확도: {:.2f}%'.format(history.history['BC_Output_accuracy'][-1]*100))\n",
        "print('최       종 정확도: {:.2f}%'.format(final_accuracy*100))"
      ],
      "metadata": {
        "colab": {
          "base_uri": "https://localhost:8080/"
        },
        "id": "LMdeTfqh2RSi",
        "outputId": "63672944-6627-433b-a6ec-ef735552feea"
      },
      "execution_count": null,
      "outputs": [
        {
          "output_type": "stream",
          "name": "stdout",
          "text": [
            "높은 음자리 정확도: 83.67%\n",
            "낮은 음자리 정확도: 94.62%\n",
            "최       종 정확도: 89.15%\n"
          ]
        }
      ]
    },
    {
      "cell_type": "markdown",
      "source": [
        "# 결과물(MIDI파일) 생성하기\n",
        "---"
      ],
      "metadata": {
        "id": "b3v63WdKH3mB"
      }
    },
    {
      "cell_type": "code",
      "source": [
        "def convert_to_float(frac_str):\n",
        "   try:\n",
        "      return float(frac_str)\n",
        "   except ValueError:\n",
        "      num, denom = frac_str.split('/')\n",
        "      try:\n",
        "         leading, num = num.split(' ')\n",
        "         whole = float(leading)\n",
        "      except ValueError:\n",
        "         whole = 0\n",
        "      frac = float(num) / float(denom)\n",
        "      return whole - frac if whole < 0 else whole + frac"
      ],
      "metadata": {
        "id": "G8hqWiJH6gAh"
      },
      "execution_count": null,
      "outputs": []
    },
    {
      "cell_type": "markdown",
      "source": [
        "### str to note"
      ],
      "metadata": {
        "id": "x17cLsTPyA6H"
      }
    },
    {
      "cell_type": "code",
      "source": [
        "def str_to_note(s):\n",
        "  temp = s.split(':')\n",
        "  n = temp[0]\n",
        "  q = convert_to_float(temp[1])\n",
        "\n",
        "  if ' ' in n:\n",
        "    new_chord = chord.Chord(n)\n",
        "    new_chord.quarterLength = q\n",
        "    return new_chord\n",
        "  elif 'rest' in n:\n",
        "    new_rest = note.Rest(n)\n",
        "    new_rest.quarterLength = q\n",
        "    return new_rest\n",
        "  else:\n",
        "    new_note = note.Note(n)\n",
        "    new_note.quarterLength = q\n",
        "    return new_note"
      ],
      "metadata": {
        "id": "RvQ0vCCvyAUD"
      },
      "execution_count": null,
      "outputs": []
    },
    {
      "cell_type": "code",
      "source": [
        "def nums_to_notes(nums, notes):\n",
        "   str_notes = []\n",
        "   for e in notes:\n",
        "      e = note_to_str(e)\n",
        "      str_notes.append(e)\n",
        "   \n",
        "   int_to_str = dict((k, v) for k, v in enumerate(sorted(set(str_notes))))\n",
        "\n",
        "   offset = 0.0\n",
        "   new_notes = []\n",
        "   for n in nums:\n",
        "      e = str_to_note(int_to_str[n])\n",
        "      if e.quarterLength > 0.0:\n",
        "         e.offset = offset\n",
        "         new_notes.append(e)\n",
        "         offset += e.quarterLength\n",
        "\n",
        "   return new_notes"
      ],
      "metadata": {
        "id": "rqBjrBL86l3_"
      },
      "execution_count": null,
      "outputs": []
    },
    {
      "cell_type": "markdown",
      "source": [
        "### generate_notes(model, tc_nums, bc_nums, size)"
      ],
      "metadata": {
        "id": "o7iEjW95z8ij"
      }
    },
    {
      "cell_type": "code",
      "source": [
        "def generate_notes(model, tc_nums, bc_nums, size):\n",
        "  new_tc_nums = []\n",
        "  new_bc_nums = []\n",
        "  sl = model.inputs[0].shape[1]\n",
        "  r_max = min(len(tc_nums), len(bc_nums)) - sl\n",
        "  r = np.random.randint(0, r_max)\n",
        "\n",
        "  tc_nums = tc_nums[r:r+sl]\n",
        "  bc_nums = bc_nums[r:r+sl]\n",
        "  for i in range(size):\n",
        "    tc_x = np.reshape(tc_nums, (1, sl))\n",
        "    bc_x = np.reshape(bc_nums, (1, sl))\n",
        "\n",
        "    tc_y, bc_y = model.predict([tc_x, bc_x], verbose=0)\n",
        "    tc_n, bc_n = np.argmax(tc_y), np.argmax(bc_y)\n",
        "\n",
        "    new_tc_nums.append(tc_n)\n",
        "    new_bc_nums.append(bc_n)\n",
        "\n",
        "    tc_nums.append(tc_n)\n",
        "    bc_nums.append(bc_n)\n",
        "\n",
        "    tc_nums = tc_nums[1:sl+1]\n",
        "    bc_nums = bc_nums[1:sl+1]\n",
        "  \n",
        "  return new_tc_nums, new_bc_nums\n"
      ],
      "metadata": {
        "id": "Nt988_Rg0CIM"
      },
      "execution_count": null,
      "outputs": []
    },
    {
      "cell_type": "code",
      "source": [
        "def create_midi(tc_notes, bc_notes, fp=\"output/temp.mid\", show_txt=False):\n",
        "   part1 = stream.Part(tc_notes)\n",
        "   part2 = stream.Part(bc_notes)\n",
        "\n",
        "   new_stream = stream.Stream([part1, part2])\n",
        "   if show_txt:\n",
        "      new_stream.show('txt')\n",
        "   new_stream.write('midi', fp)"
      ],
      "metadata": {
        "id": "ULkDFn176pf8"
      },
      "execution_count": null,
      "outputs": []
    },
    {
      "cell_type": "markdown",
      "source": [
        "## 실행\n",
        "---"
      ],
      "metadata": {
        "id": "6pwybtOCH7yz"
      }
    },
    {
      "cell_type": "markdown",
      "source": [
        "### 데이터 불러오기"
      ],
      "metadata": {
        "id": "kAv5KLabA-YE"
      }
    },
    {
      "cell_type": "code",
      "source": [
        "with open('data/niko/notes', 'rb') as f:\n",
        "  tc_notes, bc_notes = pickle.load(f)"
      ],
      "metadata": {
        "id": "yE1Xj5NCA37Z"
      },
      "execution_count": null,
      "outputs": []
    },
    {
      "cell_type": "markdown",
      "source": [
        "### 음표를 숫자로 바꾸기"
      ],
      "metadata": {
        "id": "wr_kZRgcBFQJ"
      }
    },
    {
      "cell_type": "code",
      "source": [
        "tc_nums = notes_to_nums(tc_notes)\n",
        "bc_nums = notes_to_nums(bc_notes)\n",
        "tc_nums[:10], bc_nums[:10]"
      ],
      "metadata": {
        "colab": {
          "base_uri": "https://localhost:8080/"
        },
        "id": "8mY2ljySBEzM",
        "outputId": "0b16c16e-852e-45b2-f3a2-c23e30e45c6a"
      },
      "execution_count": null,
      "outputs": [
        {
          "output_type": "execute_result",
          "data": {
            "text/plain": [
              "([673, 3315, 1532, 1594, 3315, 1532, 1594, 3315, 3328, 1532],\n",
              " [116, 1286, 1286, 1286, 1286, 1286, 1286, 1286, 1292, 1286])"
            ]
          },
          "metadata": {},
          "execution_count": 64
        }
      ]
    },
    {
      "cell_type": "markdown",
      "source": [
        "### 모델 입출력 데이터 만들기"
      ],
      "metadata": {
        "id": "KD9OL3FhBkc5"
      }
    },
    {
      "cell_type": "code",
      "source": [
        "tc_x, bc_x, tc_y, bc_y = prepare_sequences(tc_nums, bc_nums, 8)\n",
        "tc_x.shape, bc_x.shape, tc_y.shape, bc_y.shape # shape 출력"
      ],
      "metadata": {
        "colab": {
          "base_uri": "https://localhost:8080/"
        },
        "id": "KySrFGG-BOcY",
        "outputId": "0739b71c-eafa-4ed7-8031-b2de5f8e6062"
      },
      "execution_count": null,
      "outputs": [
        {
          "output_type": "execute_result",
          "data": {
            "text/plain": [
              "((53001, 8), (53001, 8), (53001, 3433), (53001, 1427))"
            ]
          },
          "metadata": {},
          "execution_count": 65
        }
      ]
    },
    {
      "cell_type": "markdown",
      "source": [
        "### 모델 생성 및 가중치 적용하기"
      ],
      "metadata": {
        "id": "38dzD1QXBO5Q"
      }
    },
    {
      "cell_type": "code",
      "source": [
        "model = createModel(tc_x, bc_x, tc_y, bc_y)\n",
        "model.load_weights('weights-improvement-200-0.6770-bigger.hdf5')"
      ],
      "metadata": {
        "id": "0SqfIqxJzey0"
      },
      "execution_count": null,
      "outputs": []
    },
    {
      "cell_type": "markdown",
      "source": [
        "### 숫자 데이터 생성하기"
      ],
      "metadata": {
        "id": "-teyudNGB2_s"
      }
    },
    {
      "cell_type": "code",
      "source": [
        "new_tc, new_bc = generate_notes(model, tc_nums, bc_nums, 500)\n",
        "len(new_tc), len(new_bc)"
      ],
      "metadata": {
        "colab": {
          "base_uri": "https://localhost:8080/"
        },
        "id": "8UtBi6laB7E5",
        "outputId": "9a10d397-f40d-4ade-ef40-6475519a5177"
      },
      "execution_count": null,
      "outputs": [
        {
          "output_type": "execute_result",
          "data": {
            "text/plain": [
              "(500, 500)"
            ]
          },
          "metadata": {},
          "execution_count": 74
        }
      ]
    },
    {
      "cell_type": "markdown",
      "source": [
        "### 숫자로 된 데이터를 음표로 바꾸기"
      ],
      "metadata": {
        "id": "IJlvqX7ICZZ6"
      }
    },
    {
      "cell_type": "code",
      "source": [
        "new_tc = nums_to_notes(new_tc, tc_notes)\n",
        "new_bc = nums_to_notes(new_bc, bc_notes)\n",
        "len(new_tc), len(new_bc)"
      ],
      "metadata": {
        "colab": {
          "base_uri": "https://localhost:8080/"
        },
        "id": "8UA-f8vpCY1o",
        "outputId": "c9c44775-d366-4372-cc21-0ab76fff3f60"
      },
      "execution_count": null,
      "outputs": [
        {
          "output_type": "execute_result",
          "data": {
            "text/plain": [
              "(416, 167)"
            ]
          },
          "metadata": {},
          "execution_count": 75
        }
      ]
    },
    {
      "cell_type": "markdown",
      "source": [
        "### 음자리별 음표 개수 맞추기"
      ],
      "metadata": {
        "id": "r2DEn7vSEF8_"
      }
    },
    {
      "cell_type": "code",
      "source": [
        "new_tc, new_bc = notes_equally(new_tc, new_bc)\n",
        "len(new_tc), len(new_bc)"
      ],
      "metadata": {
        "colab": {
          "base_uri": "https://localhost:8080/"
        },
        "id": "ca2BsSAvEHP7",
        "outputId": "bd941cc0-563b-4cc3-ee7e-3ca92e935693"
      },
      "execution_count": null,
      "outputs": [
        {
          "output_type": "execute_result",
          "data": {
            "text/plain": [
              "(536, 536)"
            ]
          },
          "metadata": {},
          "execution_count": 76
        }
      ]
    },
    {
      "cell_type": "markdown",
      "source": [
        "### MIDI 파일 생성하기"
      ],
      "metadata": {
        "id": "BlYeJevGEd6J"
      }
    },
    {
      "cell_type": "code",
      "source": [
        "t = time.strftime(\"%y%m%d%H%M%S\", time.localtime(time.time()))\n",
        "create_midi(new_tc, new_bc, fp=f\"output/niko/output-1BiLSTMAtt-200_{t}.mid\", show_txt=True)"
      ],
      "metadata": {
        "colab": {
          "base_uri": "https://localhost:8080/"
        },
        "id": "vH49Ax73EhRT",
        "outputId": "ff0b9566-1bfd-4c2b-daf2-63fefaacac0e"
      },
      "execution_count": null,
      "outputs": [
        {
          "output_type": "stream",
          "name": "stdout",
          "text": [
            "{0.0} <music21.stream.Part 0x7f86efc6b850>\n",
            "    {0.0} <music21.note.Note E>\n",
            "    {0.25} <music21.note.Rest dotted-eighth>\n",
            "    {1.0} <music21.note.Rest dotted-eighth>\n",
            "    {1.6667} <music21.note.Rest zero>\n",
            "    {1.75} <music21.note.Note F>\n",
            "    {2.25} <music21.note.Note E>\n",
            "    {2.75} <music21.note.Note B>\n",
            "    {3.25} <music21.note.Rest dotted-eighth>\n",
            "    {4.0} <music21.note.Note A>\n",
            "    {4.4167} <music21.note.Rest zero>\n",
            "    {4.5} <music21.note.Rest eighth>\n",
            "    {5.0} <music21.note.Note D>\n",
            "    {5.5} <music21.note.Rest eighth>\n",
            "    {5.6667} <music21.note.Rest zero>\n",
            "    {6.0} <music21.note.Note B>\n",
            "    {6.5} <music21.note.Note A>\n",
            "    {7.0} <music21.note.Note D>\n",
            "    {7.5} <music21.note.Note E>\n",
            "    {7.8333} <music21.note.Rest 5/12ql>\n",
            "    {8.25} <music21.note.Note C>\n",
            "    {9.3333} <music21.note.Rest zero>\n",
            "    {10.25} <music21.note.Note E>\n",
            "    {10.75} <music21.note.Note C>\n",
            "    {11.25} <music21.note.Note E>\n",
            "    {11.75} <music21.note.Note C>\n",
            "    {12.0} <music21.note.Rest 16th>\n",
            "    {12.25} <music21.note.Note G>\n",
            "    {12.75} <music21.note.Note E>\n",
            "    {13.25} <music21.note.Note C>\n",
            "    {13.5} <music21.note.Rest 16th>\n",
            "    {13.75} <music21.note.Note F>\n",
            "    {14.25} <music21.note.Note C>\n",
            "    {14.75} <music21.note.Note G>\n",
            "    {15.25} <music21.note.Note C>\n",
            "    {15.75} <music21.note.Note A>\n",
            "    {15.8333} <music21.note.Rest zero>\n",
            "    {16.0833} <music21.note.Rest 2/3ql>\n",
            "    {16.5833} <music21.note.Rest zero>\n",
            "    {16.75} <music21.note.Note F>\n",
            "    {17.5} <music21.note.Rest 1.25ql>\n",
            "    {18.75} <music21.note.Note G>\n",
            "    {19.25} <music21.note.Note E>\n",
            "    {19.3333} <music21.note.Rest zero>\n",
            "    {19.75} <music21.note.Note A>\n",
            "    {20.25} <music21.note.Note E>\n",
            "    {20.5833} <music21.note.Rest zero>\n",
            "    {20.75} <music21.note.Note A>\n",
            "    {21.25} <music21.note.Note C>\n",
            "    {21.75} <music21.note.Note D>\n",
            "    {22.0} <music21.note.Rest 16th>\n",
            "    {22.25} <music21.note.Note E>\n",
            "    {22.75} <music21.note.Note A>\n",
            "    {23.25} <music21.note.Note G>\n",
            "    {23.5} <music21.note.Rest 16th>\n",
            "    {23.5833} <music21.note.Rest zero>\n",
            "    {23.75} <music21.note.Note G>\n",
            "    {24.5833} <music21.note.Rest zero>\n",
            "    {24.75} <music21.note.Note G>\n",
            "    {25.75} <music21.note.Rest quarter>\n",
            "    {26.75} <music21.chord.Chord C4 A5>\n",
            "    {27.75} <music21.note.Note E>\n",
            "    {27.9167} <music21.note.Rest zero>\n",
            "    {28.0833} <music21.note.Rest zero>\n",
            "    {28.25} <music21.note.Note C>\n",
            "    {28.75} <music21.note.Rest eighth>\n",
            "    {29.25} <music21.note.Note C>\n",
            "    {29.75} <music21.note.Rest eighth>\n",
            "    {30.25} <music21.note.Note C>\n",
            "    {30.75} <music21.note.Rest eighth>\n",
            "    {31.25} <music21.note.Note C>\n",
            "    {31.4167} <music21.note.Rest zero>\n",
            "    {32.0} <music21.note.Rest 10.75ql>\n",
            "    {32.75} <music21.note.Rest zero>\n",
            "    {34.75} <music21.note.Rest zero>\n",
            "    {35.5} <music21.note.Rest zero>\n",
            "    {36.75} <music21.note.Rest zero>\n",
            "    {38.75} <music21.note.Rest zero>\n",
            "    {42.75} <music21.note.Rest quarter>\n",
            "    {43.75} <music21.chord.Chord E4 C5>\n",
            "    {44.75} <music21.note.Rest zero>\n",
            "    {45.25} <music21.note.Rest zero>\n",
            "    {45.75} <music21.note.Rest 4/3ql>\n",
            "    {46.75} <music21.note.Rest zero>\n",
            "    {47.0833} <music21.chord.Chord D4 C5 F5 C6 F4 A4 C5 F5 A5>\n",
            "    {47.4167} <music21.note.Rest 2/3ql>\n",
            "    {48.0833} <music21.note.Note E>\n",
            "    {48.5833} <music21.note.Rest 16th>\n",
            "    {48.8333} <music21.note.Note C>\n",
            "    {49.1667} <music21.note.Rest 2/3ql>\n",
            "    {49.25} <music21.note.Rest zero>\n",
            "    {49.8333} <music21.note.Rest 16th>\n",
            "    {50.0833} <music21.chord.Chord E4 D5 G5 D6>\n",
            "    {50.4167} <music21.note.Rest 2/3ql>\n",
            "    {51.0833} <music21.chord.Chord C4 F4 F5>\n",
            "    {52.0} <music21.note.Rest zero>\n",
            "    {52.0833} <music21.note.Note D>\n",
            "    {53.0833} <music21.note.Note D>\n",
            "    {53.5833} <music21.note.Rest quarter>\n",
            "    {54.25} <music21.note.Rest zero>\n",
            "    {54.5833} <music21.note.Note C>\n",
            "    {54.75} <music21.note.Rest zero>\n",
            "    {55.25} <music21.note.Rest 13/3ql>\n",
            "    {59.25} <music21.note.Rest zero>\n",
            "    {59.5833} <music21.note.Note C>\n",
            "    {60.25} <music21.note.Rest 1/3ql>\n",
            "    {60.5833} <music21.note.Note C>\n",
            "    {61.25} <music21.note.Rest 4/3ql>\n",
            "    {62.5833} <music21.chord.Chord C4 E4 C5>\n",
            "    {63.25} <music21.note.Rest zero>\n",
            "    {63.5833} <music21.note.Note C>\n",
            "    {64.0833} <music21.note.Rest eighth>\n",
            "    {64.5833} <music21.chord.Chord A4 C4 E4>\n",
            "    {65.0833} <music21.note.Rest eighth>\n",
            "    {65.25} <music21.note.Rest zero>\n",
            "    {65.5833} <music21.note.Note D>\n",
            "    {65.8333} <music21.note.Rest dotted-eighth>\n",
            "    {66.5833} <music21.chord.Chord D4 D5>\n",
            "    {67.5833} <music21.note.Note D>\n",
            "    {68.3333} <music21.note.Rest 16th>\n",
            "    {68.5833} <music21.note.Note C>\n",
            "    {68.9167} <music21.note.Rest zero>\n",
            "    {70.25} <music21.note.Rest 7/3ql>\n",
            "    {71.4167} <music21.note.Rest zero>\n",
            "    {72.5833} <music21.chord.Chord E4 A4 E6>\n",
            "    {73.4167} <music21.note.Rest zero>\n",
            "    {73.6667} <music21.note.Rest zero>\n",
            "    {74.5833} <music21.note.Note C>\n",
            "    {75.0833} <music21.note.Note B>\n",
            "    {75.4167} <music21.note.Rest zero>\n",
            "    {75.5833} <music21.note.Rest eighth>\n",
            "    {76.0833} <music21.note.Note E>\n",
            "    {76.3333} <music21.note.Rest dotted-eighth>\n",
            "    {77.0833} <music21.chord.Chord D4 D5>\n",
            "    {77.4167} <music21.note.Rest zero>\n",
            "    {78.0833} <music21.note.Note B>\n",
            "    {78.5833} <music21.note.Rest eighth>\n",
            "    {78.9167} <music21.note.Rest zero>\n",
            "    {79.0833} <music21.chord.Chord G4 C4>\n",
            "    {80.5833} <music21.note.Rest 6.5ql>\n",
            "    {85.4167} <music21.note.Rest zero>\n",
            "    {85.9167} <music21.note.Rest zero>\n",
            "    {86.9167} <music21.note.Rest zero>\n",
            "    {87.0833} <music21.note.Note C>\n",
            "    {88.5833} <music21.note.Rest quarter>\n",
            "    {88.9167} <music21.note.Rest zero>\n",
            "    {89.5833} <music21.note.Note C>\n",
            "    {90.0833} <music21.note.Rest eighth>\n",
            "    {90.1667} <music21.note.Rest zero>\n",
            "    {90.5833} <music21.chord.Chord D4 D5>\n",
            "    {90.9167} <music21.note.Rest zero>\n",
            "    {91.5833} <music21.note.Note B>\n",
            "    {91.9167} <music21.note.Rest zero>\n",
            "    {92.0833} <music21.note.Rest eighth>\n",
            "    {92.4167} <music21.note.Rest zero>\n",
            "    {92.5833} <music21.note.Note C>\n",
            "    {92.9167} <music21.note.Rest 2/3ql>\n",
            "    {93.5833} <music21.chord.Chord C4 A4>\n",
            "    {94.0833} <music21.note.Note D>\n",
            "    {94.3333} <music21.note.Rest 16th>\n",
            "    {94.5833} <music21.note.Note E>\n",
            "    {94.8333} <music21.note.Rest 16th>\n",
            "    {94.9167} <music21.note.Rest zero>\n",
            "    {95.0833} <music21.note.Note F>\n",
            "    {95.5833} <music21.note.Rest 16th>\n",
            "    {95.8333} <music21.note.Note E>\n",
            "    {95.9167} <music21.note.Rest zero>\n",
            "    {96.8333} <music21.note.Note A>\n",
            "    {96.9167} <music21.note.Rest zero>\n",
            "    {97.5} <music21.note.Rest 1/3ql>\n",
            "    {97.8333} <music21.note.Note B>\n",
            "    {97.9167} <music21.note.Rest zero>\n",
            "    {98.0833} <music21.note.Rest 16th>\n",
            "    {98.3333} <music21.note.Note B>\n",
            "    {98.4167} <music21.note.Rest zero>\n",
            "    {98.5833} <music21.note.Rest 16th>\n",
            "    {98.8333} <music21.note.Note C#>\n",
            "    {99.5} <music21.note.Rest 1/3ql>\n",
            "    {99.8333} <music21.note.Note B>\n",
            "    {100.1667} <music21.note.Rest 2/3ql>\n",
            "    {100.75} <music21.note.Rest zero>\n",
            "    {100.8333} <music21.chord.Chord D4 B4>\n",
            "    {101.8333} <music21.note.Note A>\n",
            "    {102.4167} <music21.note.Rest zero>\n",
            "    {102.8333} <music21.note.Note C>\n",
            "    {103.5} <music21.note.Rest 4/3ql>\n",
            "    {104.8333} <music21.note.Note C>\n",
            "    {105.8333} <music21.note.Rest quarter>\n",
            "    {106.8333} <music21.note.Note C>\n",
            "    {107.0833} <music21.note.Rest 1.75ql>\n",
            "    {108.8333} <music21.chord.Chord C4 E4 G4 C5>\n",
            "    {109.1667} <music21.note.Rest zero>\n",
            "    {109.3333} <music21.note.Note C>\n",
            "    {109.8333} <music21.note.Note B>\n",
            "    {110.1667} <music21.note.Rest 5/12ql>\n",
            "    {110.5833} <music21.note.Note C>\n",
            "    {111.0833} <music21.note.Rest eighth>\n",
            "    {111.1667} <music21.note.Rest zero>\n",
            "    {111.5833} <music21.chord.Chord C5 C4 E4 G4>\n",
            "    {111.9167} <music21.note.Rest 2/3ql>\n",
            "    {112.5833} <music21.chord.Chord C4 E4 C5>\n",
            "    {113.5833} <music21.note.Note A>\n",
            "    {114.0833} <music21.note.Rest eighth>\n",
            "    {114.5833} <music21.note.Note C>\n",
            "    {115.0833} <music21.note.Note D>\n",
            "    {115.5833} <music21.chord.Chord C4 D5>\n",
            "    {117.0833} <music21.note.Note D>\n",
            "    {117.5833} <music21.note.Note C>\n",
            "    {117.6667} <music21.note.Rest zero>\n",
            "    {117.8333} <music21.note.Rest 16th>\n",
            "    {118.0833} <music21.note.Note C>\n",
            "    {118.3333} <music21.note.Rest zero>\n",
            "    {118.8333} <music21.note.Rest 16th>\n",
            "    {119.0833} <music21.note.Note C>\n",
            "    {119.3333} <music21.note.Rest 16th>\n",
            "    {119.5833} <music21.note.Note C>\n",
            "    {120.3333} <music21.note.Rest 16th>\n",
            "    {120.5833} <music21.note.Note C>\n",
            "    {120.8333} <music21.note.Rest 16th>\n",
            "    {121.0833} <music21.note.Note D>\n",
            "    {121.5833} <music21.note.Note E>\n",
            "    {122.0833} <music21.note.Note D>\n",
            "    {122.5833} <music21.note.Note C>\n",
            "    {122.8333} <music21.note.Rest 16th>\n",
            "    {123.0833} <music21.note.Note E>\n",
            "    {123.5833} <music21.note.Note G>\n",
            "    {123.6667} <music21.note.Rest zero>\n",
            "    {124.0833} <music21.note.Note B>\n",
            "    {124.5833} <music21.note.Note C>\n",
            "    {125.0833} <music21.note.Note B>\n",
            "    {125.1667} <music21.note.Rest zero>\n",
            "    {125.5833} <music21.note.Note A>\n",
            "    {126.0833} <music21.note.Note G>\n",
            "    {126.4167} <music21.note.Rest 5/12ql>\n",
            "    {126.8333} <music21.note.Note G>\n",
            "    {127.3333} <music21.note.Note A>\n",
            "    {127.8333} <music21.note.Note C>\n",
            "    {128.1667} <music21.note.Rest zero>\n",
            "    {128.3333} <music21.note.Note G>\n",
            "    {128.5833} <music21.note.Rest 16th>\n",
            "    {128.8333} <music21.note.Note C>\n",
            "    {129.3333} <music21.note.Note A>\n",
            "    {129.4167} <music21.note.Rest zero>\n",
            "    {129.8333} <music21.note.Note G>\n",
            "    {130.3333} <music21.note.Note A>\n",
            "    {130.8333} <music21.note.Note C>\n",
            "    {131.3333} <music21.note.Note F>\n",
            "    {131.6667} <music21.note.Rest zero>\n",
            "    {131.8333} <music21.note.Note E>\n",
            "    {132.3333} <music21.note.Note C>\n",
            "    {132.5833} <music21.note.Rest 16th>\n",
            "    {132.8333} <music21.note.Note D>\n",
            "    {133.4167} <music21.note.Rest zero>\n",
            "    {133.5} <music21.note.Rest 1/3ql>\n",
            "    {133.8333} <music21.note.Note C>\n",
            "    {134.3333} <music21.note.Note B>\n",
            "    {134.8333} <music21.note.Note A>\n",
            "    {135.3333} <music21.note.Note C>\n",
            "    {135.8333} <music21.note.Note E>\n",
            "    {135.9167} <music21.note.Rest zero>\n",
            "    {136.5833} <music21.note.Note A>\n",
            "    {136.8333} <music21.note.Rest 16th>\n",
            "    {137.0833} <music21.note.Note C>\n",
            "    {137.4167} <music21.note.Rest zero>\n",
            "    {137.5833} <music21.note.Note A>\n",
            "    {138.0833} <music21.note.Note C>\n",
            "    {138.3333} <music21.note.Rest 16th>\n",
            "    {138.5833} <music21.note.Note C>\n",
            "    {138.8333} <music21.note.Rest 16th>\n",
            "    {139.0833} <music21.note.Note B>\n",
            "    {139.5833} <music21.note.Rest eighth>\n",
            "    {140.0833} <music21.note.Note C>\n",
            "    {140.4167} <music21.note.Rest zero>\n",
            "    {140.5833} <music21.note.Rest eighth>\n",
            "    {141.0833} <music21.note.Note C>\n",
            "    {141.4167} <music21.note.Rest zero>\n",
            "    {142.0833} <music21.note.Note D>\n",
            "    {142.5833} <music21.note.Note C>\n",
            "    {142.8333} <music21.note.Rest 16th>\n",
            "    {143.0833} <music21.note.Note A>\n",
            "    {143.5833} <music21.note.Rest 16th>\n",
            "    {143.8333} <music21.note.Note B>\n",
            "    {144.3333} <music21.note.Rest 16th>\n",
            "    {144.4167} <music21.note.Rest zero>\n",
            "    {144.5833} <music21.note.Note C>\n",
            "    {144.9167} <music21.note.Rest 2/3ql>\n",
            "    {145.4167} <music21.note.Rest zero>\n",
            "    {145.5833} <music21.chord.Chord C4 C5>\n",
            "    {146.0833} <music21.note.Note D>\n",
            "    {146.5833} <music21.note.Note C>\n",
            "    {146.8333} <music21.note.Rest 16th>\n",
            "    {147.0833} <music21.note.Note C>\n",
            "    {147.3333} <music21.note.Rest dotted-eighth>\n",
            "    {148.0833} <music21.note.Note C>\n",
            "    {148.4167} <music21.note.Rest 2/3ql>\n",
            "    {148.6667} <music21.note.Rest zero>\n",
            "    {149.0833} <music21.note.Note C>\n",
            "    {149.4167} <music21.note.Rest zero>\n",
            "    {150.0833} <music21.note.Rest eighth>\n",
            "    {150.5833} <music21.note.Note A>\n",
            "    {150.9167} <music21.note.Rest 2/3ql>\n",
            "    {151.5833} <music21.note.Note A>\n",
            "    {151.9167} <music21.note.Rest 2/3ql>\n",
            "    {152.4167} <music21.note.Rest zero>\n",
            "    {152.5833} <music21.note.Note A>\n",
            "    {152.9167} <music21.note.Rest 25/6ql>\n",
            "    {153.4167} <music21.note.Rest zero>\n",
            "    {156.6667} <music21.note.Rest zero>\n",
            "    {157.0833} <music21.chord.Chord A4 C4 E4>\n",
            "    {157.4167} <music21.note.Rest 2/3ql>\n",
            "    {158.0833} <music21.chord.Chord C4 E4 G4 G5>\n",
            "    {158.4167} <music21.note.Rest 2/3ql>\n",
            "    {159.0833} <music21.note.Note E>\n",
            "    {159.5833} <music21.note.Note A>\n",
            "    {160.0833} <music21.note.Rest 5.75ql>\n",
            "    {160.4167} <music21.note.Rest zero>\n",
            "    {161.4167} <music21.note.Rest zero>\n",
            "    {165.4167} <music21.note.Rest zero>\n",
            "    {165.8333} <music21.note.Note A>\n",
            "    {166.5833} <music21.note.Rest 16th>\n",
            "    {166.8333} <music21.note.Note A>\n",
            "    {167.0833} <music21.note.Rest 3.75ql>\n",
            "    {168.9167} <music21.note.Rest zero>\n",
            "    {170.8333} <music21.note.Note A>\n",
            "    {171.5833} <music21.note.Rest 16th>\n",
            "    {171.8333} <music21.note.Note A>\n",
            "    {172.0833} <music21.note.Rest 16th>\n",
            "    {172.3333} <music21.note.Note A>\n",
            "    {172.5833} <music21.note.Rest 16th>\n",
            "    {172.8333} <music21.note.Note G>\n",
            "    {173.0833} <music21.note.Rest 16th>\n",
            "    {173.3333} <music21.note.Note C>\n",
            "    {173.8333} <music21.note.Note B>\n",
            "    {174.3333} <music21.note.Note A>\n",
            "    {174.5833} <music21.note.Rest 16th>\n",
            "    {174.8333} <music21.chord.Chord C4 C5>\n",
            "    {176.8333} <music21.note.Note B>\n",
            "    {177.3333} <music21.note.Note C>\n",
            "    {177.8333} <music21.note.Note D>\n",
            "    {178.0833} <music21.note.Rest 16th>\n",
            "    {178.3333} <music21.note.Note B>\n",
            "    {178.5833} <music21.note.Rest 16th>\n",
            "    {178.8333} <music21.note.Note B>\n",
            "    {179.3333} <music21.note.Note G>\n",
            "    {179.8333} <music21.note.Note A>\n",
            "    {180.5833} <music21.note.Rest zero>\n",
            "    {181.0833} <music21.note.Rest 16th>\n",
            "    {181.3333} <music21.note.Note C>\n",
            "    {181.5833} <music21.note.Rest 16th>\n",
            "    {181.8333} <music21.note.Note D>\n",
            "    {182.0833} <music21.note.Rest 16th>\n",
            "    {182.3333} <music21.note.Note E>\n",
            "    {182.5833} <music21.note.Rest 16th>\n",
            "    {182.8333} <music21.note.Note F>\n",
            "    {183.3333} <music21.chord.Chord C4 C5>\n",
            "    {183.9167} <music21.note.Rest zero>\n",
            "    {184.3333} <music21.note.Note E>\n",
            "    {184.5833} <music21.note.Rest 16th>\n",
            "    {184.75} <music21.note.Rest zero>\n",
            "    {184.8333} <music21.note.Note F>\n",
            "    {185.0833} <music21.note.Rest 16th>\n",
            "    {185.3333} <music21.note.Note E>\n",
            "    {185.5833} <music21.note.Rest 16th>\n",
            "    {185.8333} <music21.note.Note D>\n",
            "    {186.3333} <music21.note.Note C>\n",
            "    {186.8333} <music21.note.Note B>\n",
            "    {187.0} <music21.note.Rest zero>\n",
            "    {187.0833} <music21.note.Rest 16th>\n",
            "    {187.3333} <music21.note.Note B>\n",
            "    {187.8333} <music21.note.Rest 16th>\n",
            "    {188.0833} <music21.note.Note A>\n",
            "    {188.3333} <music21.note.Rest 16th>\n",
            "    {188.5833} <music21.note.Note C>\n",
            "    {189.0833} <music21.note.Note A>\n",
            "    {189.3333} <music21.note.Rest zero>\n",
            "    {189.5833} <music21.note.Rest 4.25ql>\n",
            "    {192.3333} <music21.note.Rest zero>\n",
            "    {193.3333} <music21.note.Rest zero>\n",
            "    {193.8333} <music21.note.Note E>\n",
            "    {194.5833} <music21.note.Rest eighth>\n",
            "    {195.0833} <music21.note.Note C>\n",
            "    {195.3333} <music21.note.Rest dotted-eighth>\n",
            "    {196.0833} <music21.note.Note C>\n",
            "    {196.3333} <music21.note.Rest zero>\n",
            "    {196.4167} <music21.note.Rest 2/3ql>\n",
            "    {197.0833} <music21.note.Note C>\n",
            "    {197.3333} <music21.note.Rest dotted-eighth>\n",
            "    {198.0833} <music21.note.Note E>\n",
            "    {198.8333} <music21.note.Rest 16th>\n",
            "    {199.0833} <music21.note.Note D>\n",
            "    {199.5833} <music21.note.Rest eighth>\n",
            "    {200.0833} <music21.note.Note D>\n",
            "    {200.3333} <music21.note.Rest 16th>\n",
            "    {200.5833} <music21.note.Note F>\n",
            "    {200.6667} <music21.note.Rest zero>\n",
            "    {201.3333} <music21.note.Rest 16th>\n",
            "    {201.5833} <music21.note.Note D>\n",
            "    {202.8333} <music21.note.Note D>\n",
            "    {203.0833} <music21.note.Rest 16th>\n",
            "    {203.3333} <music21.note.Note G>\n",
            "    {203.8333} <music21.note.Note A>\n",
            "    {204.0833} <music21.note.Rest 16th>\n",
            "    {204.3333} <music21.note.Note G>\n",
            "    {204.6667} <music21.note.Rest zero>\n",
            "    {204.8333} <music21.note.Note A>\n",
            "    {205.3333} <music21.note.Note C>\n",
            "    {205.8333} <music21.note.Note G>\n",
            "    {206.3333} <music21.chord.Chord D5 G4>\n",
            "    {206.6667} <music21.note.Rest zero>\n",
            "    {206.8333} <music21.note.Note G>\n",
            "    {207.3333} <music21.note.Note B>\n",
            "    {207.4167} <music21.note.Rest zero>\n",
            "    {207.8333} <music21.note.Note C>\n",
            "    {208.3333} <music21.note.Note A>\n",
            "    {208.6667} <music21.note.Rest zero>\n",
            "    {208.8333} <music21.note.Note G>\n",
            "    {209.3333} <music21.chord.Chord C4 C5>\n",
            "    {209.6667} <music21.note.Rest zero>\n",
            "    {209.8333} <music21.note.Note G>\n",
            "    {210.0} <music21.note.Rest zero>\n",
            "    {210.3333} <music21.note.Note C>\n",
            "    {210.6667} <music21.note.Rest zero>\n",
            "    {210.8333} <music21.note.Note G>\n",
            "    {211.0} <music21.note.Rest zero>\n",
            "    {211.3333} <music21.note.Note C>\n",
            "    {211.8333} <music21.note.Note G>\n",
            "    {212.3333} <music21.note.Note C>\n",
            "    {212.8333} <music21.note.Note G>\n",
            "    {213.3333} <music21.note.Note B>\n",
            "    {213.5833} <music21.note.Rest zero>\n",
            "    {213.8333} <music21.note.Note C>\n",
            "    {213.9167} <music21.note.Rest zero>\n",
            "    {214.3333} <music21.note.Note A>\n",
            "    {214.8333} <music21.note.Note C>\n",
            "    {215.3333} <music21.note.Note A>\n",
            "    {215.8333} <music21.note.Note G>\n",
            "    {216.3333} <music21.note.Note B>\n",
            "    {216.8333} <music21.note.Note C>\n",
            "    {217.0833} <music21.note.Rest zero>\n",
            "    {217.3333} <music21.chord.Chord D4 D5>\n",
            "    {217.8333} <music21.note.Note C>\n",
            "    {218.3333} <music21.note.Note G>\n",
            "    {218.8333} <music21.note.Note C>\n",
            "    {219.3333} <music21.note.Note D>\n",
            "    {219.8333} <music21.note.Note C>\n",
            "    {220.3333} <music21.note.Note A>\n",
            "    {220.8333} <music21.note.Rest 7ql>\n",
            "    {221.0833} <music21.note.Rest zero>\n",
            "    {222.3333} <music21.note.Rest zero>\n",
            "    {224.8333} <music21.note.Rest zero>\n",
            "    {226.3333} <music21.note.Rest zero>\n",
            "    {226.8333} <music21.note.Rest zero>\n",
            "    {227.8333} <music21.note.Note C>\n",
            "    {228.3333} <music21.note.Rest eighth>\n",
            "    {228.8333} <music21.note.Note C>\n",
            "    {229.3333} <music21.note.Rest eighth>\n",
            "    {229.8333} <music21.note.Note C>\n",
            "    {230.0833} <music21.note.Rest dotted-eighth>\n",
            "    {230.5} <music21.note.Rest zero>\n",
            "    {230.8333} <music21.note.Note B>\n",
            "    {231.0833} <music21.note.Rest 16th>\n",
            "    {231.3333} <music21.chord.Chord C4 C5>\n",
            "    {232.0833} <music21.note.Note B>\n",
            "    {232.3333} <music21.note.Rest 16th>\n",
            "    {232.5833} <music21.note.Note C>\n",
            "    {232.8333} <music21.note.Rest zero>\n",
            "    {234.25} <music21.note.Rest 13/3ql>\n",
            "    {234.5} <music21.note.Rest zero>\n",
            "    {235.5} <music21.note.Rest zero>\n",
            "    {238.5833} <music21.chord.Chord C4 F4 F5>\n",
            "    {239.5833} <music21.note.Rest eighth>\n",
            "    {240.0833} <music21.note.Note C>\n",
            "    {240.3333} <music21.note.Rest dotted-eighth>\n",
            "    {241.0833} <music21.chord.Chord C5 C4 E4>\n",
            "    {242.0833} <music21.note.Rest quarter>\n",
            "    {242.25} <music21.note.Rest zero>\n",
            "    {243.0833} <music21.chord.Chord C4 E4 C5>\n",
            "    {244.0833} <music21.note.Note C>\n",
            "    {244.25} <music21.note.Rest zero>\n",
            "    {244.5833} <music21.note.Rest eighth>\n",
            "    {245.0} <music21.note.Rest zero>\n",
            "    {245.0833} <music21.note.Note B>\n",
            "    {245.4167} <music21.note.Rest 2/3ql>\n",
            "    {245.75} <music21.note.Rest zero>\n",
            "    {246.0833} <music21.note.Note D>\n",
            "    {246.3333} <music21.note.Rest eighth>\n",
            "    {246.8333} <music21.chord.Chord C5 C4>\n",
            "    {248.0} <music21.note.Rest zero>\n",
            "    {248.3333} <music21.note.Rest zero>\n",
            "    {248.8333} <music21.note.Rest eighth>\n",
            "    {249.3333} <music21.note.Note A>\n",
            "    {249.5833} <music21.note.Rest 16th>\n",
            "    {249.8333} <music21.note.Note B>\n",
            "    {250.0833} <music21.note.Rest eighth>\n",
            "    {250.5833} <music21.note.Note B>\n",
            "    {250.8333} <music21.note.Rest 16th>\n",
            "    {251.0833} <music21.note.Note B>\n",
            "    {251.3333} <music21.note.Rest 16th>\n",
            "    {251.5833} <music21.note.Note C>\n",
            "    {252.0833} <music21.note.Note D>\n",
            "    {252.5833} <music21.note.Note A>\n",
            "    {253.8333} <music21.note.Rest dotted-eighth>\n",
            "    {254.0833} <music21.note.Rest zero>\n",
            "    {254.5833} <music21.chord.Chord C4 A4>\n",
            "    {255.5833} <music21.note.Rest 5/6ql>\n",
            "    {256.0833} <music21.note.Rest zero>\n",
            "    {256.4167} <music21.chord.Chord C4 C5>\n",
            "    {256.6667} <music21.note.Rest 16th>\n",
            "    {256.8333} <music21.note.Rest zero>\n",
            "    {256.9167} <music21.note.Note D>\n",
            "    {257.4167} <music21.note.Rest quarter>\n",
            "    {258.0833} <music21.note.Rest zero>\n",
            "    {258.4167} <music21.note.Note C>\n",
            "    {258.9167} <music21.note.Note C>\n",
            "    {259.4167} <music21.note.Note F>\n",
            "    {259.9167} <music21.note.Note B>\n",
            "    {260.0833} <music21.note.Rest zero>\n",
            "    {260.1667} <music21.note.Rest eighth>\n",
            "    {260.6667} <music21.note.Note E->\n",
            "    {261.4167} <music21.note.Rest 16th>\n",
            "    {261.6667} <music21.chord.Chord D4 B4>\n",
            "    {262.0833} <music21.note.Rest zero>\n",
            "    {262.4167} <music21.note.Note C>\n",
            "    {262.9167} <music21.note.Rest 1.25ql>\n",
            "    {263.0833} <music21.note.Rest zero>\n",
            "    {264.0833} <music21.note.Rest zero>\n",
            "    {264.1667} <music21.note.Note C>\n",
            "    {264.4167} <music21.note.Rest dotted-eighth>\n",
            "    {265.1667} <music21.note.Note C>\n",
            "    {265.6667} <music21.note.Rest eighth>\n",
            "    {266.0833} <music21.note.Rest zero>\n",
            "    {266.1667} <music21.note.Note D>\n",
            "    {266.4167} <music21.note.Rest dotted-eighth>\n",
            "    {267.0833} <music21.note.Rest zero>\n",
            "    {267.1667} <music21.note.Note C>\n",
            "    {267.4167} <music21.note.Rest dotted-eighth>\n",
            "    {268.1667} <music21.note.Note G>\n",
            "{0.0} <music21.stream.Part 0x7f86efc6b190>\n",
            "    {0.0} <music21.note.Rest 5/3ql>\n",
            "    {0.25} <music21.note.Rest zero>\n",
            "    {1.0} <music21.note.Rest zero>\n",
            "    {1.6667} <music21.chord.Chord G2 D3 B3>\n",
            "    {1.75} <music21.note.Rest zero>\n",
            "    {2.25} <music21.note.Rest zero>\n",
            "    {2.75} <music21.note.Rest zero>\n",
            "    {3.25} <music21.note.Rest zero>\n",
            "    {4.0} <music21.note.Rest zero>\n",
            "    {4.4167} <music21.note.Rest 1.25ql>\n",
            "    {4.5} <music21.note.Rest zero>\n",
            "    {5.0} <music21.note.Rest zero>\n",
            "    {5.5} <music21.note.Rest zero>\n",
            "    {5.6667} <music21.note.Note G>\n",
            "    {6.0} <music21.note.Rest zero>\n",
            "    {6.5} <music21.note.Rest zero>\n",
            "    {7.0} <music21.note.Rest zero>\n",
            "    {7.5} <music21.note.Rest zero>\n",
            "    {7.8333} <music21.note.Rest zero>\n",
            "    {8.25} <music21.note.Rest zero>\n",
            "    {9.3333} <music21.note.Rest 6.5ql>\n",
            "    {10.25} <music21.note.Rest zero>\n",
            "    {10.75} <music21.note.Rest zero>\n",
            "    {11.25} <music21.note.Rest zero>\n",
            "    {11.75} <music21.note.Rest zero>\n",
            "    {12.0} <music21.note.Rest zero>\n",
            "    {12.25} <music21.note.Rest zero>\n",
            "    {12.75} <music21.note.Rest zero>\n",
            "    {13.25} <music21.note.Rest zero>\n",
            "    {13.5} <music21.note.Rest zero>\n",
            "    {13.75} <music21.note.Rest zero>\n",
            "    {14.25} <music21.note.Rest zero>\n",
            "    {14.75} <music21.note.Rest zero>\n",
            "    {15.25} <music21.note.Rest zero>\n",
            "    {15.75} <music21.note.Rest zero>\n",
            "    {15.8333} <music21.note.Rest dotted-eighth>\n",
            "    {16.0833} <music21.note.Rest zero>\n",
            "    {16.5833} <music21.chord.Chord C3 F3 A3>\n",
            "    {16.75} <music21.note.Rest zero>\n",
            "    {17.5} <music21.note.Rest zero>\n",
            "    {18.75} <music21.note.Rest zero>\n",
            "    {19.25} <music21.note.Rest zero>\n",
            "    {19.3333} <music21.note.Rest 1.25ql>\n",
            "    {19.75} <music21.note.Rest zero>\n",
            "    {20.25} <music21.note.Rest zero>\n",
            "    {20.5833} <music21.note.Note A>\n",
            "    {20.75} <music21.note.Rest zero>\n",
            "    {21.25} <music21.note.Rest zero>\n",
            "    {21.75} <music21.note.Rest zero>\n",
            "    {22.0} <music21.note.Rest zero>\n",
            "    {22.25} <music21.note.Rest zero>\n",
            "    {22.75} <music21.note.Rest zero>\n",
            "    {23.25} <music21.note.Rest zero>\n",
            "    {23.5} <music21.note.Rest zero>\n",
            "    {23.5833} <music21.note.Rest quarter>\n",
            "    {23.75} <music21.note.Rest zero>\n",
            "    {24.5833} <music21.chord.Chord F3 A3>\n",
            "    {24.75} <music21.note.Rest zero>\n",
            "    {25.75} <music21.note.Rest zero>\n",
            "    {26.75} <music21.note.Rest zero>\n",
            "    {27.75} <music21.note.Rest zero>\n",
            "    {27.9167} <music21.chord.Chord F2 C3 A3>\n",
            "    {28.0833} <music21.note.Rest 5/3ql>\n",
            "    {28.25} <music21.note.Rest zero>\n",
            "    {28.75} <music21.note.Rest zero>\n",
            "    {29.25} <music21.note.Rest zero>\n",
            "    {29.75} <music21.note.Note A>\n",
            "    {30.25} <music21.note.Rest zero>\n",
            "    {30.75} <music21.note.Rest zero>\n",
            "    {31.25} <music21.note.Rest zero>\n",
            "    {31.4167} <music21.note.Rest 4/3ql>\n",
            "    {32.0} <music21.note.Rest zero>\n",
            "    {32.75} <music21.chord.Chord C3 G3>\n",
            "    {34.75} <music21.chord.Chord C3 G3>\n",
            "    {35.5} <music21.note.Rest 1.25ql>\n",
            "    {36.75} <music21.chord.Chord G2 D3 B3>\n",
            "    {38.75} <music21.note.Rest dotted-whole>\n",
            "    {42.75} <music21.note.Rest zero>\n",
            "    {43.75} <music21.note.Rest zero>\n",
            "    {44.75} <music21.chord.Chord A2 E3>\n",
            "    {45.25} <music21.note.Rest dotted-quarter>\n",
            "    {45.75} <music21.note.Rest zero>\n",
            "    {46.75} <music21.chord.Chord C2 G2 E3>\n",
            "    {47.0833} <music21.note.Rest zero>\n",
            "    {47.4167} <music21.note.Rest zero>\n",
            "    {48.0833} <music21.note.Rest zero>\n",
            "    {48.5833} <music21.note.Rest zero>\n",
            "    {48.8333} <music21.note.Rest zero>\n",
            "    {49.1667} <music21.note.Rest zero>\n",
            "    {49.25} <music21.chord.Chord D3 A3>\n",
            "    {49.8333} <music21.note.Rest zero>\n",
            "    {50.0833} <music21.note.Rest zero>\n",
            "    {50.4167} <music21.note.Rest zero>\n",
            "    {51.0833} <music21.note.Rest zero>\n",
            "    {52.0} <music21.note.Rest 2.25ql>\n",
            "    {52.0833} <music21.note.Rest zero>\n",
            "    {53.0833} <music21.note.Rest zero>\n",
            "    {53.5833} <music21.note.Rest zero>\n",
            "    {54.25} <music21.chord.Chord D3 A3>\n",
            "    {54.5833} <music21.note.Rest zero>\n",
            "    {54.75} <music21.note.Rest 4.5ql>\n",
            "    {55.25} <music21.note.Rest zero>\n",
            "    {59.25} <music21.note.Rest half>\n",
            "    {59.5833} <music21.note.Rest zero>\n",
            "    {60.25} <music21.note.Rest zero>\n",
            "    {60.5833} <music21.note.Rest zero>\n",
            "    {61.25} <music21.note.Note A>\n",
            "    {62.5833} <music21.note.Rest zero>\n",
            "    {63.25} <music21.note.Rest half>\n",
            "    {63.5833} <music21.note.Rest zero>\n",
            "    {64.0833} <music21.note.Rest zero>\n",
            "    {64.5833} <music21.note.Rest zero>\n",
            "    {65.0833} <music21.note.Rest zero>\n",
            "    {65.25} <music21.chord.Chord C3 G3>\n",
            "    {65.5833} <music21.note.Rest zero>\n",
            "    {65.8333} <music21.note.Rest zero>\n",
            "    {66.5833} <music21.note.Rest zero>\n",
            "    {67.5833} <music21.note.Rest zero>\n",
            "    {68.3333} <music21.note.Rest zero>\n",
            "    {68.5833} <music21.note.Rest zero>\n",
            "    {68.9167} <music21.note.Rest 2.5ql>\n",
            "    {70.25} <music21.note.Rest zero>\n",
            "    {71.4167} <music21.note.Note A>\n",
            "    {72.5833} <music21.note.Rest zero>\n",
            "    {73.4167} <music21.note.Note A>\n",
            "    {73.6667} <music21.note.Rest 1.75ql>\n",
            "    {74.5833} <music21.note.Rest zero>\n",
            "    {75.0833} <music21.note.Rest zero>\n",
            "    {75.4167} <music21.chord.Chord C3 E3 G3>\n",
            "    {75.5833} <music21.note.Rest zero>\n",
            "    {76.0833} <music21.note.Rest zero>\n",
            "    {76.3333} <music21.note.Rest zero>\n",
            "    {77.0833} <music21.note.Rest zero>\n",
            "    {77.4167} <music21.chord.Chord C3 E3 G3>\n",
            "    {78.0833} <music21.note.Rest zero>\n",
            "    {78.5833} <music21.note.Rest zero>\n",
            "    {78.9167} <music21.note.Rest 6.5ql>\n",
            "    {79.0833} <music21.note.Rest zero>\n",
            "    {80.5833} <music21.note.Rest zero>\n",
            "    {85.4167} <music21.chord.Chord F2 C3 A3>\n",
            "    {85.9167} <music21.note.Rest quarter>\n",
            "    {86.9167} <music21.note.Note G>\n",
            "    {87.0833} <music21.note.Rest zero>\n",
            "    {88.5833} <music21.note.Rest zero>\n",
            "    {88.9167} <music21.note.Note A>\n",
            "    {89.5833} <music21.note.Rest zero>\n",
            "    {90.0833} <music21.note.Rest zero>\n",
            "    {90.1667} <music21.note.Rest dotted-eighth>\n",
            "    {90.5833} <music21.note.Rest zero>\n",
            "    {90.9167} <music21.chord.Chord F3 A3>\n",
            "    {91.5833} <music21.note.Rest zero>\n",
            "    {91.9167} <music21.note.Rest eighth>\n",
            "    {92.0833} <music21.note.Rest zero>\n",
            "    {92.4167} <music21.chord.Chord G3 B3>\n",
            "    {92.5833} <music21.note.Rest zero>\n",
            "    {92.9167} <music21.note.Rest zero>\n",
            "    {93.5833} <music21.note.Rest zero>\n",
            "    {94.0833} <music21.note.Rest zero>\n",
            "    {94.3333} <music21.note.Rest zero>\n",
            "    {94.5833} <music21.note.Rest zero>\n",
            "    {94.8333} <music21.note.Rest zero>\n",
            "    {94.9167} <music21.chord.Chord C3 E3 G3>\n",
            "    {95.0833} <music21.note.Rest zero>\n",
            "    {95.5833} <music21.note.Rest zero>\n",
            "    {95.8333} <music21.note.Rest zero>\n",
            "    {95.9167} <music21.note.Rest quarter>\n",
            "    {96.8333} <music21.note.Rest zero>\n",
            "    {96.9167} <music21.note.Note A>\n",
            "    {97.5} <music21.note.Rest zero>\n",
            "    {97.8333} <music21.note.Rest zero>\n",
            "    {97.9167} <music21.note.Rest eighth>\n",
            "    {98.0833} <music21.note.Rest zero>\n",
            "    {98.3333} <music21.note.Rest zero>\n",
            "    {98.4167} <music21.chord.Chord G3 B3>\n",
            "    {98.5833} <music21.note.Rest zero>\n",
            "    {98.8333} <music21.note.Rest zero>\n",
            "    {99.5} <music21.note.Rest zero>\n",
            "    {99.8333} <music21.note.Rest zero>\n",
            "    {100.1667} <music21.note.Rest zero>\n",
            "    {100.75} <music21.note.Rest 5/3ql>\n",
            "    {100.8333} <music21.note.Rest zero>\n",
            "    {101.8333} <music21.note.Rest zero>\n",
            "    {102.4167} <music21.note.Rest 6.75ql>\n",
            "    {102.8333} <music21.note.Rest zero>\n",
            "    {103.5} <music21.note.Rest zero>\n",
            "    {104.8333} <music21.note.Rest zero>\n",
            "    {105.8333} <music21.note.Rest zero>\n",
            "    {106.8333} <music21.note.Rest zero>\n",
            "    {107.0833} <music21.note.Rest zero>\n",
            "    {108.8333} <music21.note.Rest zero>\n",
            "    {109.1667} <music21.chord.Chord G2 D3 G3 B3>\n",
            "    {109.3333} <music21.note.Rest zero>\n",
            "    {109.8333} <music21.note.Rest zero>\n",
            "    {110.1667} <music21.note.Rest zero>\n",
            "    {110.5833} <music21.note.Rest zero>\n",
            "    {111.0833} <music21.note.Rest zero>\n",
            "    {111.1667} <music21.note.Rest 6.5ql>\n",
            "    {111.5833} <music21.note.Rest zero>\n",
            "    {111.9167} <music21.note.Rest zero>\n",
            "    {112.5833} <music21.note.Rest zero>\n",
            "    {113.5833} <music21.note.Rest zero>\n",
            "    {114.0833} <music21.note.Rest zero>\n",
            "    {114.5833} <music21.note.Rest zero>\n",
            "    {115.0833} <music21.note.Rest zero>\n",
            "    {115.5833} <music21.note.Rest zero>\n",
            "    {117.0833} <music21.note.Rest zero>\n",
            "    {117.5833} <music21.note.Rest zero>\n",
            "    {117.6667} <music21.chord.Chord C3 G3>\n",
            "    {117.8333} <music21.note.Rest zero>\n",
            "    {118.0833} <music21.note.Rest zero>\n",
            "    {118.3333} <music21.note.Rest 16/3ql>\n",
            "    {118.8333} <music21.note.Rest zero>\n",
            "    {119.0833} <music21.note.Rest zero>\n",
            "    {119.3333} <music21.note.Rest zero>\n",
            "    {119.5833} <music21.note.Rest zero>\n",
            "    {120.3333} <music21.note.Rest zero>\n",
            "    {120.5833} <music21.note.Rest zero>\n",
            "    {120.8333} <music21.note.Rest zero>\n",
            "    {121.0833} <music21.note.Rest zero>\n",
            "    {121.5833} <music21.note.Rest zero>\n",
            "    {122.0833} <music21.note.Rest zero>\n",
            "    {122.5833} <music21.note.Rest zero>\n",
            "    {122.8333} <music21.note.Rest zero>\n",
            "    {123.0833} <music21.note.Rest zero>\n",
            "    {123.5833} <music21.note.Rest zero>\n",
            "    {123.6667} <music21.note.Rest dotted-quarter>\n",
            "    {124.0833} <music21.note.Rest zero>\n",
            "    {124.5833} <music21.note.Rest zero>\n",
            "    {125.0833} <music21.note.Rest zero>\n",
            "    {125.1667} <music21.chord.Chord A2 E3>\n",
            "    {125.5833} <music21.note.Rest zero>\n",
            "    {126.0833} <music21.note.Rest zero>\n",
            "    {126.4167} <music21.note.Rest zero>\n",
            "    {126.8333} <music21.note.Rest zero>\n",
            "    {127.3333} <music21.note.Rest zero>\n",
            "    {127.8333} <music21.note.Rest zero>\n",
            "    {128.1667} <music21.note.Rest 1.25ql>\n",
            "    {128.3333} <music21.note.Rest zero>\n",
            "    {128.5833} <music21.note.Rest zero>\n",
            "    {128.8333} <music21.note.Rest zero>\n",
            "    {129.3333} <music21.note.Rest zero>\n",
            "    {129.4167} <music21.chord.Chord A2 E3>\n",
            "    {129.8333} <music21.note.Rest zero>\n",
            "    {130.3333} <music21.note.Rest zero>\n",
            "    {130.8333} <music21.note.Rest zero>\n",
            "    {131.3333} <music21.note.Rest zero>\n",
            "    {131.6667} <music21.note.Rest 1.75ql>\n",
            "    {131.8333} <music21.note.Rest zero>\n",
            "    {132.3333} <music21.note.Rest zero>\n",
            "    {132.5833} <music21.note.Rest zero>\n",
            "    {132.8333} <music21.note.Rest zero>\n",
            "    {133.4167} <music21.chord.Chord C3 G3>\n",
            "    {133.5} <music21.note.Rest zero>\n",
            "    {133.8333} <music21.note.Rest zero>\n",
            "    {134.3333} <music21.note.Rest zero>\n",
            "    {134.8333} <music21.note.Rest zero>\n",
            "    {135.3333} <music21.note.Rest zero>\n",
            "    {135.8333} <music21.note.Rest zero>\n",
            "    {135.9167} <music21.note.Rest dotted-quarter>\n",
            "    {136.5833} <music21.note.Rest zero>\n",
            "    {136.8333} <music21.note.Rest zero>\n",
            "    {137.0833} <music21.note.Rest zero>\n",
            "    {137.4167} <music21.chord.Chord F2 C3 A3>\n",
            "    {137.5833} <music21.note.Rest zero>\n",
            "    {138.0833} <music21.note.Rest zero>\n",
            "    {138.3333} <music21.note.Rest zero>\n",
            "    {138.5833} <music21.note.Rest zero>\n",
            "    {138.8333} <music21.note.Rest zero>\n",
            "    {139.0833} <music21.note.Rest zero>\n",
            "    {139.5833} <music21.note.Rest zero>\n",
            "    {140.0833} <music21.note.Rest zero>\n",
            "    {140.4167} <music21.note.Rest quarter>\n",
            "    {140.5833} <music21.note.Rest zero>\n",
            "    {141.0833} <music21.note.Rest zero>\n",
            "    {141.4167} <music21.chord.Chord F2 C3 F3>\n",
            "    {142.0833} <music21.note.Rest zero>\n",
            "    {142.5833} <music21.note.Rest zero>\n",
            "    {142.8333} <music21.note.Rest zero>\n",
            "    {143.0833} <music21.note.Rest zero>\n",
            "    {143.5833} <music21.note.Rest zero>\n",
            "    {143.8333} <music21.note.Rest zero>\n",
            "    {144.3333} <music21.note.Rest zero>\n",
            "    {144.4167} <music21.note.Rest quarter>\n",
            "    {144.5833} <music21.note.Rest zero>\n",
            "    {144.9167} <music21.note.Rest zero>\n",
            "    {145.4167} <music21.note.Note A>\n",
            "    {145.5833} <music21.note.Rest zero>\n",
            "    {146.0833} <music21.note.Rest zero>\n",
            "    {146.5833} <music21.note.Rest zero>\n",
            "    {146.8333} <music21.note.Rest zero>\n",
            "    {147.0833} <music21.note.Rest zero>\n",
            "    {147.3333} <music21.note.Rest zero>\n",
            "    {148.0833} <music21.note.Rest zero>\n",
            "    {148.4167} <music21.note.Rest zero>\n",
            "    {148.6667} <music21.note.Rest dotted-eighth>\n",
            "    {149.0833} <music21.note.Rest zero>\n",
            "    {149.4167} <music21.note.Note F>\n",
            "    {150.0833} <music21.note.Rest zero>\n",
            "    {150.5833} <music21.note.Rest zero>\n",
            "    {150.9167} <music21.note.Rest zero>\n",
            "    {151.5833} <music21.note.Rest zero>\n",
            "    {151.9167} <music21.note.Rest zero>\n",
            "    {152.4167} <music21.note.Rest quarter>\n",
            "    {152.5833} <music21.note.Rest zero>\n",
            "    {152.9167} <music21.note.Rest zero>\n",
            "    {153.4167} <music21.chord.Chord F2 C3 F3>\n",
            "    {156.6667} <music21.note.Rest dotted-eighth>\n",
            "    {157.0833} <music21.note.Rest zero>\n",
            "    {157.4167} <music21.chord.Chord D3 A3>\n",
            "    {158.0833} <music21.note.Rest zero>\n",
            "    {158.4167} <music21.note.Rest zero>\n",
            "    {159.0833} <music21.note.Rest zero>\n",
            "    {159.5833} <music21.note.Rest zero>\n",
            "    {160.0833} <music21.note.Rest zero>\n",
            "    {160.4167} <music21.note.Rest quarter>\n",
            "    {161.4167} <music21.chord.Chord F3 A3>\n",
            "    {165.4167} <music21.note.Rest 3.5ql>\n",
            "    {165.8333} <music21.note.Rest zero>\n",
            "    {166.5833} <music21.note.Rest zero>\n",
            "    {166.8333} <music21.note.Rest zero>\n",
            "    {167.0833} <music21.note.Rest zero>\n",
            "    {168.9167} <music21.chord.Chord C3 G3>\n",
            "    {170.8333} <music21.note.Rest zero>\n",
            "    {171.5833} <music21.note.Rest zero>\n",
            "    {171.8333} <music21.note.Rest zero>\n",
            "    {172.0833} <music21.note.Rest zero>\n",
            "    {172.3333} <music21.note.Rest zero>\n",
            "    {172.5833} <music21.chord.Chord C3 G3>\n",
            "    {172.8333} <music21.note.Rest zero>\n",
            "    {173.0833} <music21.note.Rest zero>\n",
            "    {173.3333} <music21.note.Rest zero>\n",
            "    {173.8333} <music21.note.Rest zero>\n",
            "    {174.3333} <music21.note.Rest zero>\n",
            "    {174.5833} <music21.note.Rest dotted-whole>\n",
            "    {174.8333} <music21.note.Rest zero>\n",
            "    {176.8333} <music21.note.Rest zero>\n",
            "    {177.3333} <music21.note.Rest zero>\n",
            "    {177.8333} <music21.note.Rest zero>\n",
            "    {178.0833} <music21.note.Rest zero>\n",
            "    {178.3333} <music21.note.Rest zero>\n",
            "    {178.5833} <music21.note.Rest zero>\n",
            "    {178.8333} <music21.note.Rest zero>\n",
            "    {179.3333} <music21.note.Rest zero>\n",
            "    {179.8333} <music21.note.Rest zero>\n",
            "    {180.5833} <music21.chord.Chord F3 A3>\n",
            "    {181.0833} <music21.note.Rest zero>\n",
            "    {181.3333} <music21.note.Rest zero>\n",
            "    {181.5833} <music21.note.Rest quarter>\n",
            "    {181.8333} <music21.note.Rest zero>\n",
            "    {182.0833} <music21.note.Rest zero>\n",
            "    {182.3333} <music21.note.Rest zero>\n",
            "    {182.5833} <music21.chord.Chord G2 D3 B3>\n",
            "    {182.8333} <music21.note.Rest zero>\n",
            "    {183.3333} <music21.note.Rest zero>\n",
            "    {183.9167} <music21.note.Rest 5/6ql>\n",
            "    {184.3333} <music21.note.Rest zero>\n",
            "    {184.5833} <music21.note.Rest zero>\n",
            "    {184.75} <music21.chord.Chord A2 E3>\n",
            "    {184.8333} <music21.note.Rest zero>\n",
            "    {185.0833} <music21.note.Rest zero>\n",
            "    {185.3333} <music21.note.Rest zero>\n",
            "    {185.5833} <music21.note.Rest zero>\n",
            "    {185.8333} <music21.note.Rest zero>\n",
            "    {186.3333} <music21.note.Rest zero>\n",
            "    {186.8333} <music21.note.Rest zero>\n",
            "    {187.0} <music21.note.Rest 7/3ql>\n",
            "    {187.0833} <music21.note.Rest zero>\n",
            "    {187.3333} <music21.note.Rest zero>\n",
            "    {187.8333} <music21.note.Rest zero>\n",
            "    {188.0833} <music21.note.Rest zero>\n",
            "    {188.3333} <music21.note.Rest zero>\n",
            "    {188.5833} <music21.note.Rest zero>\n",
            "    {189.0833} <music21.note.Rest zero>\n",
            "    {189.3333} <music21.chord.Chord A2 E3>\n",
            "    {189.5833} <music21.note.Rest zero>\n",
            "    {192.3333} <music21.note.Rest quarter>\n",
            "    {193.3333} <music21.chord.Chord A2 E3 A3>\n",
            "    {193.8333} <music21.note.Rest zero>\n",
            "    {194.5833} <music21.note.Rest zero>\n",
            "    {195.0833} <music21.note.Rest zero>\n",
            "    {195.3333} <music21.note.Rest zero>\n",
            "    {196.0833} <music21.note.Rest zero>\n",
            "    {196.3333} <music21.note.Rest quarter>\n",
            "    {196.4167} <music21.note.Rest zero>\n",
            "    {197.0833} <music21.note.Rest zero>\n",
            "    {197.3333} <music21.chord.Chord A2 E3 A3>\n",
            "    {198.0833} <music21.note.Rest zero>\n",
            "    {198.8333} <music21.note.Rest zero>\n",
            "    {199.0833} <music21.note.Rest zero>\n",
            "    {199.5833} <music21.note.Rest zero>\n",
            "    {200.0833} <music21.note.Rest zero>\n",
            "    {200.3333} <music21.note.Rest zero>\n",
            "    {200.5833} <music21.note.Rest zero>\n",
            "    {200.6667} <music21.note.Rest whole>\n",
            "    {201.3333} <music21.note.Rest zero>\n",
            "    {201.5833} <music21.note.Rest zero>\n",
            "    {202.8333} <music21.note.Rest zero>\n",
            "    {203.0833} <music21.note.Rest zero>\n",
            "    {203.3333} <music21.note.Rest zero>\n",
            "    {203.8333} <music21.note.Rest zero>\n",
            "    {204.0833} <music21.note.Rest zero>\n",
            "    {204.3333} <music21.note.Rest zero>\n",
            "    {204.6667} <music21.note.Note F>\n",
            "    {204.8333} <music21.note.Rest zero>\n",
            "    {205.3333} <music21.note.Rest zero>\n",
            "    {205.8333} <music21.note.Rest zero>\n",
            "    {206.3333} <music21.note.Rest zero>\n",
            "    {206.6667} <music21.chord.Chord C3 G3>\n",
            "    {206.8333} <music21.note.Rest zero>\n",
            "    {207.3333} <music21.note.Rest zero>\n",
            "    {207.4167} <music21.note.Rest 1.25ql>\n",
            "    {207.8333} <music21.note.Rest zero>\n",
            "    {208.3333} <music21.note.Rest zero>\n",
            "    {208.6667} <music21.chord.Chord G2 D3 G3 B3>\n",
            "    {208.8333} <music21.note.Rest zero>\n",
            "    {209.3333} <music21.note.Rest zero>\n",
            "    {209.6667} <music21.note.Note B>\n",
            "    {209.8333} <music21.note.Rest zero>\n",
            "    {210.0} <music21.note.Rest 2/3ql>\n",
            "    {210.3333} <music21.note.Rest zero>\n",
            "    {210.6667} <music21.note.Note B>\n",
            "    {210.8333} <music21.note.Rest zero>\n",
            "    {211.0} <music21.note.Rest 7/3ql>\n",
            "    {211.3333} <music21.note.Rest zero>\n",
            "    {211.8333} <music21.note.Rest zero>\n",
            "    {212.3333} <music21.note.Rest zero>\n",
            "    {212.8333} <music21.note.Rest zero>\n",
            "    {213.3333} <music21.note.Rest 16th>\n",
            "    {213.5833} <music21.note.Note B>\n",
            "    {213.8333} <music21.note.Rest zero>\n",
            "    {213.9167} <music21.note.Rest 5/12ql>\n",
            "    {214.3333} <music21.chord.Chord A2 E3 A3>\n",
            "    {214.8333} <music21.note.Rest zero>\n",
            "    {215.3333} <music21.note.Rest zero>\n",
            "    {215.8333} <music21.note.Rest zero>\n",
            "    {216.3333} <music21.note.Rest zero>\n",
            "    {216.8333} <music21.note.Rest zero>\n",
            "    {217.0833} <music21.note.Rest 1.25ql>\n",
            "    {217.3333} <music21.note.Rest zero>\n",
            "    {217.8333} <music21.note.Rest zero>\n",
            "    {218.3333} <music21.chord.Chord G2 D3 B3>\n",
            "    {218.8333} <music21.note.Rest zero>\n",
            "    {219.3333} <music21.note.Rest zero>\n",
            "    {219.8333} <music21.note.Rest zero>\n",
            "    {220.3333} <music21.note.Rest zero>\n",
            "    {220.8333} <music21.note.Rest zero>\n",
            "    {221.0833} <music21.note.Rest 1.25ql>\n",
            "    {222.3333} <music21.chord.Chord A2 E3>\n",
            "    {224.8333} <music21.note.Rest dotted-quarter>\n",
            "    {226.3333} <music21.chord.Chord D2 D3>\n",
            "    {226.8333} <music21.chord.Chord E2 B2 G3>\n",
            "    {227.8333} <music21.note.Rest zero>\n",
            "    {228.3333} <music21.note.Rest zero>\n",
            "    {228.8333} <music21.note.Rest zero>\n",
            "    {229.3333} <music21.note.Rest zero>\n",
            "    {229.8333} <music21.note.Rest 2/3ql>\n",
            "    {230.0833} <music21.note.Rest zero>\n",
            "    {230.5} <music21.chord.Chord G3 B3>\n",
            "    {230.8333} <music21.note.Rest zero>\n",
            "    {231.0833} <music21.note.Rest zero>\n",
            "    {231.3333} <music21.note.Rest zero>\n",
            "    {232.0833} <music21.note.Rest zero>\n",
            "    {232.3333} <music21.note.Rest zero>\n",
            "    {232.5833} <music21.note.Rest zero>\n",
            "    {232.8333} <music21.note.Rest 5/3ql>\n",
            "    {234.25} <music21.note.Rest zero>\n",
            "    {234.5} <music21.chord.Chord G2 D3 B3>\n",
            "    {235.5} <music21.note.Rest 6.75ql>\n",
            "    {238.5833} <music21.note.Rest zero>\n",
            "    {239.5833} <music21.note.Rest zero>\n",
            "    {240.0833} <music21.note.Rest zero>\n",
            "    {240.3333} <music21.note.Rest zero>\n",
            "    {241.0833} <music21.note.Rest zero>\n",
            "    {242.0833} <music21.note.Rest zero>\n",
            "    {242.25} <music21.chord.Chord A2 E3>\n",
            "    {243.0833} <music21.note.Rest zero>\n",
            "    {244.0833} <music21.note.Rest zero>\n",
            "    {244.25} <music21.chord.Chord E3 B3>\n",
            "    {244.5833} <music21.note.Rest zero>\n",
            "    {245.0} <music21.note.Rest dotted-eighth>\n",
            "    {245.0833} <music21.note.Rest zero>\n",
            "    {245.4167} <music21.note.Rest zero>\n",
            "    {245.75} <music21.chord.Chord E3 G3 B3>\n",
            "    {246.0833} <music21.note.Rest zero>\n",
            "    {246.3333} <music21.note.Rest zero>\n",
            "    {246.8333} <music21.note.Rest zero>\n",
            "    {248.0} <music21.note.Rest 1/3ql>\n",
            "    {248.3333} <music21.note.Note G>\n",
            "    {248.8333} <music21.note.Rest zero>\n",
            "    {249.3333} <music21.note.Rest zero>\n",
            "    {249.5833} <music21.note.Rest quarter>\n",
            "    {249.8333} <music21.note.Rest zero>\n",
            "    {250.0833} <music21.note.Rest zero>\n",
            "    {250.5833} <music21.chord.Chord G2 D3 B3>\n",
            "    {250.8333} <music21.note.Rest zero>\n",
            "    {251.0833} <music21.note.Rest zero>\n",
            "    {251.3333} <music21.note.Rest zero>\n",
            "    {251.5833} <music21.note.Rest 2.5ql>\n",
            "    {252.0833} <music21.note.Rest zero>\n",
            "    {252.5833} <music21.note.Rest zero>\n",
            "    {253.8333} <music21.note.Rest zero>\n",
            "    {254.0833} <music21.note.Note A>\n",
            "    {254.5833} <music21.note.Rest zero>\n",
            "    {255.5833} <music21.note.Rest zero>\n",
            "    {256.0833} <music21.note.Note A>\n",
            "    {256.4167} <music21.note.Rest zero>\n",
            "    {256.6667} <music21.note.Rest zero>\n",
            "    {256.8333} <music21.note.Rest 1.25ql>\n",
            "    {256.9167} <music21.note.Rest zero>\n",
            "    {257.4167} <music21.note.Rest zero>\n",
            "    {258.0833} <music21.chord.Chord G3 B3>\n",
            "    {258.4167} <music21.note.Rest zero>\n",
            "    {258.9167} <music21.note.Rest zero>\n",
            "    {259.4167} <music21.note.Rest zero>\n",
            "    {259.9167} <music21.note.Rest zero>\n",
            "    {260.0833} <music21.chord.Chord G3 B3>\n",
            "    {260.1667} <music21.note.Rest zero>\n",
            "    {260.6667} <music21.note.Rest zero>\n",
            "    {261.4167} <music21.note.Rest zero>\n",
            "    {261.6667} <music21.note.Rest zero>\n",
            "    {262.0833} <music21.chord.Chord G3 B3>\n",
            "    {262.4167} <music21.note.Rest zero>\n",
            "    {262.9167} <music21.note.Rest zero>\n",
            "    {263.0833} <music21.note.Rest quarter>\n",
            "    {264.0833} <music21.chord.Chord G2 D3 B3>\n",
            "    {264.1667} <music21.note.Rest zero>\n",
            "    {264.4167} <music21.note.Rest zero>\n",
            "    {265.1667} <music21.note.Rest zero>\n",
            "    {265.6667} <music21.note.Rest zero>\n",
            "    {266.0833} <music21.note.Rest quarter>\n",
            "    {266.1667} <music21.note.Rest zero>\n",
            "    {266.4167} <music21.note.Rest zero>\n",
            "    {267.0833} <music21.chord.Chord D3 F3 A3>\n",
            "    {267.1667} <music21.note.Rest zero>\n",
            "    {267.4167} <music21.note.Rest zero>\n",
            "    {268.1667} <music21.note.Rest zero>\n"
          ]
        }
      ]
    },
    {
      "cell_type": "markdown",
      "source": [
        "### MIDI 파일 반복 생성"
      ],
      "metadata": {
        "id": "URkh5x_vIAwf"
      }
    },
    {
      "cell_type": "code",
      "source": [
        "loop = 10\n",
        "for i in range(loop):\n",
        "  # 숫자 데이터 생성하기\n",
        "  new_tc, new_bc = generate_notes(model, tc_nums, bc_nums, 500)\n",
        "  # 숫자로 된 데이터를 음표로 바꾸기\n",
        "  new_tc = nums_to_notes(new_tc, tc_notes)\n",
        "  new_bc = nums_to_notes(new_bc, bc_notes)\n",
        "  # 음자리별 음표 개수 맞추기\n",
        "  new_tc, new_bc = notes_equally(new_tc, new_bc)\n",
        "  # MIDI파일 생성하기\n",
        "  t = time.strftime(\"%y%m%d%H%M%S\", time.localtime(time.time()))\n",
        "  create_midi(new_tc, new_bc, fp=f\"output/niko/output-1BiLSTMAtt-200_{t}.mid\")"
      ],
      "metadata": {
        "id": "3P9wT-q_IAHG"
      },
      "execution_count": null,
      "outputs": []
    }
  ]
}